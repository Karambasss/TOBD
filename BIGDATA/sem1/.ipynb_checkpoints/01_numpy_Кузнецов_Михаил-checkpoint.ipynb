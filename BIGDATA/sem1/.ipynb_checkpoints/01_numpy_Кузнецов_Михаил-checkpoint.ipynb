{
 "cells": [
  {
   "cell_type": "markdown",
   "metadata": {},
   "source": [
    "# Numpy"
   ]
  },
  {
   "cell_type": "markdown",
   "metadata": {},
   "source": [
    "Материалы:\n",
    "* Макрушин С.В. \"Лекция 1: Библиотека Numpy\"\n",
    "* https://numpy.org/doc/stable/user/index.html\n",
    "* https://numpy.org/doc/stable/reference/index.html"
   ]
  },
  {
   "cell_type": "markdown",
   "metadata": {},
   "source": [
    "## Задачи для совместного разбора"
   ]
  },
  {
   "cell_type": "markdown",
   "metadata": {},
   "source": [
    "1. Сгенерировать двухмерный массив `arr` размерности (4, 7), состоящий из случайных действительных чисел, равномерно распределенных в диапазоне от 0 до 20. Нормализовать значения массива с помощью преобразования вида  $𝑎𝑥+𝑏$  так, что после нормализации максимальный элемент масcива будет равен 1.0, минимальный 0.0"
   ]
  },
  {
   "cell_type": "code",
   "execution_count": 3,
   "metadata": {},
   "outputs": [
    {
     "data": {
      "text/plain": [
       "array([[0.20470703, 0.09129699, 0.01483191, 0.6130977 , 0.58221694,\n",
       "        0.08343315, 1.        ],\n",
       "       [0.50239054, 0.98071202, 0.97992058, 0.40993727, 0.53888021,\n",
       "        0.03403992, 0.57885336],\n",
       "       [0.64119144, 0.59545646, 0.01042406, 1.        , 1.        ,\n",
       "        0.29004361, 0.72390792],\n",
       "       [0.17137979, 1.        , 0.56496494, 0.04475257, 0.60365653,\n",
       "        0.92716237, 1.        ]])"
      ]
     },
     "execution_count": 3,
     "metadata": {},
     "output_type": "execute_result"
    }
   ],
   "source": [
    "arr = np.random.uniform(0,20,size=(4,7))\n",
    "arr\n",
    "for i in range(len(arr)):\n",
    "    for j in range(len(arr[i])):\n",
    "        arr[i][j] = (arr[i][j] - np.min(arr))/(np.max(arr) - np.min(arr))\n",
    "arr"
   ]
  },
  {
   "cell_type": "code",
   "execution_count": 20,
   "metadata": {},
   "outputs": [
    {
     "data": {
      "text/plain": [
       "array([[0.20739582, 0.65861047, 0.23335181, 0.63486698, 0.3206422 ,\n",
       "        0.74307868, 0.99635823],\n",
       "       [0.62107891, 0.24605861, 0.31665295, 0.02089084, 0.51837247,\n",
       "        0.9849584 , 0.76248331],\n",
       "       [0.85389721, 0.44389996, 0.78204697, 0.17625344, 0.87712789,\n",
       "        0.23544358, 0.        ],\n",
       "       [0.35377522, 0.62563856, 1.        , 0.8126559 , 0.663417  ,\n",
       "        0.87064152, 0.99334594]])"
      ]
     },
     "execution_count": 20,
     "metadata": {},
     "output_type": "execute_result"
    }
   ],
   "source": [
    "arr = np.random.uniform(0,20,size=(4,7)) # uniform задает вещественные числа\n",
    "arr = (arr - np.min(arr))/(np.max(arr)-np.min(arr))\n",
    "arr"
   ]
  },
  {
   "cell_type": "markdown",
   "metadata": {},
   "source": [
    "2. Создать матрицу 8 на 10 из случайных целых (используя модуль `numpy.random`) чисел из диапозона от 0 до 10 и найти в ней строку (ее индекс и вывести саму строку), в которой сумма значений минимальна."
   ]
  },
  {
   "cell_type": "code",
   "execution_count": 21,
   "metadata": {},
   "outputs": [
    {
     "name": "stdout",
     "output_type": "stream",
     "text": [
      "[[5 7 4 4 5 8 2 0 0 2]\n",
      " [4 5 7 0 1 1 5 1 6 6]\n",
      " [5 9 7 8 7 5 2 8 9 7]\n",
      " [5 6 0 9 4 8 3 1 7 1]\n",
      " [1 9 5 5 3 3 9 8 0 8]\n",
      " [8 4 4 7 8 1 6 3 6 6]\n",
      " [9 7 4 4 1 8 6 0 5 0]\n",
      " [0 0 1 0 6 0 8 4 1 1]]\n",
      "Суммы в строках [37 36 67 44 51 53 44 21]\n",
      "Минимальная сумма в строке 21\n",
      "Индекс минимальной суммы в строке 7\n"
     ]
    }
   ],
   "source": [
    "arr = np.random.randint(0,10,size=(8,10)) # randint - задаем целые числа \n",
    "print(arr)\n",
    "\n",
    "arr_sum = (np.sum(arr, axis = 1))\n",
    "print(\"Суммы в строках\",  arr_sum)\n",
    "\n",
    "arr_min = np.min(arr_sum)\n",
    "arr_min_indx = arr_sum.argmin()\n",
    "\n",
    "print(\"Минимальная сумма в строке\", arr_min)\n",
    "print(\"Индекс минимальной суммы в строке\", arr_min_indx)"
   ]
  },
  {
   "cell_type": "markdown",
   "metadata": {},
   "source": [
    "3. Найти евклидово расстояние между двумя одномерными векторами одинаковой размерности."
   ]
  },
  {
   "cell_type": "markdown",
   "metadata": {},
   "source": [
    "4. Решить матричное уравнение `A*X*B=-C` - найти матрицу `X`. Где `A = [[-1, 2, 4], [-3, 1, 2], [-3, 0, 1]]`, `B=[[3, -1], [2, 1]]`, `C=[[7, 21], [11, 8], [8, 4]]`."
   ]
  },
  {
   "cell_type": "markdown",
   "metadata": {},
   "source": [
    "## Лабораторная работа №1"
   ]
  },
  {
   "cell_type": "markdown",
   "metadata": {},
   "source": [
    "Замечание: при решении данных задач не подразумевается использования циклов или генераторов Python, если в задании не сказано обратного. Решение должно опираться на использования функционала библиотеки `numpy`."
   ]
  },
  {
   "cell_type": "markdown",
   "metadata": {},
   "source": [
    "Всё, что ниже использует массив res из первых 5 записей - это для теста. Для сдачи нужно использовать массив result"
   ]
  },
  {
   "cell_type": "markdown",
   "metadata": {},
   "source": [
    "1. Файл `minutes_n_ingredients.csv` содержит информацию об идентификаторе рецепта, времени его выполнения в минутах и количестве необходимых ингредиентов. Считайте данные из этого файла в виде массива `numpy` типа `int32`, используя `np.loadtxt`. Выведите на экран первые 5 строк массива."
   ]
  },
  {
   "cell_type": "code",
   "execution_count": 18,
   "metadata": {},
   "outputs": [
    {
     "data": {
      "text/plain": [
       "array([  1,   5, 414,   5,  15,  14])"
      ]
     },
     "execution_count": 18,
     "metadata": {},
     "output_type": "execute_result"
    }
   ],
   "source": [
    "arr = [\n",
    "        [1,2,4,4,4,4,],\n",
    "        [1,5,414,5,15,14]\n",
    "        ]\n",
    "\n",
    "arr1 = np.array(arr)\n",
    "arr1[1,:]"
   ]
  },
  {
   "cell_type": "code",
   "execution_count": 73,
   "metadata": {},
   "outputs": [
    {
     "data": {
      "text/plain": [
       "array([[  1,   2,   4,   4,   4,   4],\n",
       "       [  1,   5, 414,   5,  15,  14]])"
      ]
     },
     "execution_count": 73,
     "metadata": {},
     "output_type": "execute_result"
    }
   ],
   "source": [
    "import numpy as np\n",
    "\n",
    "\n",
    "arr = [[1,2,4,4,4,4,],[1,5,414,5,15,14]]\n",
    "\n",
    "a = np.array(arr)\n",
    "a\n",
    "\n",
    "t = a[a[:,1] >= 2]\n",
    "t"
   ]
  },
  {
   "cell_type": "code",
   "execution_count": 37,
   "metadata": {},
   "outputs": [
    {
     "data": {
      "text/plain": [
       "9"
      ]
     },
     "execution_count": 37,
     "metadata": {},
     "output_type": "execute_result"
    }
   ],
   "source": [
    "e = a[a[:,1] > 2, 5] = 9\n",
    "e"
   ]
  },
  {
   "cell_type": "code",
   "execution_count": 34,
   "metadata": {},
   "outputs": [
    {
     "data": {
      "text/plain": [
       "array([[  1,   5, 414,   5,  15,  14]])"
      ]
     },
     "execution_count": 34,
     "metadata": {},
     "output_type": "execute_result"
    }
   ],
   "source": [
    "t"
   ]
  },
  {
   "cell_type": "code",
   "execution_count": 32,
   "metadata": {},
   "outputs": [
    {
     "data": {
      "text/plain": [
       "array([[127244,     60,     16]])"
      ]
     },
     "execution_count": 32,
     "metadata": {},
     "output_type": "execute_result"
    }
   ],
   "source": [
    "file_name = \"minutes_n_ingredients.csv\"\n",
    "# В результат запихиваем файл из csv + разделители - запятая + dtype - int32 (тип данных) + skiprows - это мы пропустим 1 строку\n",
    "result = np.loadtxt(file_name, delimiter=',', skiprows=1, dtype='int32')\n",
    "result[:1]"
   ]
  },
  {
   "cell_type": "code",
   "execution_count": 23,
   "metadata": {
    "scrolled": true
   },
   "outputs": [
    {
     "name": "stdout",
     "output_type": "stream",
     "text": [
      "Первые 5 записей с данными:  [[127244     60     16]\n",
      " [ 23891     25      7]\n",
      " [ 94746     10      6]\n",
      " [ 67660      5      6]\n",
      " [157911     60     14]]\n",
      "\n",
      "\n",
      "Все данные result:  [[127244     60     16]\n",
      " [ 23891     25      7]\n",
      " [ 94746     10      6]\n",
      " ...\n",
      " [498432     65     15]\n",
      " [370915      5      4]\n",
      " [ 81993    140     14]]\n"
     ]
    }
   ],
   "source": [
    "import numpy as np\n",
    "# имя файла из csv\n",
    "file_name = \"minutes_n_ingredients.csv\"\n",
    "# В результат запихиваем файл из csv + разделители - запятая + dtype - int32 (тип данных) + skiprows - это мы пропустим 1 строку\n",
    "result = np.loadtxt(file_name, delimiter=',', skiprows=1, dtype='int32')\n",
    "print(\"Первые 5 записей с данными: \" , result[:5])\n",
    "res = result[:5]\n",
    "print(\"\\n\")\n",
    "print(\"Все данные result: \", result )"
   ]
  },
  {
   "cell_type": "markdown",
   "metadata": {},
   "source": [
    "2. Вычислите среднее значение, минимум, максимум и медиану по каждому из столбцов, кроме первого."
   ]
  },
  {
   "cell_type": "code",
   "execution_count": 42,
   "metadata": {},
   "outputs": [
    {
     "name": "stdout",
     "output_type": "stream",
     "text": [
      "Минимум по 2 столбцу 0\n",
      "Максимум по 2 столбцу 2147483647\n",
      "Медиана по 2 столбцу 40.0\n",
      "Среднее по 2 столбцу 21601.00169\n",
      "Минимум по 3 столбцу 1\n",
      "Максимум по 3 столбцу 39\n",
      "Медиана по 3 столбцу 9.0\n",
      "Среднее по 3 столбцу 9.05528\n"
     ]
    }
   ],
   "source": [
    "for i in range(1,result.shape[1]):\n",
    "    min_1 = np.min(result, axis = 0)[i]\n",
    "    print(f\"Минимум по {i+1} столбцу\",min_1)\n",
    "    max_1 = np.max(result, axis = 0)[i]\n",
    "    print(f\"Максимум по {i+1} столбцу\", max_1)\n",
    "    median_1 = np.median(result, axis = 0)[i]\n",
    "    print(f\"Медиана по {i+1} столбцу\", median_1)\n",
    "    mean_1 = np.mean(result, axis = 0)[i] \n",
    "    print(f\"Среднее по {i+1} столбцу\", mean_1)"
   ]
  },
  {
   "cell_type": "code",
   "execution_count": 77,
   "metadata": {},
   "outputs": [
    {
     "name": "stdout",
     "output_type": "stream",
     "text": [
      "Минимум [38  0  1]\n"
     ]
    }
   ],
   "source": [
    "min_1 = np.min(result, axis = 0)\n",
    "print(f\"Минимум\", min_1)"
   ]
  },
  {
   "cell_type": "code",
   "execution_count": 41,
   "metadata": {},
   "outputs": [
    {
     "name": "stdout",
     "output_type": "stream",
     "text": [
      "Минимум [0 1]\n",
      "Максимум [2147483647         39]\n",
      "Среднееу [2.16010017e+04 9.05528000e+00]\n",
      "Медиана [40.  9.]\n"
     ]
    }
   ],
   "source": [
    "min_1 = np.min(result, axis = 0)[1:]\n",
    "print(f\"Минимум\", min_1)\n",
    "\n",
    "max_1 = np.max(result, axis = 0)[1:]\n",
    "print(\"Максимум\", max_1)\n",
    "\n",
    "mean_1 = np.mean(result, axis = 0)[1:] \n",
    "print(\"Среднее\", mean_1)\n",
    "\n",
    "median_1 = np.median(result, axis = 0)[1:]\n",
    "print(\"Медиана\", median_1)"
   ]
  },
  {
   "cell_type": "code",
   "execution_count": 5,
   "metadata": {},
   "outputs": [
    {
     "name": "stdout",
     "output_type": "stream",
     "text": [
      "Минимум по 2 столбцу 0\n",
      "Максимум по 2 столбцу 2147483647\n",
      "Среднее по 2 столбцу 21601.00169\n",
      "Медиана по 2 столбцу 40.0\n",
      "Минимум по 3 столбцу 1\n",
      "Максимум по 3 столбцу 39\n",
      "Среднее по 3 столбцу 9.05528\n",
      "Медиана по 3 столбцу 9.0\n",
      "[2.16010017e+04 9.05528000e+00]\n"
     ]
    }
   ],
   "source": [
    "#help(np.min)\n",
    "\n",
    "#axis  = 0 - это по столбцам, а axis = 1 - это по строкам\n",
    "min_1 = np.min(result, axis = 0)[1] #[1] - ищем минимум по 1 столбцу \n",
    "print(\"Минимум по 2 столбцу\", min_1)\n",
    "\n",
    "max_1 = np.max(result, axis = 0)[1]\n",
    "print(\"Максимум по 2 столбцу\", max_1)\n",
    "\n",
    "mean_1 = np.mean(result, axis = 0)[1] \n",
    "print(\"Среднее по 2 столбцу\", mean_1)\n",
    "\n",
    "median_1 = np.median(result, axis = 0)[1]\n",
    "print(\"Медиана по 2 столбцу\", median_1)\n",
    "\n",
    "min_2 = np.amin(result, axis = 0)[2]\n",
    "print(\"Минимум по 3 столбцу\", min_2)\n",
    "\n",
    "max_2 = np.amax(result, axis = 0)[2]\n",
    "print(\"Максимум по 3 столбцу\", max_2)\n",
    "\n",
    "mean_2 = np.mean(result, axis = 0)[2]\n",
    "print(\"Среднее по 3 столбцу\", mean_2)\n",
    "\n",
    "median_2 = np.median(result, axis = 0)[2]\n",
    "print(\"Медиана по 3 столбцу\", median_2)\n",
    "\n",
    "\n",
    "mean2all = np.mean(result[:, 1:], axis = 0)\n",
    "print(mean2all)"
   ]
  },
  {
   "cell_type": "markdown",
   "metadata": {},
   "source": [
    "3. Ограничьте сверху значения продолжительности выполнения рецепта значением квантиля $q_{0.75}$. "
   ]
  },
  {
   "cell_type": "code",
   "execution_count": 72,
   "metadata": {},
   "outputs": [
    {
     "name": "stdout",
     "output_type": "stream",
     "text": [
      "Квантиль для продолжительности выполнения рецепта: 65.0\n",
      "[ True  True  True ...  True  True False]\n",
      "[[127244     60     16]\n",
      " [ 23891     25      7]\n",
      " [ 94746     10      6]\n",
      " ...\n",
      " [ 43407     35      7]\n",
      " [498432     65     15]\n",
      " [370915      5      4]]\n"
     ]
    }
   ],
   "source": [
    "#все значения которые больше этого квантиля меняем\n",
    "quantile = np.quantile(result, q = 0.75, axis = 0)[1]\n",
    "print(\"Квантиль для продолжительности выполнения рецепта:\" , quantile)\n",
    "#axis = 0 - столбцы, axis = 1 - строки\n",
    "print(result[:,1] <= quantile)\n",
    "print(result[result[:,1] <= quantile])"
   ]
  },
  {
   "cell_type": "markdown",
   "metadata": {},
   "source": [
    "4. Посчитайте, для скольких рецептов указана продолжительность, равная нулю. Замените для таких строк значение в данном столбце на 1."
   ]
  },
  {
   "cell_type": "code",
   "execution_count": 53,
   "metadata": {},
   "outputs": [
    {
     "name": "stdout",
     "output_type": "stream",
     "text": [
      "[[9325    0   10]\n",
      " [2828    0    8]\n",
      " [8008    0   11]\n",
      " ...\n",
      " [3383    0    7]\n",
      " [2778    0   11]\n",
      " [4747    0    9]]\n",
      "Вся продолжительность [ 60  25  10 ...  65   5 140]\n",
      "Строки, в которых продолжительность 0: [[9325    0   10]\n",
      " [2828    0    8]\n",
      " [8008    0   11]\n",
      " ...\n",
      " [3383    0    7]\n",
      " [2778    0   11]\n",
      " [4747    0    9]]\n",
      "кол-во 479\n",
      "[[9325    1   10]\n",
      " [2828    1    8]\n",
      " [8008    1   11]\n",
      " ...\n",
      " [3383    1    7]\n",
      " [2778    1   11]\n",
      " [4747    1    9]]\n",
      "\n",
      "\n",
      "Второй способ с изменением данных\n",
      "[[127244     60     16]\n",
      " [ 23891     25      7]\n",
      " [ 94746     10      6]\n",
      " ...\n",
      " [498432     65     15]\n",
      " [370915      5      4]\n",
      " [ 81993    140     14]]\n",
      "[False False False ... False False False]\n",
      "fff [[127244     60     16]\n",
      " [ 23891     25      7]\n",
      " [ 94746     10      6]\n",
      " ...\n",
      " [498432     65     15]\n",
      " [370915      5      4]\n",
      " [ 81993    140     14]]\n",
      "[[127244     60     16]\n",
      " [ 23891     25      7]\n",
      " [ 94746     10      6]\n",
      " ...\n",
      " [498432     65     15]\n",
      " [370915      5      4]\n",
      " [ 81993    140     14]]\n"
     ]
    }
   ],
   "source": [
    "#print(result[:, 1] == 0)\n",
    "prod = result[result[:, 1] == 0] # будет сгенерирован массив [True, False, True, False и тд], потом, если в массиве\n",
    "print(prod)\n",
    "# будет true, то result[true], возвратит нам строку в которой содержится элемент, удовлетворяющую условию \n",
    "#result[:, 1] - идем по всем строкам 2 столбца\n",
    "\n",
    "print(\"Вся продолжительность\", result[:, 1])\n",
    "print(\"Строки, в которых продолжительность 0:\" , prod)\n",
    "\n",
    "print(\"кол-во\", len(prod))\n",
    "#или print(np.count_nonzero(mask))\n",
    "prod[:, 1] = 1 # пройдем по всем строкам 2 столбца, в которых прод = 0 и присвоим им 1\n",
    "print(prod)\n",
    "print(\"\\n\")\n",
    "\n",
    "print(\"Второй способ с изменением данных\")\n",
    "\n",
    "new_result = result.copy() #новые данные\n",
    "print(new_result)\n",
    "mask = new_result[:, 1] == 0 #пройдем по всем строкам 2 столбца, в которых прод = 0\n",
    "print(mask)\n",
    "\n",
    "new_result[:, 1][mask] = 1 #идем по всем строкам 2 столбца где mask(столбец = true), туда подставляется 1 вместо 0\n",
    "\n",
    "new_result[mask,1] = 1\n",
    "print(\"fff\", new_result)\n",
    "print(new_result)"
   ]
  },
  {
   "cell_type": "markdown",
   "metadata": {},
   "source": [
    "5. Посчитайте, сколько уникальных рецептов находится в датасете."
   ]
  },
  {
   "cell_type": "code",
   "execution_count": 100,
   "metadata": {},
   "outputs": [
    {
     "data": {
      "text/plain": [
       "array([[1, 1, 1],\n",
       "       [2, 2, 2],\n",
       "       [3, 3, 3]])"
      ]
     },
     "execution_count": 100,
     "metadata": {},
     "output_type": "execute_result"
    }
   ],
   "source": [
    "a1 = np.array([\n",
    "    [2, 2, 2],\n",
    "    [1, 1, 1],\n",
    "    [3, 3, 3]\n",
    "])\n",
    "np.unique(a1, axis=0)"
   ]
  },
  {
   "cell_type": "code",
   "execution_count": 101,
   "metadata": {},
   "outputs": [
    {
     "data": {
      "text/plain": [
       "array([[2],\n",
       "       [1],\n",
       "       [3]])"
      ]
     },
     "execution_count": 101,
     "metadata": {},
     "output_type": "execute_result"
    }
   ],
   "source": [
    "np.unique(a1, axis=1)"
   ]
  },
  {
   "cell_type": "code",
   "execution_count": 93,
   "metadata": {},
   "outputs": [
    {
     "data": {
      "text/plain": [
       "array([[1, 2, 1],\n",
       "       [1, 2, 2]])"
      ]
     },
     "execution_count": 93,
     "metadata": {},
     "output_type": "execute_result"
    }
   ],
   "source": [
    "a = np.array([\n",
    "    [1,2,2],\n",
    "    [1,2,1],\n",
    "    [1,2,2]])\n",
    "np.unique(a,axis = 0) # axis = 0 => по строкам"
   ]
  },
  {
   "cell_type": "code",
   "execution_count": 94,
   "metadata": {},
   "outputs": [
    {
     "data": {
      "text/plain": [
       "array([[1, 2, 2],\n",
       "       [1, 1, 2],\n",
       "       [1, 2, 2]])"
      ]
     },
     "execution_count": 94,
     "metadata": {},
     "output_type": "execute_result"
    }
   ],
   "source": [
    "np.unique(a,axis = 1) # axis = 1 => по столбцам: "
   ]
  },
  {
   "cell_type": "code",
   "execution_count": 102,
   "metadata": {},
   "outputs": [
    {
     "name": "stdout",
     "output_type": "stream",
     "text": [
      "new res [[127244     60     16]\n",
      " [ 23891     25      7]\n",
      " [ 94746     10      6]\n",
      " ...\n",
      " [498432     65     15]\n",
      " [370915      5      4]\n",
      " [ 81993    140     14]]\n",
      "[[         1          2]\n",
      " [         1          3]\n",
      " [         1          4]\n",
      " ...\n",
      " [    259205          2]\n",
      " [    259260          7]\n",
      " [2147483647          8]]\n",
      "Второй способ - уникальный рецепт:\n",
      "  [[    38   1485      4]\n",
      " [    41   1460     15]\n",
      " [    43    140     15]\n",
      " ...\n",
      " [537458     42     11]\n",
      " [537485     45      5]\n",
      " [537671    135     12]] \n",
      " Длина: 100000 \n",
      " Кол-во повторений: (array([         1,          2,          3, ...,     537485,     537671,\n",
      "       2147483647]), array([ 729, 1738, 3358, ...,    1,    1,    1], dtype=int64))\n"
     ]
    }
   ],
   "source": [
    "print(\"new res\", new_result)\n",
    "\n",
    "\n",
    "unique_colums = np.unique(new_result[:, 1:], axis = 0) #считаем, сколько уникальных (shape[0] - считает кол-во строк: уникальное кол-во ингр и время)\n",
    "print(unique_colums)\n",
    "\n",
    "#print(\"Уникальные в 2 столбце\", np.unique(new_result[:, 1], axis = 0).shape[0])\n",
    "\n",
    "t_uniq = np.unique(new_result, axis = 0)\n",
    "print(\"Второй способ - уникальный рецепт:\\n \", t_uniq, \"\\n Длина:\", t_uniq.shape[0], \"\\n Кол-во повторений:\", np.unique(new_result, return_counts=True))\n",
    "#len(unique_colums) == len(unique_rows)"
   ]
  },
  {
   "cell_type": "markdown",
   "metadata": {},
   "source": [
    "6. Сколько и каких различных значений кол-ва ингредиентов присутвует в рецептах из датасета?"
   ]
  },
  {
   "cell_type": "code",
   "execution_count": 107,
   "metadata": {},
   "outputs": [
    {
     "name": "stdout",
     "output_type": "stream",
     "text": [
      "[ 1  2  3  4  5  6  7  8  9 10 11 12 13 14 15 16 17 18 19 20 21 22 23 24\n",
      " 25 26 27 28 29 30 31 32 33 34 35 37 39]\n"
     ]
    }
   ],
   "source": [
    "unique_num1 = np.unique(new_result[:, 2])\n",
    "print(unique_num1)"
   ]
  },
  {
   "cell_type": "code",
   "execution_count": 104,
   "metadata": {
    "scrolled": true
   },
   "outputs": [
    {
     "name": "stdout",
     "output_type": "stream",
     "text": [
      "Уникальные кол-ва инг:  [ 1  2  3  4  5  6  7  8  9 10 11 12 13 14 15 16 17 18 19 20 21 22 23 24\n",
      " 25 26 27 28 29 30 31 32 33 34 35 37 39]\n",
      "Кол-во различных значений 37\n"
     ]
    }
   ],
   "source": [
    "unique_num = np.unique(new_result[:, 2], axis = 0) # массив numpy где его элементами будут являться уникальные строки 2 столбца  \n",
    "print(\"Уникальные кол-ва инг: \", unique_num)\n",
    "print(\"Кол-во различных значений\" , unique_num.shape[0]) # так же как и len(unique_num) ищет длину массива"
   ]
  },
  {
   "cell_type": "markdown",
   "metadata": {},
   "source": [
    "7. Создайте версию массива, содержащую информацию только о рецептах, состоящих не более чем из 5 ингредиентов."
   ]
  },
  {
   "cell_type": "code",
   "execution_count": 200,
   "metadata": {},
   "outputs": [
    {
     "name": "stdout",
     "output_type": "stream",
     "text": [
      "Исходные данные \n",
      " [[127244     60     16]\n",
      " [ 23891     25      7]\n",
      " [ 94746     10      6]\n",
      " ...\n",
      " [498432     65     15]\n",
      " [370915      5      4]\n",
      " [ 81993    140     14]] \n",
      "\n",
      "Все рецепты =  [16  7  6 ... 15  4 14] \n",
      "\n",
      "Нужные рецепты не более 5 ингредиентов: \n",
      " [[446597     15      5]\n",
      " [204134      5      3]\n",
      " [ 25623      6      4]\n",
      " ...\n",
      " [ 52088     60      5]\n",
      " [128811     15      4]\n",
      " [370915      5      4]]\n"
     ]
    }
   ],
   "source": [
    "print(\"Исходные данные \\n\", new_result, \"\\n\")\n",
    "recipes = new_result[:, 2] \n",
    "print(\"Все рецепты = \", recipes,\"\\n\")\n",
    "\n",
    "new_recipes = new_result[np.where(recipes <= 5 )] # тут проверяется на соответствие условию - потом подставляется в new_recipes строки, выполнившие данное условие\n",
    "print(\"Нужные рецепты не более 5 ингредиентов: \\n\", new_recipes)"
   ]
  },
  {
   "cell_type": "markdown",
   "metadata": {},
   "source": [
    "8. Для каждого рецепта посчитайте, сколько в среднем ингредиентов приходится на одну минуту рецепта. Найдите максимальное значение этой величины для всего датасета"
   ]
  },
  {
   "cell_type": "code",
   "execution_count": 207,
   "metadata": {},
   "outputs": [
    {
     "name": "stdout",
     "output_type": "stream",
     "text": [
      "Время приготовления рецепта [ 60  25  10 ...  65   5 140]\n",
      "Количество ингредиентов [16  7  6 ... 15  4 14]\n",
      "Количество ингредиентов на 1 минуту рецепта:  [0.26666667 0.28       0.6        ... 0.23076923 0.8        0.1       ]\n",
      "Максимальное кол-во ингредиентов из всех данных :  24.0\n"
     ]
    }
   ],
   "source": [
    "minutes_ing = new_result[:, 1]\n",
    "n_ing = new_result[:, 2]\n",
    "\n",
    "print(\"Время приготовления рецепта\", minutes_ing)\n",
    "print(\"Количество ингредиентов\", n_ing)\n",
    "# чтобы посчитать, кол-во ингредиентов на минуту, надо кол-во поделить на время приготовления\n",
    "print(\"Количество ингредиентов на 1 минуту рецепта: \", n_ing / minutes_ing)\n",
    "max_ingr = np.max(n_ing / minutes_ing)\n",
    "print(\"Максимальное кол-во ингредиентов из всех данных : \", max_ingr)"
   ]
  },
  {
   "cell_type": "markdown",
   "metadata": {},
   "source": [
    "9. Вычислите среднее количество ингредиентов для топ-100 рецептов с наибольшей продолжительностью"
   ]
  },
  {
   "cell_type": "code",
   "execution_count": 223,
   "metadata": {},
   "outputs": [
    {
     "name": "stdout",
     "output_type": "stream",
     "text": [
      "Исходные данные [[127244     60     16]\n",
      " [ 23891     25      7]\n",
      " [ 94746     10      6]\n",
      " ...\n",
      " [498432     65     15]\n",
      " [370915      5      4]\n",
      " [ 81993    140     14]]\n",
      "Отсортированные данные по убыванию [[    261647 2147483647          8]\n",
      " [    216215     259260          7]\n",
      " [    425681     259205          2]\n",
      " ...\n",
      " [    155921          1          2]\n",
      " [      2778          1         11]\n",
      " [      4747          1          9]]\n",
      "Длина отсортированных данных  100000\n",
      "Кол-во данных для топ 100 рецептов 100\n",
      "Среднее кол-во ингредиентов 6.63\n"
     ]
    }
   ],
   "source": [
    "print(\"Исходные данные\", new_result)\n",
    "\n",
    "res1 = np.array(sorted(new_result, key=lambda x :x[1], reverse=True)) #lambda здесь для того, чтобы подставлять new_result на место x и идти по 2 столбцу \n",
    "print(\"Отсортированные данные по убыванию\", res1)\n",
    "print(\"Длина отсортированных данных \", res1.shape[0])\n",
    "#Далее возьмем топ 100 рецептов с наиб продолжительностью\n",
    "answer = res1[:100]\n",
    "print(\"Кол-во данных для топ 100 рецептов\", answer.shape[0])\n",
    "# Среднее кол-во ищем ингредиентов\n",
    "mean_top100 = np.mean(answer, axis = 0)\n",
    "print(\"Среднее кол-во ингредиентов\", mean_top100[2])"
   ]
  },
  {
   "cell_type": "markdown",
   "metadata": {},
   "source": [
    "10. Выберите случайным образом и выведите информацию о 10 различных рецептах"
   ]
  },
  {
   "cell_type": "code",
   "execution_count": 15,
   "metadata": {},
   "outputs": [
    {
     "name": "stdout",
     "output_type": "stream",
     "text": [
      "fafsa [[ 92204     20      7]\n",
      " [ 98823      5      5]\n",
      " [292557     30      9]\n",
      " ...\n",
      " [267535    255     12]\n",
      " [115076     55     13]\n",
      " [250866      5      9]]\n",
      "Случайные 10 рецептов: \n",
      " [[ 92204     20      7]\n",
      " [ 98823      5      5]\n",
      " [292557     30      9]\n",
      " [130560     25      7]\n",
      " [504329     30      8]\n",
      " [135728     35     12]\n",
      " [ 49125     35      8]\n",
      " [365753     35     13]\n",
      " [ 32509     30      6]\n",
      " [ 77893    485      7]]\n"
     ]
    }
   ],
   "source": [
    "rand_3 = np.random.permutation(new_result)\n",
    "rand2 = rand_3\n",
    "print(\"fafsa\", rand2)\n",
    "print(\"Случайные 10 рецептов: \\n\", rand_3[:10])"
   ]
  },
  {
   "cell_type": "markdown",
   "metadata": {},
   "source": [
    "11. Выведите процент рецептов, кол-во ингредиентов в которых меньше среднего."
   ]
  },
  {
   "cell_type": "code",
   "execution_count": 238,
   "metadata": {},
   "outputs": [
    {
     "name": "stdout",
     "output_type": "stream",
     "text": [
      "Ингредиенты:  [16  7  6 ... 15  4 14]\n",
      "Среднее по кол-ву ингредиентов 9.05528\n",
      "Рецепты, в которых кол-во ингрeдиентов меньше среднего: \n",
      " [[ 23891     25      7]\n",
      " [ 94746     10      6]\n",
      " [ 67660      5      6]\n",
      " ...\n",
      " [371794     35      8]\n",
      " [ 43407     35      7]\n",
      " [370915      5      4]] \n",
      " Количество таких рецептов:  58802\n",
      "58.802 %\n"
     ]
    }
   ],
   "source": [
    "#это фактически кол-во рецептов, в которых колво ингредиентов меньше среднего, <mean_2 делить на общее число рецептов. А это длина массива new_result\n",
    "\n",
    "n_ingredients = new_result[:, 2] #Столбец с ингредиентами\n",
    "print(\"Ингредиенты: \" , n_ingredients)\n",
    "mean_ingredients = np.mean(new_result, axis = 0)[2] # тут мы берем среднее по 2 столбцу (то есть, по ингредиентам)\n",
    "print(\"Среднее по кол-ву ингредиентов\", mean_ingredients)\n",
    "kolvo_rez = new_result[np.where(n_ingredients <= mean_ingredients)]\n",
    "print(\"Рецепты, в которых кол-во ингрeдиентов меньше среднего: \\n\", kolvo_rez, \"\\n\",\"Количество таких рецептов: \", kolvo_rez.shape[0])\n",
    "# процент будет считаться как кол-во рецептов / кол-во данных * 100\n",
    "\n",
    "print(len(kolvo_rez) * 100 / len(new_result), \"%\")"
   ]
  },
  {
   "cell_type": "markdown",
   "metadata": {},
   "source": [
    "12. Назовем \"простым\" такой рецепт, длительность выполнения которого не больше 20 минут и кол-во ингредиентов в котором не больше 5. Создайте версию датасета с дополнительным столбцом, значениями которого являются 1, если рецепт простой, и 0 в противном случае."
   ]
  },
  {
   "cell_type": "code",
   "execution_count": 249,
   "metadata": {},
   "outputs": [
    {
     "name": "stdout",
     "output_type": "stream",
     "text": [
      "Просто показываю строки удовлетворяющие условию:\n",
      " [[446597     15      5]\n",
      " [204134      5      3]\n",
      " [ 25623      6      4]\n",
      " ...\n",
      " [ 60756     15      5]\n",
      " [128811     15      4]\n",
      " [370915      5      4]] \n",
      "Их кол-во:  9552\n",
      "Mask = [False False False ... False  True False]\n",
      "Версия датасета с дополнительным столбцом:\n",
      " [[127244     60     16      0]\n",
      " [ 23891     25      7      0]\n",
      " [ 94746     10      6      0]\n",
      " ...\n",
      " [498432     65     15      0]\n",
      " [370915      5      4      1]\n",
      " [ 81993    140     14      0]]\n"
     ]
    }
   ],
   "source": [
    "mask1 = new_result[np.where((new_result[:, 1] <= 20) & (new_result[:, 2] <= 5))] #если хотим получить строку с рецептом\n",
    "print(\"Просто показываю строки удовлетворяющие условию:\\n\" ,mask1, \"\\nИх кол-во: \", mask1.shape[0])\n",
    "\n",
    "mask = ((new_result[:, 1] <= 20) & (new_result[:, 2] <= 5))\n",
    "print(\"Mask =\", mask)\n",
    "rez = np.c_[new_result, mask] #.c_ :это обЪект, который сцепляет столбцы new_result с маск, то есть, создает еще один столбец (где значение маски = true, будет написано 0, иначе 1)\n",
    "print(\"Версия датасета с дополнительным столбцом:\\n\", rez)"
   ]
  },
  {
   "cell_type": "markdown",
   "metadata": {},
   "source": [
    "13. Выведите процент \"простых\" рецептов в датасете"
   ]
  },
  {
   "cell_type": "code",
   "execution_count": 258,
   "metadata": {},
   "outputs": [
    {
     "name": "stdout",
     "output_type": "stream",
     "text": [
      "Первый способ для получения кол-ва простых рецептов:  9552\n",
      "Второй способ для получения кол-ва простых рецептов 9552\n",
      "100000\n",
      "9.552 %\n"
     ]
    }
   ],
   "source": [
    "simple_recipe1 = np.sum(rez[:, 3])\n",
    "print(\"Первый способ для получения кол-ва простых рецептов: \", simple_recipe1)\n",
    "\n",
    "simple_recipe = np.sum(rez, axis = 0) #np.sum просумирует ток то, где 1 - true - простые рецепты\n",
    "#print(\"проверка\", simple_recipe)\n",
    "print(\"Второй способ для получения кол-ва простых рецептов\", simple_recipe[3])\n",
    "\n",
    "print(simple_recipe[3] * 100 / rez.shape[0], \"%\")"
   ]
  },
  {
   "cell_type": "markdown",
   "metadata": {},
   "source": [
    "14. Разделим рецепты на группы по следующему правилу. Назовем рецепты короткими, если их продолжительность составляет менее 10 минут; стандартными, если их продолжительность составляет более 10, но менее 20 минут; и длинными, если их продолжительность составляет не менее 20 минут. Создайте трехмерный массив, где нулевая ось отвечает за номер группы (короткий, стандартный или длинный рецепт), первая ось - за сам рецепт и вторая ось - за характеристики рецепта. Выберите максимальное количество рецептов из каждой группы таким образом, чтобы было возможно сформировать трехмерный массив. Выведите форму полученного массива."
   ]
  },
  {
   "cell_type": "code",
   "execution_count": 13,
   "metadata": {},
   "outputs": [
    {
     "name": "stdout",
     "output_type": "stream",
     "text": [
      "Короткий рецепт:\n",
      " [[ 94746     10      6]\n",
      " [ 67660      5      6]\n",
      " [366174      7      9]\n",
      " ...\n",
      " [420725      5      3]\n",
      " [  4747      1      9]\n",
      " [370915      5      4]]\n",
      "Средний рецепт:\n",
      " [[ 33941     18      9]\n",
      " [446597     15      5]\n",
      " [ 81006     12      7]\n",
      " ...\n",
      " [ 44120     17      5]\n",
      " [ 60756     15      5]\n",
      " [128811     15      4]]\n",
      "Долгий рецепт:\n",
      " [[127244     60     16]\n",
      " [ 23891     25      7]\n",
      " [157911     60     14]\n",
      " ...\n",
      " [287943     85     15]\n",
      " [498432     65     15]\n",
      " [ 81993    140     14]]\n",
      "Размеры:\n",
      " Короткий рецепт: (12466, 3) \n",
      " Средний рецепт: (7783, 3) \n",
      " Долгий рецепт: (79751, 3)\n",
      " Минимальный размер: 7783\n",
      "Полученный итоговый 3 мерный массив:\n",
      " [[[ 94746     10      6]\n",
      "  [ 67660      5      6]\n",
      "  [366174      7      9]\n",
      "  ...\n",
      "  [  7983      1      6]\n",
      "  [184171      5      2]\n",
      "  [ 89181      5      7]]\n",
      "\n",
      " [[ 33941     18      9]\n",
      "  [446597     15      5]\n",
      "  [ 81006     12      7]\n",
      "  ...\n",
      "  [ 44120     17      5]\n",
      "  [ 60756     15      5]\n",
      "  [128811     15      4]]\n",
      "\n",
      " [[127244     60     16]\n",
      "  [ 23891     25      7]\n",
      "  [157911     60     14]\n",
      "  ...\n",
      "  [186515    220     11]\n",
      "  [372540     50      6]\n",
      "  [172926    120     13]]]\n"
     ]
    }
   ],
   "source": [
    "time_min = new_result[:, 1] # для удобства\n",
    "\n",
    "short_rec = new_result[np.where(time_min <= 10)]\n",
    "print(\"Короткий рецепт:\\n\" , short_rec)\n",
    "\n",
    "standart_rec = new_result[np.where((time_min > 10) & (time_min < 20))]\n",
    "print(\"Средний рецепт:\\n\", standart_rec)\n",
    "\n",
    "long_rec = new_result[np.where(time_min >= 20)]\n",
    "print(\"Долгий рецепт:\\n\", long_rec)\n",
    "\n",
    "print(\"Размеры:\\n\", \"Короткий рецепт:\", short_rec.shape, \"\\n Средний рецепт:\", standart_rec.shape, \"\\n Долгий рецепт:\", long_rec.shape)\n",
    "\n",
    "min_shape = min(short_rec.shape[0], standart_rec.shape[0], long_rec.shape[0]) #сюда попадет число, которое является общим - максимальным кол-вом рецептов ДЛЯ каждой из групп в общем ( когда будем в 3 мерный подставлять массив, надо будет чтобы у него были общие размеры, если выберем только один общий, подходящий для всех, то получится массив создать)\n",
    "print(\" Минимальный размер:\" , min_shape)\n",
    "\n",
    "# Зная минимальный размер, режем все до минимального размера и вставляем как кортеж в np.stack \n",
    "itog_array = np.stack([short_rec[ : min_shape], standart_rec[ : min_shape], long_rec[ : min_shape]])\n",
    "print(\"Полученный итоговый 3 мерный массив:\\n\", itog_array)"
   ]
  }
 ],
 "metadata": {
  "kernelspec": {
   "display_name": "Python 3",
   "language": "python",
   "name": "python3"
  },
  "language_info": {
   "codemirror_mode": {
    "name": "ipython",
    "version": 3
   },
   "file_extension": ".py",
   "mimetype": "text/x-python",
   "name": "python",
   "nbconvert_exporter": "python",
   "pygments_lexer": "ipython3",
   "version": "3.8.5"
  }
 },
 "nbformat": 4,
 "nbformat_minor": 4
}
