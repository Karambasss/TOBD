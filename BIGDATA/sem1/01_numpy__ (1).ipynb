{
 "cells": [
  {
   "cell_type": "markdown",
   "metadata": {},
   "source": [
    "# Numpy"
   ]
  },
  {
   "cell_type": "markdown",
   "metadata": {},
   "source": [
    "Материалы:\n",
    "* Макрушин С.В. \"Лекция 1: Библиотека Numpy\"\n",
    "* https://numpy.org/doc/stable/user/index.html\n",
    "* https://numpy.org/doc/stable/reference/index.html"
   ]
  },
  {
   "cell_type": "markdown",
   "metadata": {},
   "source": [
    "## Задачи для совместного разбора"
   ]
  },
  {
   "cell_type": "markdown",
   "metadata": {},
   "source": [
    "1. Сгенерировать двухмерный массив `arr` размерности (4, 7), состоящий из случайных действительных чисел, равномерно распределенных в диапазоне от 0 до 20. Нормализовать значения массива с помощью преобразования вида  $𝑎𝑥+𝑏$  так, что после нормализации максимальный элемент масcива будет равен 1.0, минимальный 0.0"
   ]
  },
  {
   "cell_type": "code",
   "execution_count": 31,
   "metadata": {},
   "outputs": [
    {
     "data": {
      "text/plain": [
       "array([[0.85920024, 0.21048132, 0.09436009, 0.78944887, 0.11155215,\n",
       "        0.67098151, 0.42164806],\n",
       "       [0.34112504, 0.87079618, 0.40817726, 0.44816923, 0.14478494,\n",
       "        0.78897244, 0.60087748],\n",
       "       [0.8400135 , 0.88465501, 0.39624289, 0.6733499 , 0.00430155,\n",
       "        0.23807232, 0.51858299],\n",
       "       [0.76129072, 0.59258657, 0.93052185, 0.42617733, 0.32040103,\n",
       "        1.        , 1.        ]])"
      ]
     },
     "execution_count": 31,
     "metadata": {},
     "output_type": "execute_result"
    }
   ],
   "source": [
    "arr = np.random.uniform(0,20,size=(4,7))\n",
    "arr\n",
    "for i in range(len(arr)):\n",
    "    for j in range(len(arr[i])):\n",
    "        arr[i][j] = (arr[i][j] - np.min(arr))/(np.max(arr) - np.min(arr))\n",
    "arr"
   ]
  },
  {
   "cell_type": "code",
   "execution_count": 32,
   "metadata": {},
   "outputs": [
    {
     "data": {
      "text/plain": [
       "array([[0.15645779, 0.54022265, 0.31048096, 1.        , 0.92897401,\n",
       "        0.66492573, 0.93797404],\n",
       "       [0.15554872, 0.60856035, 0.91845582, 0.78455054, 0.20004495,\n",
       "        0.87008967, 0.        ],\n",
       "       [0.28605291, 0.08458561, 0.34480448, 0.26011013, 0.50508509,\n",
       "        0.86440273, 0.07500881],\n",
       "       [0.70947643, 0.23216815, 0.25378945, 0.95203514, 0.47654846,\n",
       "        0.56713973, 0.16781348]])"
      ]
     },
     "execution_count": 32,
     "metadata": {},
     "output_type": "execute_result"
    }
   ],
   "source": [
    "arr = np.random.uniform(0,20,size=(4,7)) # uniform задает вещественные числа\n",
    "arr = (arr - np.min(arr))/(np.max(arr)-np.min(arr))\n",
    "arr"
   ]
  },
  {
   "cell_type": "code",
   "execution_count": null,
   "metadata": {},
   "outputs": [],
   "source": []
  },
  {
   "cell_type": "markdown",
   "metadata": {},
   "source": [
    "2. Создать матрицу 8 на 10 из случайных целых (используя модуль `numpy.random`) чисел из диапозона от 0 до 10 и найти в ней строку (ее индекс и вывести саму строку), в которой сумма значений минимальна."
   ]
  },
  {
   "cell_type": "code",
   "execution_count": null,
   "metadata": {},
   "outputs": [],
   "source": [
    "arr = np.random.randint(0,10,size=(8,11)) # randint - задаем целые числа \n",
    "print(arr)\n",
    "\n",
    "arr_sum = (np.sum(arr, axis = 1))\n",
    "print(\"Суммы в строках\",  arr_sum)\n",
    "\n",
    "arr_min = np.min(arr_sum)\n",
    "arr_min_indx = arr_sum.argmin()\n",
    "\n",
    "print(\"Минимальная сумма в строке\", arr_min)\n",
    "print(\"Индекс минимальной суммы в строке\", arr_min_indx)"
   ]
  },
  {
   "cell_type": "markdown",
   "metadata": {},
   "source": [
    "3. Найти евклидово расстояние между двумя одномерными векторами одинаковой размерности."
   ]
  },
  {
   "cell_type": "markdown",
   "metadata": {},
   "source": [
    "4. Решить матричное уравнение `A*X*B=-C` - найти матрицу `X`. Где `A = [[-1, 2, 4], [-3, 1, 2], [-3, 0, 1]]`, `B=[[3, -1], [2, 1]]`, `C=[[7, 21], [11, 8], [8, 4]]`."
   ]
  },
  {
   "cell_type": "markdown",
   "metadata": {},
   "source": [
    "## Лабораторная работа №1"
   ]
  },
  {
   "cell_type": "markdown",
   "metadata": {},
   "source": [
    "Замечание: при решении данных задач не подразумевается использования циклов или генераторов Python, если в задании не сказано обратного. Решение должно опираться на использования функционала библиотеки `numpy`."
   ]
  },
  {
   "cell_type": "markdown",
   "metadata": {},
   "source": [
    "Всё, что ниже использует массив res из первых 5 записей - это для теста. Для сдачи нужно использовать массив result"
   ]
  },
  {
   "cell_type": "markdown",
   "metadata": {},
   "source": [
    "1. Файл `minutes_n_ingredients.csv` содержит информацию об идентификаторе рецепта, времени его выполнения в минутах и количестве необходимых ингредиентов. Считайте данные из этого файла в виде массива `numpy` типа `int32`, используя `np.loadtxt`. Выведите на экран первые 5 строк массива."
   ]
  },
  {
   "cell_type": "code",
   "execution_count": 77,
   "metadata": {},
   "outputs": [
    {
     "name": "stdout",
     "output_type": "stream",
     "text": [
      "[[127244     60     16]\n",
      " [ 23891     25      7]\n",
      " [ 94746     10      6]\n",
      " [127244     60     16]\n",
      " [157911     60     14]]\n"
     ]
    }
   ],
   "source": [
    "import numpy as np\n",
    "file_name = \"minutes_n_ingredients.csv\"\n",
    "result = np.loadtxt(file_name, delimiter=',', skiprows=1, dtype='int32')\n",
    "print(result[:5])\n",
    "res = result[:10]"
   ]
  },
  {
   "cell_type": "markdown",
   "metadata": {},
   "source": [
    "2. Вычислите среднее значение, минимум, максимум и медиану по каждому из столбцов, кроме первого."
   ]
  },
  {
   "cell_type": "code",
   "execution_count": 3,
   "metadata": {},
   "outputs": [
    {
     "name": "stdout",
     "output_type": "stream",
     "text": [
      "60.0 14.0\n",
      "43.0 11.8\n",
      "10 6\n",
      "60 16\n"
     ]
    }
   ],
   "source": [
    "min_1 = np.amin(res, axis=0)[1]\n",
    "min_2 = np.amin(res, axis=0)[2]\n",
    "\n",
    "max_1 = np.amax(res, axis=0)[1]\n",
    "max_2 = np.amax(res, axis=0)[2]\n",
    "\n",
    "mean_1 = np.mean(res, axis=0)[1]\n",
    "mean_2 = np.mean(res, axis=0)[2]\n",
    "\n",
    "median_1 = np.median(res, axis=0)[1]\n",
    "median_2 = np.median(res, axis=0)[2]\n",
    "\n",
    "print(median_1, median_2)\n",
    "\n",
    "print(mean_1, mean_2)\n",
    "\n",
    "print(min_1, min_2)\n",
    "print(max_1, max_2)\n"
   ]
  },
  {
   "cell_type": "markdown",
   "metadata": {},
   "source": [
    "3. Ограничьте сверху значения продолжительности выполнения рецепта значением квантиля $q_{0.75}$. "
   ]
  },
  {
   "cell_type": "code",
   "execution_count": 4,
   "metadata": {},
   "outputs": [
    {
     "name": "stdout",
     "output_type": "stream",
     "text": [
      "65.0\n"
     ]
    }
   ],
   "source": [
    "a = np.quantile(result, q = 0.75, axis = 0)[1]\n",
    "#axis = 0 - стобцы, axis = 1 - строки\n",
    "print(a)"
   ]
  },
  {
   "cell_type": "markdown",
   "metadata": {},
   "source": [
    "4. Посчитайте, для скольких рецептов указана продолжительность, равная нулю. Замените для таких строк значение в данном столбце на 1."
   ]
  },
  {
   "cell_type": "code",
   "execution_count": 85,
   "metadata": {},
   "outputs": [
    {
     "name": "stdout",
     "output_type": "stream",
     "text": [
      "res =  [[127244     60     16]\n",
      " [ 23891     25      7]\n",
      " [ 94746     10      6]\n",
      " [127244     60     16]\n",
      " [157911     60     14]\n",
      " [152828     40      7]\n",
      " [ 33941     18      9]\n",
      " [446597     15      5]\n",
      " [366174      7      9]\n",
      " [ 74205     20      7]]\n",
      "itog =  [[127244     60     16]\n",
      " [127244     60     16]\n",
      " [157911     60     14]]\n",
      "\n",
      " result= [[127244      1     16]\n",
      " [127244      1     16]\n",
      " [157911      1     14]]\n"
     ]
    }
   ],
   "source": [
    "print(\"res = \", res)\n",
    "answ = res[res[:, 1] == 60]\n",
    "print(\"itog = \", answ)\n",
    "\n",
    "answ[:, 1] = 1\n",
    "print(\"\\n result=\", answ)"
   ]
  },
  {
   "cell_type": "markdown",
   "metadata": {},
   "source": [
    "5. Посчитайте, сколько уникальных рецептов находится в датасете."
   ]
  },
  {
   "cell_type": "code",
   "execution_count": 6,
   "metadata": {},
   "outputs": [
    {
     "name": "stdout",
     "output_type": "stream",
     "text": [
      "[[ 23891     25      7]\n",
      " [ 94746     10      6]\n",
      " [127244     60     16]\n",
      " [157911     60     14]]\n",
      "4\n"
     ]
    }
   ],
   "source": [
    "arr = [[1, 1, 1, 0, 0, 0],\n",
    "       [0, 1, 1, 1, 0, 0],\n",
    "       [0, 1, 1, 1, 0, 0],\n",
    "       [1, 1, 1, 0, 0, 0],\n",
    "       [1, 1, 1, 1, 1, 0]]\n",
    "#только вместо arr наш массив, это просто для теста\n",
    "unique_rows = np.unique(res, axis=0)\n",
    "print(unique_rows)\n",
    "print(len(unique_rows))"
   ]
  },
  {
   "cell_type": "markdown",
   "metadata": {},
   "source": [
    "6. Сколько и каких различных значений кол-ва ингредиентов присутвует в рецептах из датасета?"
   ]
  },
  {
   "cell_type": "code",
   "execution_count": 54,
   "metadata": {},
   "outputs": [
    {
     "name": "stdout",
     "output_type": "stream",
     "text": [
      "[[127244     60     16]\n",
      " [ 23891     25      7]\n",
      " [ 94746     10      6]\n",
      " [127244     60     16]\n",
      " [157911     60     14]]\n",
      "[16  7  6 16 14]\n",
      "[ 6  7 14 16]\n",
      "Kolvo unikalnih =  4\n"
     ]
    }
   ],
   "source": [
    "print(res)\n",
    "a = res[:,2]\n",
    "print(a)\n",
    "unique_ingr = np.unique(a, axis=0)\n",
    "print(unique_ingr)\n",
    "print(\"Kolvo unikalnih = \", len(unique_ingr))"
   ]
  },
  {
   "cell_type": "markdown",
   "metadata": {},
   "source": [
    "7. Создайте версию массива, содержащую информацию только о рецептах, состоящих не более чем из 5 ингредиентов."
   ]
  },
  {
   "cell_type": "code",
   "execution_count": 7,
   "metadata": {},
   "outputs": [
    {
     "name": "stdout",
     "output_type": "stream",
     "text": [
      "[[127244     60     16]\n",
      " [ 23891     25      7]\n",
      " [ 94746     10      6]\n",
      " [127244     60     16]\n",
      " [157911     60     14]]\n",
      "s =  [16  7  6 16 14]\n",
      "[[23891    25     7]\n",
      " [94746    10     6]]\n"
     ]
    }
   ],
   "source": [
    "print(res)\n",
    "s = res[:, 2]\n",
    "print(\"s = \", s)\n",
    "print(res[np.where((s <= 10))])"
   ]
  },
  {
   "cell_type": "markdown",
   "metadata": {},
   "source": [
    "8. Для каждого рецепта посчитайте, сколько в среднем ингредиентов приходится на одну минуту рецепта. Найдите максимальное значение этой величины для всего датасета"
   ]
  },
  {
   "cell_type": "code",
   "execution_count": 8,
   "metadata": {},
   "outputs": [
    {
     "name": "stdout",
     "output_type": "stream",
     "text": [
      "s1 =  [60 25 10 60 60]\n",
      "0.6 0.6\n",
      "[0.26666667 0.28       0.6        0.26666667 0.23333333]\n"
     ]
    }
   ],
   "source": [
    "s = res[:, 2]\n",
    "s1 = res[:, 1]\n",
    "print(\"s1 = \", s1)\n",
    "max_avr = max(s / s1)\n",
    "max_2_avr = np.max(s / s1)\n",
    "print(max_2_avr, max_avr)\n",
    "print(s / s1)"
   ]
  },
  {
   "cell_type": "markdown",
   "metadata": {},
   "source": [
    "9. Вычислите среднее количество ингредиентов для топ-100 рецептов с наибольшей продолжительностью"
   ]
  },
  {
   "cell_type": "code",
   "execution_count": 9,
   "metadata": {},
   "outputs": [
    {
     "name": "stdout",
     "output_type": "stream",
     "text": [
      "[[127244     60     16]\n",
      " [127244     60     16]\n",
      " [157911     60     14]\n",
      " [ 23891     25      7]\n",
      " [ 94746     10      6]]\n",
      "15.333333333333334\n"
     ]
    }
   ],
   "source": [
    "res1 = np.array(sorted(res, key=lambda x :x[1], reverse=True))\n",
    "print(res1)\n",
    "answer = res1[:3]\n",
    "mean_answ = np.mean(answer, axis=0)[2]\n",
    "print(mean_answ)"
   ]
  },
  {
   "cell_type": "markdown",
   "metadata": {},
   "source": [
    "10. Выберите случайным образом и выведите информацию о 10 различных рецептах"
   ]
  },
  {
   "cell_type": "code",
   "execution_count": 10,
   "metadata": {},
   "outputs": [
    {
     "name": "stdout",
     "output_type": "stream",
     "text": [
      "[[ 94746     10      6]\n",
      " [157911     60     14]\n",
      " [127244     60     16]]\n"
     ]
    }
   ],
   "source": [
    "rand_3 = np.random.permutation(res)[:3] #для нашего массива\n",
    "print(rand_3)"
   ]
  },
  {
   "cell_type": "markdown",
   "metadata": {},
   "source": [
    "11. Выведите процент рецептов, кол-во ингредиентов в которых меньше среднего."
   ]
  },
  {
   "cell_type": "code",
   "execution_count": 1,
   "metadata": {},
   "outputs": [
    {
     "ename": "NameError",
     "evalue": "name 'res' is not defined",
     "output_type": "error",
     "traceback": [
      "\u001b[1;31m---------------------------------------------------------------------------\u001b[0m",
      "\u001b[1;31mNameError\u001b[0m                                 Traceback (most recent call last)",
      "\u001b[1;32m<ipython-input-1-2913550ad35c>\u001b[0m in \u001b[0;36m<module>\u001b[1;34m\u001b[0m\n\u001b[0;32m      1\u001b[0m \u001b[1;31m#это фактически кол-во рецептов, в которых колво ингредиентов меньше среднего, <mean_2 делить на общее число рецептов. А это длина массива res\u001b[0m\u001b[1;33m\u001b[0m\u001b[1;33m\u001b[0m\u001b[1;33m\u001b[0m\u001b[0m\n\u001b[1;32m----> 2\u001b[1;33m \u001b[0ms\u001b[0m \u001b[1;33m=\u001b[0m \u001b[0mres\u001b[0m\u001b[1;33m[\u001b[0m\u001b[1;33m:\u001b[0m\u001b[1;33m,\u001b[0m\u001b[1;36m2\u001b[0m\u001b[1;33m]\u001b[0m\u001b[1;33m\u001b[0m\u001b[1;33m\u001b[0m\u001b[0m\n\u001b[0m\u001b[0;32m      3\u001b[0m \u001b[0mkolvo_rez\u001b[0m \u001b[1;33m=\u001b[0m \u001b[0mres\u001b[0m\u001b[1;33m[\u001b[0m\u001b[0mnp\u001b[0m\u001b[1;33m.\u001b[0m\u001b[0mwhere\u001b[0m\u001b[1;33m(\u001b[0m\u001b[0ms\u001b[0m \u001b[1;33m<\u001b[0m \u001b[0mmean_2\u001b[0m\u001b[1;33m)\u001b[0m\u001b[1;33m]\u001b[0m\u001b[1;33m\u001b[0m\u001b[1;33m\u001b[0m\u001b[0m\n\u001b[0;32m      4\u001b[0m \u001b[0mprint\u001b[0m\u001b[1;33m(\u001b[0m\u001b[0mlen\u001b[0m\u001b[1;33m(\u001b[0m\u001b[0mkolvo_rez\u001b[0m\u001b[1;33m)\u001b[0m \u001b[1;33m/\u001b[0m \u001b[0mlen\u001b[0m\u001b[1;33m(\u001b[0m\u001b[0mres\u001b[0m\u001b[1;33m)\u001b[0m \u001b[1;33m*\u001b[0m \u001b[1;36m100\u001b[0m\u001b[1;33m,\u001b[0m \u001b[1;34m\"%\"\u001b[0m\u001b[1;33m)\u001b[0m\u001b[1;33m\u001b[0m\u001b[1;33m\u001b[0m\u001b[0m\n",
      "\u001b[1;31mNameError\u001b[0m: name 'res' is not defined"
     ]
    }
   ],
   "source": [
    "#это фактически кол-во рецептов, в которых колво ингредиентов меньше среднего, <mean_2 делить на общее число рецептов. А это длина массива res\n",
    "s = res[:,2]\n",
    "kolvo_rez = res[np.where(s < mean_2)]\n",
    "print(len(kolvo_rez) / len(res) * 100, \"%\")"
   ]
  },
  {
   "cell_type": "markdown",
   "metadata": {},
   "source": [
    "12. Назовем \"простым\" такой рецепт, длительность выполнения которого не больше 20 минут и кол-во ингредиентов в котором не больше 5. Создайте версию датасета с дополнительным столбцом, значениями которого являются 1, если рецепт простой, и 0 в противном случае."
   ]
  },
  {
   "cell_type": "code",
   "execution_count": 116,
   "metadata": {},
   "outputs": [
    {
     "name": "stdout",
     "output_type": "stream",
     "text": [
      "[[127244     60     16      0]\n",
      " [ 23891     25      7      0]\n",
      " [ 94746     10      6      0]\n",
      " [127244     60     16      0]\n",
      " [157911     60     14      0]\n",
      " [152828     40      7      0]\n",
      " [ 33941     18      9      0]\n",
      " [446597     15      5      0]\n",
      " [366174      7      9      0]\n",
      " [ 74205     20      7      0]]\n",
      "time_min =  [60 25 10 60 60 40 18 15  7 20]\n",
      "ingr =  [16  7  6 16 14  7  9  5  9  7]\n",
      "[False False  True False False False  True  True  True  True]\n",
      "[[127244     60     16      0]\n",
      " [ 23891     25      7      0]\n",
      " [ 94746     10      6      1]\n",
      " [127244     60     16      0]\n",
      " [157911     60     14      0]\n",
      " [152828     40      7      0]\n",
      " [ 33941     18      9      1]\n",
      " [446597     15      5      1]\n",
      " [366174      7      9      1]\n",
      " [ 74205     20      7      1]]\n"
     ]
    }
   ],
   "source": [
    "res_simple = np.insert(res, 3, 0, axis=1)#добавление столбца. 3 - наш столбец должен стать 3м, 0 - то, что мы добавляем \n",
    "print(res_simple)\n",
    "ingr = res_simple[:, 2]\n",
    "time_min = res_simple[:, 1]\n",
    "print(\"time_min = \", time_min)\n",
    "print(\"ingr = \", ingr)\n",
    "\n",
    "mask = (ingr <= 10) & (time_min <= 20)\n",
    "print(mask)\n",
    "new_res_simpl = np.c_[res, mask] #какой то объект, который сцепляет столбцы\n",
    "print(new_res_simpl)"
   ]
  },
  {
   "cell_type": "markdown",
   "metadata": {},
   "source": [
    "13. Выведите процент \"простых\" рецептов в датасете"
   ]
  },
  {
   "cell_type": "code",
   "execution_count": 120,
   "metadata": {},
   "outputs": [
    {
     "name": "stdout",
     "output_type": "stream",
     "text": [
      "50.0\n"
     ]
    }
   ],
   "source": [
    "kolvo_simple = np.sum(new_res_simpl, axis=0)\n",
    "# print(kolvo_simple)\n",
    "print(kolvo_simple[3] / len(res) * 100)"
   ]
  },
  {
   "cell_type": "markdown",
   "metadata": {},
   "source": [
    "14. Разделим рецепты на группы по следующему правилу. Назовем рецепты короткими, если их продолжительность составляет менее 10 минут; стандартными, если их продолжительность составляет более 10, но менее 20 минут; и длинными, если их продолжительность составляет не менее 20 минут. Создайте трехмерный массив, где нулевая ось отвечает за номер группы (короткий, стандартный или длинный рецепт), первая ось - за сам рецепт и вторая ось - за характеристики рецепта. Выберите максимальное количество рецептов из каждой группы таким образом, чтобы было возможно сформировать трехмерный массив. Выведите форму полученного массива."
   ]
  },
  {
   "cell_type": "code",
   "execution_count": null,
   "metadata": {},
   "outputs": [],
   "source": []
  },
  {
   "cell_type": "code",
   "execution_count": 125,
   "metadata": {},
   "outputs": [
    {
     "name": "stdout",
     "output_type": "stream",
     "text": [
      "shape short (2, 3)\n",
      "short =  [[ 94746     10      6]\n",
      " [366174      7      9]]\n",
      "shape standart (2, 3)\n",
      "standart =  [[ 33941     18      9]\n",
      " [446597     15      5]]\n",
      "shape long (6, 3)\n",
      "long =  [[127244     60     16]\n",
      " [ 23891     25      7]\n",
      " [127244     60     16]\n",
      " [157911     60     14]\n",
      " [152828     40      7]\n",
      " [ 74205     20      7]]\n",
      "itog =  [[[ 94746     10      6]\n",
      "  [366174      7      9]]\n",
      "\n",
      " [[ 33941     18      9]\n",
      "  [446597     15      5]]\n",
      "\n",
      " [[127244     60     16]\n",
      "  [ 23891     25      7]]]\n"
     ]
    }
   ],
   "source": [
    "time_min = res[:, 1]\n",
    "short_rec = res[np.where((time_min <= 10))]\n",
    "standart_rec = res[np.where((time_min > 10) & (time_min < 20))]\n",
    "long_rec = res[np.where((time_min >= 20))]\n",
    "print(\"shape short\", short_rec.shape)\n",
    "print(\"short = \", short_rec)\n",
    "print(\"shape standart\", standart_rec.shape)\n",
    "print(\"standart = \", standart_rec)\n",
    "print(\"shape long\", long_rec.shape)\n",
    "print(\"long = \", long_rec)\n",
    "\n",
    "\n",
    "min_shape_1 = min(short_rec.shape[0], standart_rec.shape[0], long_rec.shape[0])\n",
    "\n",
    "my_arr = np.stack((short_rec[:min_shape_1], standart_rec[:min_shape_1],long_rec[:min_shape_1]))\n",
    "print(\"itog = \", my_arr)\n"
   ]
  },
  {
   "cell_type": "code",
   "execution_count": null,
   "metadata": {},
   "outputs": [],
   "source": [
    "lst = [1,2,5,10,47,92]\n",
    "lst\n"
   ]
  },
  {
   "cell_type": "code",
   "execution_count": null,
   "metadata": {},
   "outputs": [],
   "source": [
    "[i**2 for i in lst]\n"
   ]
  },
  {
   "cell_type": "code",
   "execution_count": null,
   "metadata": {},
   "outputs": [],
   "source": [
    "import numpy as np"
   ]
  },
  {
   "cell_type": "code",
   "execution_count": null,
   "metadata": {},
   "outputs": [],
   "source": [
    "arr = np.array(lst)\n",
    "arr"
   ]
  },
  {
   "cell_type": "code",
   "execution_count": null,
   "metadata": {},
   "outputs": [],
   "source": [
    "arr + arr"
   ]
  },
  {
   "cell_type": "code",
   "execution_count": null,
   "metadata": {},
   "outputs": [],
   "source": [
    "lst + lst"
   ]
  },
  {
   "cell_type": "code",
   "execution_count": null,
   "metadata": {},
   "outputs": [],
   "source": [
    "arr[1:5:2]"
   ]
  },
  {
   "cell_type": "code",
   "execution_count": null,
   "metadata": {},
   "outputs": [],
   "source": [
    "mask = arr % 5 == 0\n",
    "mask"
   ]
  },
  {
   "cell_type": "code",
   "execution_count": null,
   "metadata": {},
   "outputs": [],
   "source": [
    "arr[mask]"
   ]
  },
  {
   "cell_type": "code",
   "execution_count": null,
   "metadata": {},
   "outputs": [],
   "source": [
    "b = np.array([0,1,2,2,0,1])\n",
    "arr[b]"
   ]
  },
  {
   "cell_type": "code",
   "execution_count": null,
   "metadata": {},
   "outputs": [],
   "source": [
    "arr = np.arange(5)"
   ]
  },
  {
   "cell_type": "code",
   "execution_count": null,
   "metadata": {},
   "outputs": [],
   "source": [
    "arr"
   ]
  },
  {
   "cell_type": "code",
   "execution_count": null,
   "metadata": {},
   "outputs": [],
   "source": [
    "arr = np.arange(20).reshape(5,4)\n",
    "arr"
   ]
  },
  {
   "cell_type": "code",
   "execution_count": null,
   "metadata": {},
   "outputs": [],
   "source": [
    "arr[:2, 1:3]"
   ]
  },
  {
   "cell_type": "code",
   "execution_count": null,
   "metadata": {},
   "outputs": [],
   "source": [
    "arr = [[23,54,6], [45,65], [67,87,8,98,7]]\n"
   ]
  },
  {
   "cell_type": "code",
   "execution_count": null,
   "metadata": {},
   "outputs": [],
   "source": [
    "arr = [1, 2, 3, 4, 5, 6, 7, 8, 9, 10]\n",
    "arr[2:10:2]\n",
    "# arr[START:STOP:STEP]\n",
    "# По умолчанию(!) START=0, STOP=len(arr), STEP=1\n",
    "arr[::-1]\n",
    "#взять от 2го элемента до 10го каждый второй элемент"
   ]
  },
  {
   "cell_type": "code",
   "execution_count": null,
   "metadata": {},
   "outputs": [],
   "source": []
  }
 ],
 "metadata": {
  "kernelspec": {
   "display_name": "Python 3",
   "language": "python",
   "name": "python3"
  },
  "language_info": {
   "codemirror_mode": {
    "name": "ipython",
    "version": 3
   },
   "file_extension": ".py",
   "mimetype": "text/x-python",
   "name": "python",
   "nbconvert_exporter": "python",
   "pygments_lexer": "ipython3",
   "version": "3.8.5"
  }
 },
 "nbformat": 4,
 "nbformat_minor": 4
}
