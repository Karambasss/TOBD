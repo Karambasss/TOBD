{
 "cells": [
  {
   "cell_type": "markdown",
   "metadata": {},
   "source": [
    "# Форматы данных (1)"
   ]
  },
  {
   "cell_type": "markdown",
   "metadata": {},
   "source": [
    "Материалы:\n",
    "* Макрушин С.В. \"Лекция 4: Форматы данных\"\n",
    "* https://docs.python.org/3/library/json.html\n",
    "* https://docs.python.org/3/library/pickle.html\n",
    "* https://www.crummy.com/software/BeautifulSoup/bs4/doc.ru/bs4ru.html\n",
    "* Уэс Маккини. Python и анализ данных"
   ]
  },
  {
   "cell_type": "markdown",
   "metadata": {},
   "source": [
    "## Задачи для совместного разбора"
   ]
  },
  {
   "cell_type": "markdown",
   "metadata": {},
   "source": [
    "1. Вывести все адреса электронной почты, содержащиеся в адресной книге `addres-book.json`"
   ]
  },
  {
   "cell_type": "code",
   "execution_count": 50,
   "metadata": {},
   "outputs": [],
   "source": [
    "import json\n",
    "def read_json(path: str):\n",
    "    with open(path) as file:\n",
    "        return json.load(file)"
   ]
  },
  {
   "cell_type": "code",
   "execution_count": 51,
   "metadata": {},
   "outputs": [
    {
     "data": {
      "text/plain": [
       "[{'name': 'Faina Lee',\n",
       "  'email': 'faina@mail.ru',\n",
       "  'birthday': '22.08.1994',\n",
       "  'phones': [{'phone': '232-19-55'}, {'phone': '+7 (916) 232-19-55'}]},\n",
       " {'name': 'Robert Lee',\n",
       "  'email': 'robert@mail.ru',\n",
       "  'birthday': '22.08.1994',\n",
       "  'phones': [{'phone': '111-19-55'}, {'phone': '+7 (916) 445-19-55'}]}]"
      ]
     },
     "execution_count": 51,
     "metadata": {},
     "output_type": "execute_result"
    }
   ],
   "source": [
    "address_book = read_json('data/addres-book.json')\n",
    "address_book"
   ]
  },
  {
   "cell_type": "code",
   "execution_count": 52,
   "metadata": {},
   "outputs": [
    {
     "data": {
      "text/plain": [
       "['faina@mail.ru', 'robert@mail.ru']"
      ]
     },
     "execution_count": 52,
     "metadata": {},
     "output_type": "execute_result"
    }
   ],
   "source": [
    "emails = [address.get('email') for address in address_book]\n",
    "# emails = []\n",
    "# for address in address_book:\n",
    "#     emails.append(address.get('email'))\n",
    "emails"
   ]
  },
  {
   "cell_type": "code",
   "execution_count": 53,
   "metadata": {},
   "outputs": [
    {
     "data": {
      "text/plain": [
       "['22.08.1994', '22.08.1994']"
      ]
     },
     "execution_count": 53,
     "metadata": {},
     "output_type": "execute_result"
    }
   ],
   "source": [
    "birthdays = [birthday.get('birthday') for birthday in address_book]\n",
    "birthdays"
   ]
  },
  {
   "cell_type": "markdown",
   "metadata": {},
   "source": [
    "2. Вывести телефоны, содержащиеся в адресной книге `addres-book.json`"
   ]
  },
  {
   "cell_type": "code",
   "execution_count": 54,
   "metadata": {},
   "outputs": [
    {
     "data": {
      "text/plain": [
       "[[{'phone': '232-19-55'}, {'phone': '+7 (916) 232-19-55'}],\n",
       " [{'phone': '111-19-55'}, {'phone': '+7 (916) 445-19-55'}]]"
      ]
     },
     "execution_count": 54,
     "metadata": {},
     "output_type": "execute_result"
    }
   ],
   "source": [
    "phone_numbers = [ph.get('phones') for ph in address_book]\n",
    "phone_numbers"
   ]
  },
  {
   "cell_type": "code",
   "execution_count": 55,
   "metadata": {},
   "outputs": [
    {
     "data": {
      "text/plain": [
       "['232-19-55', '+7 (916) 232-19-55', '111-19-55', '+7 (916) 445-19-55']"
      ]
     },
     "execution_count": 55,
     "metadata": {},
     "output_type": "execute_result"
    }
   ],
   "source": [
    "phones = []\n",
    "for address in address_book:\n",
    "    phones.extend([phone['phone'] for phone in address.get('phones')])\n",
    "\n",
    "phones"
   ]
  },
  {
   "cell_type": "markdown",
   "metadata": {},
   "source": [
    "3. По данным из файла `addres-book-q.xml` сформировать список словарей с телефонами каждого из людей. "
   ]
  },
  {
   "cell_type": "code",
   "execution_count": 18,
   "metadata": {},
   "outputs": [
    {
     "name": "stdout",
     "output_type": "stream",
     "text": [
      "Collecting pandas\n",
      "  Using cached pandas-1.3.3-cp38-cp38-manylinux_2_17_x86_64.manylinux2014_x86_64.whl (11.5 MB)\n",
      "Requirement already satisfied: python-dateutil>=2.7.3 in /usr/lib/python3/dist-packages (from pandas) (2.7.3)\n",
      "Requirement already satisfied: pytz>=2017.3 in /usr/lib/python3/dist-packages (from pandas) (2019.3)\n",
      "Requirement already satisfied: numpy>=1.17.3 in /home/alexey/.local/lib/python3.8/site-packages (from pandas) (1.21.2)\n",
      "Installing collected packages: pandas\n",
      "Successfully installed pandas-1.3.3\n"
     ]
    }
   ],
   "source": [
    "!pip3 install pandas"
   ]
  },
  {
   "cell_type": "code",
   "execution_count": 58,
   "metadata": {},
   "outputs": [],
   "source": [
    "from bs4 import BeautifulSoup as bs\n",
    "def read_xml(path: str):\n",
    "    with open(path) as file:\n",
    "        return bs(''.join(file.readlines()), \"html.parser\")"
   ]
  },
  {
   "cell_type": "code",
   "execution_count": 59,
   "metadata": {},
   "outputs": [
    {
     "data": {
      "text/plain": [
       "<?xml version=\"1.0\" encoding=\"UTF-8\" ?>\n",
       "<address_book>\n",
       "<country name=\"algeria\">\n",
       "<address id=\"1\">\n",
       "<gender>m</gender>\n",
       "<name>Aicha Barki</name>\n",
       "<email>aiqraa.asso@caramail.com</email>\n",
       "<position>Presidente</position>\n",
       "<company>Association Algerienne d'Alphabetisation Iqraa</company>\n",
       "<phones>\n",
       "<phone type=\"work\">+ (213) 6150 4015</phone>\n",
       "<phone type=\"personal\">+ (213) 2173 5247</phone>\n",
       "</phones>\n",
       "</address>\n",
       "</country>\n",
       "<country name=\"angola\">\n",
       "<address id=\"2\">\n",
       "<gender>m</gender>\n",
       "<name>Francisco Domingos</name>\n",
       "<email>frandomingos@hotmail.com</email>\n",
       "<position>Directeur General</position>\n",
       "<company>Institut National de Education des Adultes</company>\n",
       "<phones>\n",
       "<phone type=\"work\">+ (244-2) 325 023</phone>\n",
       "<phone type=\"personal\">+ (244-2) 325 023</phone>\n",
       "</phones>\n",
       "</address>\n",
       "<address id=\"3\">\n",
       "<gender>f</gender>\n",
       "<name>Maria Luisa</name>\n",
       "<email>luisagrilo@ebonet.net</email>\n",
       "<position>Directrice Nationale</position>\n",
       "<company>Institut National de Education des Adultes</company>\n",
       "<phones>\n",
       "<phone type=\"personal\">+ (244) 4232 2836</phone>\n",
       "</phones>\n",
       "</address>\n",
       "<address id=\"4\">\n",
       "<gender>m</gender>\n",
       "<name>Abraao Chanda</name>\n",
       "<email>ineda@snet.co.ao</email>\n",
       "<position>Chef</position>\n",
       "<company>Institut National de Education des Adultes</company>\n",
       "<phones>\n",
       "<phone type=\"work\">+ (244-2) 325 023</phone>\n",
       "<phone type=\"personal\">+ (244-2) 325 023</phone>\n",
       "</phones>\n",
       "</address>\n",
       "</country>\n",
       "<country name=\"argentina\">\n",
       "<address id=\"5\">\n",
       "<gender>m</gender>\n",
       "<name>Beatriz Busaniche</name>\n",
       "<email>busaniche@caminandoutopias.org.ar</email>\n",
       "<position>Executive Director</position>\n",
       "<company>Universidad de Buenos Aires</company>\n",
       "<phones>\n",
       "<phone type=\"work\">+ (54-11) 4784 1159</phone>\n",
       "</phones>\n",
       "</address>\n",
       "</country>\n",
       "<country name=\"australia\">\n",
       "<address id=\"6\">\n",
       "<gender>f</gender>\n",
       "<name>Francesca Beddie</name>\n",
       "<email>f.beddie@ala.asn.au</email>\n",
       "<position>Executive Director</position>\n",
       "<company>Adult Learning Australia</company>\n",
       "<phones>\n",
       "<phone type=\"work\">+ (61-2) 6274 9500</phone>\n",
       "<phone type=\"personal\">+ (61-2) 6274 9513</phone>\n",
       "</phones>\n",
       "</address>\n",
       "<address id=\"7\">\n",
       "<gender>m</gender>\n",
       "<name>Graham John Smith</name>\n",
       "<email>grasm@connexus.net.au</email>\n",
       "<position>Secretary</position>\n",
       "<company>Disability Australia Ltd</company>\n",
       "<phones>\n",
       "<phone type=\"work\">+ (61-3) 9807 4702</phone>\n",
       "</phones>\n",
       "</address>\n",
       "</country>\n",
       "</address_book>"
      ]
     },
     "execution_count": 59,
     "metadata": {},
     "output_type": "execute_result"
    }
   ],
   "source": [
    "soup = read_xml('data/addres-book-q.xml')\n",
    "soup"
   ]
  },
  {
   "cell_type": "code",
   "execution_count": 7,
   "metadata": {},
   "outputs": [
    {
     "ename": "NameError",
     "evalue": "name 'soup' is not defined",
     "output_type": "error",
     "traceback": [
      "\u001b[0;31m---------------------------------------------------------------------------\u001b[0m",
      "\u001b[0;31mNameError\u001b[0m                                 Traceback (most recent call last)",
      "\u001b[0;32m<ipython-input-7-e250cbedda46>\u001b[0m in \u001b[0;36m<module>\u001b[0;34m\u001b[0m\n\u001b[1;32m      1\u001b[0m \u001b[0mphones_book\u001b[0m \u001b[0;34m=\u001b[0m \u001b[0;34m[\u001b[0m\u001b[0;34m]\u001b[0m\u001b[0;34m\u001b[0m\u001b[0;34m\u001b[0m\u001b[0m\n\u001b[0;32m----> 2\u001b[0;31m \u001b[0;32mfor\u001b[0m \u001b[0maddr\u001b[0m \u001b[0;32min\u001b[0m \u001b[0msoup\u001b[0m\u001b[0;34m.\u001b[0m\u001b[0mfind_all\u001b[0m\u001b[0;34m(\u001b[0m\u001b[0;34m'address'\u001b[0m\u001b[0;34m)\u001b[0m\u001b[0;34m:\u001b[0m\u001b[0;34m\u001b[0m\u001b[0;34m\u001b[0m\u001b[0m\n\u001b[0m\u001b[1;32m      3\u001b[0m     \u001b[0mname\u001b[0m \u001b[0;34m=\u001b[0m \u001b[0maddr\u001b[0m\u001b[0;34m.\u001b[0m\u001b[0mfind\u001b[0m\u001b[0;34m(\u001b[0m\u001b[0;34m'name'\u001b[0m\u001b[0;34m)\u001b[0m\u001b[0;34m.\u001b[0m\u001b[0mstring\u001b[0m\u001b[0;34m\u001b[0m\u001b[0;34m\u001b[0m\u001b[0m\n\u001b[1;32m      4\u001b[0m     \u001b[0mphones\u001b[0m \u001b[0;34m=\u001b[0m \u001b[0;34m[\u001b[0m\u001b[0mphone\u001b[0m\u001b[0;34m.\u001b[0m\u001b[0mstring\u001b[0m \u001b[0;32mfor\u001b[0m \u001b[0mphone\u001b[0m \u001b[0;32min\u001b[0m \u001b[0maddr\u001b[0m\u001b[0;34m.\u001b[0m\u001b[0mfind_all\u001b[0m\u001b[0;34m(\u001b[0m\u001b[0;34m'phone'\u001b[0m\u001b[0;34m)\u001b[0m\u001b[0;34m]\u001b[0m\u001b[0;34m\u001b[0m\u001b[0;34m\u001b[0m\u001b[0m\n\u001b[1;32m      5\u001b[0m     phones_book.append({\n",
      "\u001b[0;31mNameError\u001b[0m: name 'soup' is not defined"
     ]
    }
   ],
   "source": [
    "phones_book = []\n",
    "for addr in soup.find_all('address'):\n",
    "    name = addr.find('name').string\n",
    "    phones = [phone.string for phone in addr.find_all('phone')]\n",
    "    phones_book.append({\n",
    "        'name': name,\n",
    "        'phones': phones\n",
    "    })\n",
    "phones_book\n",
    "\n"
   ]
  },
  {
   "cell_type": "markdown",
   "metadata": {},
   "source": [
    "## Лабораторная работа №4"
   ]
  },
  {
   "cell_type": "markdown",
   "metadata": {},
   "source": [
    "### JSON"
   ]
  },
  {
   "cell_type": "markdown",
   "metadata": {},
   "source": [
    "1.1 Считайте файл `contributors_sample.json`. Воспользовавшись модулем `json`, преобразуйте содержимое файла в соответствующие объекты python. Выведите на экран информацию о первых 3 пользователях."
   ]
  },
  {
   "cell_type": "code",
   "execution_count": 8,
   "metadata": {},
   "outputs": [
    {
     "data": {
      "text/plain": [
       "[{'username': 'uhebert',\n",
       "  'name': 'Lindsey Nguyen',\n",
       "  'sex': 'F',\n",
       "  'address': '01261 Cameron Spring\\nTaylorfurt, AK 97791',\n",
       "  'mail': 'jsalazar@gmail.com',\n",
       "  'jobs': ['Energy engineer',\n",
       "   'Engineer, site',\n",
       "   'Environmental health practitioner',\n",
       "   'Biomedical scientist',\n",
       "   'Jewellery designer'],\n",
       "  'id': 35193},\n",
       " {'username': 'vickitaylor',\n",
       "  'name': 'Cheryl Lewis',\n",
       "  'sex': 'F',\n",
       "  'address': '66992 Welch Brooks\\nMarshallshire, ID 56004',\n",
       "  'mail': 'bhudson@gmail.com',\n",
       "  'jobs': ['Music therapist',\n",
       "   'Volunteer coordinator',\n",
       "   'Designer, interior/spatial'],\n",
       "  'id': 91970},\n",
       " {'username': 'sheilaadams',\n",
       "  'name': 'Julia Allen',\n",
       "  'sex': 'F',\n",
       "  'address': 'Unit 1632 Box 2971\\nDPO AE 23297',\n",
       "  'mail': 'darren44@yahoo.com',\n",
       "  'jobs': ['Management consultant',\n",
       "   'Engineer, structural',\n",
       "   'Lecturer, higher education',\n",
       "   'Theatre manager',\n",
       "   'Designer, textile'],\n",
       "  'id': 1848091},\n",
       " {'username': 'nicole82',\n",
       "  'name': 'Gina Stevens',\n",
       "  'sex': 'F',\n",
       "  'address': '9880 Michelle Bridge\\nNew Kimberlybury, WY 02583',\n",
       "  'mail': 'stevensonsarah@hotmail.com',\n",
       "  'jobs': ['Mechanical engineer', 'Retail banker', 'Barrister'],\n",
       "  'id': 50969},\n",
       " {'username': 'jean67',\n",
       "  'name': 'Nicholas Harrington',\n",
       "  'sex': 'M',\n",
       "  'address': '9080 Monica Crescent Suite 820\\nNorth Deanbury, HI 28977',\n",
       "  'mail': 'denise42@gmail.com',\n",
       "  'jobs': ['Network engineer',\n",
       "   'Youth worker',\n",
       "   'Primary school teacher',\n",
       "   'Engineer, broadcasting (operations)'],\n",
       "  'id': 676820},\n",
       " {'username': 'james67',\n",
       "  'name': 'Allison Gomez',\n",
       "  'sex': 'F',\n",
       "  'address': '635 Kenneth Ways Suite 172\\nHancockfort, AZ 50544',\n",
       "  'mail': 'monique02@hotmail.com',\n",
       "  'jobs': ['Designer, ceramics/pottery',\n",
       "   'Engineer, energy',\n",
       "   'Engineer, manufacturing'],\n",
       "  'id': 64918},\n",
       " {'username': 'woodmarissa',\n",
       "  'name': 'Michael Jackson',\n",
       "  'sex': 'M',\n",
       "  'address': '4531 Phillips Underpass\\nMartinezport, MA 82685',\n",
       "  'mail': 'dustin32@hotmail.com',\n",
       "  'jobs': ['Designer, furniture',\n",
       "   'Designer, furniture',\n",
       "   'Lecturer, higher education'],\n",
       "  'id': 113941}]"
      ]
     },
     "execution_count": 8,
     "metadata": {},
     "output_type": "execute_result"
    }
   ],
   "source": [
    "contributors = read_json('data/contributors_sample.json')\n",
    "test = contributors[:7] \n",
    "test"
   ]
  },
  {
   "cell_type": "markdown",
   "metadata": {},
   "source": [
    "1.2 Выведите уникальные почтовые домены, содержащиеся в почтовых адресах людей"
   ]
  },
  {
   "cell_type": "code",
   "execution_count": 134,
   "metadata": {},
   "outputs": [
    {
     "data": {
      "text/plain": [
       "{'gmail.com', 'hotmail.com', 'yahoo.com'}"
      ]
     },
     "execution_count": 134,
     "metadata": {},
     "output_type": "execute_result"
    }
   ],
   "source": [
    "mails = set()\n",
    "for c in contributors:\n",
    "    mail_dom = c['mail'].split('@')[1]\n",
    "    mails.add(mail_dom)\n",
    "mails"
   ]
  },
  {
   "cell_type": "markdown",
   "metadata": {},
   "source": [
    "1.3 Напишите функцию, которая по `username` ищет человека и выводит информацию о нем. Если пользователь с заданным `username` отсутствует, возбудите исключение `ValueError`"
   ]
  },
  {
   "cell_type": "code",
   "execution_count": 139,
   "metadata": {},
   "outputs": [
    {
     "name": "stdout",
     "output_type": "stream",
     "text": [
      "info:\n",
      "name : Julia Allen\n"
     ]
    }
   ],
   "source": [
    "def find_info_by_username(username):\n",
    "    flag = False\n",
    "    for user in test:\n",
    "        if username == user.get('username'):\n",
    "            print(\"info:\")\n",
    "            print(\"name :\", user.get('name'))\n",
    "            #и т.д., вывести каждое поле\n",
    "            flag = True\n",
    "            break #по идее, логин - уникален\n",
    "    if not flag:\n",
    "        raise ValueError(\"Пользователь не найден!\")\n",
    "find_info_by_username('sheilaadams')"
   ]
  },
  {
   "cell_type": "markdown",
   "metadata": {},
   "source": [
    "1.4 Посчитайте, сколько мужчин и женщин присутсвует в этом наборе данных."
   ]
  },
  {
   "cell_type": "code",
   "execution_count": 43,
   "metadata": {},
   "outputs": [
    {
     "name": "stdout",
     "output_type": "stream",
     "text": [
      "Kolvo men =  0\n",
      "Kolvo women =  3\n"
     ]
    }
   ],
   "source": [
    "count_men, count_women = 0, 0\n",
    "for u in test:\n",
    "    if u.get('sex') == 'F':\n",
    "        count_women += 1\n",
    "    if u.get('sex') == 'M':\n",
    "        count_men += 1\n",
    "print(\"Kolvo men = \", count_men)\n",
    "print(\"Kolvo women = \", count_women)"
   ]
  },
  {
   "cell_type": "markdown",
   "metadata": {},
   "source": [
    "1.5 Создайте `pd.DataFrame` `contributors`, имеющий столбцы `id`, `username` и `sex`."
   ]
  },
  {
   "cell_type": "code",
   "execution_count": 26,
   "metadata": {},
   "outputs": [],
   "source": [
    "import pandas as pd"
   ]
  },
  {
   "cell_type": "code",
   "execution_count": 29,
   "metadata": {},
   "outputs": [
    {
     "data": {
      "text/html": [
       "<div>\n",
       "<style scoped>\n",
       "    .dataframe tbody tr th:only-of-type {\n",
       "        vertical-align: middle;\n",
       "    }\n",
       "\n",
       "    .dataframe tbody tr th {\n",
       "        vertical-align: top;\n",
       "    }\n",
       "\n",
       "    .dataframe thead th {\n",
       "        text-align: right;\n",
       "    }\n",
       "</style>\n",
       "<table border=\"1\" class=\"dataframe\">\n",
       "  <thead>\n",
       "    <tr style=\"text-align: right;\">\n",
       "      <th></th>\n",
       "      <th>id</th>\n",
       "      <th>username</th>\n",
       "      <th>sex</th>\n",
       "    </tr>\n",
       "  </thead>\n",
       "  <tbody>\n",
       "    <tr>\n",
       "      <th>0</th>\n",
       "      <td>35193</td>\n",
       "      <td>uhebert</td>\n",
       "      <td>F</td>\n",
       "    </tr>\n",
       "    <tr>\n",
       "      <th>1</th>\n",
       "      <td>91970</td>\n",
       "      <td>vickitaylor</td>\n",
       "      <td>F</td>\n",
       "    </tr>\n",
       "    <tr>\n",
       "      <th>2</th>\n",
       "      <td>1848091</td>\n",
       "      <td>sheilaadams</td>\n",
       "      <td>F</td>\n",
       "    </tr>\n",
       "  </tbody>\n",
       "</table>\n",
       "</div>"
      ],
      "text/plain": [
       "        id     username sex\n",
       "0    35193      uhebert   F\n",
       "1    91970  vickitaylor   F\n",
       "2  1848091  sheilaadams   F"
      ]
     },
     "execution_count": 29,
     "metadata": {},
     "output_type": "execute_result"
    }
   ],
   "source": [
    "dataframe = pd.DataFrame(test, columns=['id', 'username', 'sex'])\n",
    "dataframe"
   ]
  },
  {
   "cell_type": "markdown",
   "metadata": {},
   "source": [
    "1.6 Загрузите данные из файла `recipes_sample.csv` (__ЛР2__) в таблицу `recipes`. Объедините `recipes` с таблицей `contributors` с сохранением строк в том случае, если информация о человеке отсутствует в JSON-файле. Для скольких человек информация отсутствует? "
   ]
  },
  {
   "cell_type": "code",
   "execution_count": null,
   "metadata": {},
   "outputs": [],
   "source": [
    "#непонятно, что нужно"
   ]
  },
  {
   "cell_type": "markdown",
   "metadata": {},
   "source": [
    "### pickle"
   ]
  },
  {
   "cell_type": "markdown",
   "metadata": {},
   "source": [
    "2.1 На основе файла `contributors_sample.json` создайте словарь следующего вида: \n",
    "```\n",
    "{\n",
    "    должность: [список username людей, занимавших эту должность]\n",
    "}\n",
    "```"
   ]
  },
  {
   "cell_type": "code",
   "execution_count": 21,
   "metadata": {},
   "outputs": [
    {
     "data": {
      "text/plain": [
       "[{'username': 'uhebert',\n",
       "  'name': 'Lindsey Nguyen',\n",
       "  'sex': 'F',\n",
       "  'address': '01261 Cameron Spring\\nTaylorfurt, AK 97791',\n",
       "  'mail': 'jsalazar@gmail.com',\n",
       "  'jobs': ['PROFF',\n",
       "   'Energy engineer',\n",
       "   'Engineer, site',\n",
       "   'Environmental health practitioner',\n",
       "   'Biomedical scientist',\n",
       "   'Jewellery designer'],\n",
       "  'id': 35193},\n",
       " {'username': 'nicole82',\n",
       "  'name': 'Gina Stevens',\n",
       "  'sex': 'F',\n",
       "  'address': '9880 Michelle Bridge\\nNew Kimberlybury, WY 02583',\n",
       "  'mail': 'stevensonsarah@hotmail.com',\n",
       "  'jobs': ['PROFF', 'Retail banker', 'Barrister'],\n",
       "  'id': 50969},\n",
       " {'username': 'jean67',\n",
       "  'name': 'Nicholas Harrington',\n",
       "  'sex': 'M',\n",
       "  'address': '9080 Monica Crescent Suite 820\\nNorth Deanbury, HI 28977',\n",
       "  'mail': 'denise42@gmail.com',\n",
       "  'jobs': ['Network engineer',\n",
       "   'Youth worker',\n",
       "   'Primary school teacher',\n",
       "   'Engineer, broadcasting (operations)'],\n",
       "  'id': 676820},\n",
       " {'username': 'james67',\n",
       "  'name': 'Allison Gomez',\n",
       "  'sex': 'F',\n",
       "  'address': '635 Kenneth Ways Suite 172\\nHancockfort, AZ 50544',\n",
       "  'mail': 'monique02@hotmail.com',\n",
       "  'jobs': ['Designer, ceramics/pottery',\n",
       "   'Engineer, energy',\n",
       "   'Engineer, manufacturing'],\n",
       "  'id': 64918},\n",
       " {'username': 'woodmarissa',\n",
       "  'name': 'Michael Jackson',\n",
       "  'sex': 'M',\n",
       "  'address': '4531 Phillips Underpass\\nMartinezport, MA 82685',\n",
       "  'mail': 'dustin32@hotmail.com',\n",
       "  'jobs': ['Designer, furniture',\n",
       "   'Designer, furniture',\n",
       "   'Lecturer, higher education'],\n",
       "  'id': 113941}]"
      ]
     },
     "execution_count": 21,
     "metadata": {},
     "output_type": "execute_result"
    }
   ],
   "source": [
    "contributors_s = read_json('data/sampl_contrib_1.json')\n",
    "contributors_s"
   ]
  },
  {
   "cell_type": "code",
   "execution_count": 33,
   "metadata": {},
   "outputs": [
    {
     "data": {
      "text/plain": [
       "{'PROFF': ['uhebert', 'nicole82'],\n",
       " 'Energy engineer': ['uhebert'],\n",
       " 'Engineer, site': ['uhebert'],\n",
       " 'Environmental health practitioner': ['uhebert'],\n",
       " 'Biomedical scientist': ['uhebert'],\n",
       " 'Jewellery designer': ['uhebert'],\n",
       " 'Retail banker': ['nicole82'],\n",
       " 'Barrister': ['nicole82'],\n",
       " 'Network engineer': ['jean67'],\n",
       " 'Youth worker': ['jean67'],\n",
       " 'Primary school teacher': ['jean67'],\n",
       " 'Engineer, broadcasting (operations)': ['jean67'],\n",
       " 'Designer, ceramics/pottery': ['james67'],\n",
       " 'Engineer, energy': ['james67'],\n",
       " 'Engineer, manufacturing': ['james67'],\n",
       " 'Designer, furniture': ['woodmarissa', 'woodmarissa'],\n",
       " 'Lecturer, higher education': ['woodmarissa']}"
      ]
     },
     "execution_count": 33,
     "metadata": {},
     "output_type": "execute_result"
    }
   ],
   "source": [
    "from collections import defaultdict\n",
    "jobs = defaultdict(list)\n",
    "for user in contributors_s:\n",
    "    for job in user['jobs']:\n",
    "        jobs[job].append(user['username'])\n",
    "my_dict = dict(jobs)\n",
    "my_dict"
   ]
  },
  {
   "cell_type": "markdown",
   "metadata": {},
   "source": [
    "2.2 Сохраните результаты в файл `job_people.pickle` и в файл `job_people.json` с использованием форматов pickle и JSON соответственно. Сравните объемы получившихся файлов. При сохранении в JSON укажите аргумент `indent`."
   ]
  },
  {
   "cell_type": "code",
   "execution_count": 37,
   "metadata": {},
   "outputs": [],
   "source": [
    "import pickle\n",
    "with open('dat1.pickle', 'wb') as f:\n",
    "    pickle.dump(my_dict, f)\n",
    "\n",
    "with open('data.json', 'w') as outfile:\n",
    "    json.dump(my_dict, outfile, indent=4)"
   ]
  },
  {
   "cell_type": "markdown",
   "metadata": {},
   "source": [
    "2.3 Считайте файл `job_people.pickle` и продемонстрируйте, что данные считались корректно. "
   ]
  },
  {
   "cell_type": "code",
   "execution_count": 45,
   "metadata": {},
   "outputs": [
    {
     "data": {
      "text/plain": [
       "{'PROFF': ['uhebert', 'nicole82'],\n",
       " 'Energy engineer': ['uhebert'],\n",
       " 'Engineer, site': ['uhebert'],\n",
       " 'Environmental health practitioner': ['uhebert'],\n",
       " 'Biomedical scientist': ['uhebert'],\n",
       " 'Jewellery designer': ['uhebert'],\n",
       " 'Retail banker': ['nicole82'],\n",
       " 'Barrister': ['nicole82'],\n",
       " 'Network engineer': ['jean67'],\n",
       " 'Youth worker': ['jean67'],\n",
       " 'Primary school teacher': ['jean67'],\n",
       " 'Engineer, broadcasting (operations)': ['jean67'],\n",
       " 'Designer, ceramics/pottery': ['james67'],\n",
       " 'Engineer, energy': ['james67'],\n",
       " 'Engineer, manufacturing': ['james67'],\n",
       " 'Designer, furniture': ['woodmarissa', 'woodmarissa'],\n",
       " 'Lecturer, higher education': ['woodmarissa']}"
      ]
     },
     "execution_count": 45,
     "metadata": {},
     "output_type": "execute_result"
    }
   ],
   "source": [
    "with open('dat1.pickle', 'rb') as f:\n",
    "    dat1_l = pickle.load(f)\n",
    "\n",
    "dat1_l"
   ]
  },
  {
   "cell_type": "code",
   "execution_count": 48,
   "metadata": {},
   "outputs": [
    {
     "data": {
      "text/plain": [
       "524"
      ]
     },
     "execution_count": 48,
     "metadata": {},
     "output_type": "execute_result"
    }
   ],
   "source": [
    "import os\n",
    "b = os.path.getsize(\"dat1.pickle\")"
   ]
  },
  {
   "cell_type": "markdown",
   "metadata": {},
   "source": [
    "### XML"
   ]
  },
  {
   "cell_type": "markdown",
   "metadata": {},
   "source": [
    "3.1 По данным файла `steps_sample.xml` сформируйте словарь с шагами по каждому рецепту вида `{id_рецепта: [\"шаг1\", \"шаг2\"]}`. Сохраните этот словарь в файл `steps_sample.json`"
   ]
  },
  {
   "cell_type": "code",
   "execution_count": 71,
   "metadata": {},
   "outputs": [
    {
     "data": {
      "text/plain": [
       "{'44123': ['in 1 / 4 cup butter , saute carrots , onion , celery and broccoli stems for 5 minutes',\n",
       "  'add thyme , oregano and basil'],\n",
       " '67664': ['mix all the ingredients using a blender',\n",
       "  'pour into popsicle molds'],\n",
       " '38798': ['combine all ingredients in a large bowl and mix well',\n",
       "  'shape into one-inch balls'],\n",
       " '35173': ['lay out sandwich rolls on jelly roll pans / cookie sheets',\n",
       "  'melt butter , mix in italian dressing mix']}"
      ]
     },
     "execution_count": 71,
     "metadata": {},
     "output_type": "execute_result"
    }
   ],
   "source": [
    "steps_sample = read_xml('data/steps_sample_small.xml')\n",
    "dict_steps = {}\n",
    "for recipe in steps_sample.find_all('recipe'):\n",
    "    my_id = recipe.find('id').string\n",
    "    steps = [step.string for step in recipe.find_all('step')]\n",
    "    dict_steps[my_id] = steps[:2]\n",
    "#     dict_steps[my_id+'kolvo_steps'] = len(steps)\n",
    "dict_steps"
   ]
  },
  {
   "cell_type": "markdown",
   "metadata": {},
   "source": [
    "3.2 По данным файла `steps_sample.xml` сформируйте словарь следующего вида: `кол-во_шагов_в_рецепте: [список_id_рецептов]`"
   ]
  },
  {
   "cell_type": "code",
   "execution_count": 148,
   "metadata": {},
   "outputs": [
    {
     "data": {
      "text/plain": [
       "<?xml version=\"1.0\" encoding=\"utf-8\"?>\n",
       "<recipes>\n",
       "<recipe>\n",
       "<id>44123</id>\n",
       "<steps>\n",
       "<step has_minutes=\"1\">in 1 / 4 cup butter , saute carrots , onion , celery and broccoli stems for 5 minutes</step>\n",
       "<step>add thyme , oregano and basil</step>\n",
       "<step has_minutes=\"1\">saute 5 minutes more</step>\n",
       "<step>add wine and deglaze pan</step>\n",
       "<step>add hot chicken stock and reduce by one-third</step>\n",
       "<step>add worcestershire sauce , tabasco , smoked chicken , beans and broccoli florets</step>\n",
       "<step has_minutes=\"1\">simmer 5 minutes</step>\n",
       "<step has_minutes=\"1\">add cream , simmer 5 minutes more and season to taste</step>\n",
       "<step>drop in remaining butter , piece by piece , stirring until melted and serve immediately</step>\n",
       "<step>smoked chicken: on a covered grill , slightly smoke boneless chicken , cooking to medium rare</step>\n",
       "<step>chef meskan uses applewood chips and does not allow the grill to become too hot</step>\n",
       "</steps>\n",
       "</recipe>\n",
       "<recipe>\n",
       "<id>67664</id>\n",
       "<steps>\n",
       "<step>mix all the ingredients using a blender</step>\n",
       "<step>pour into popsicle molds</step>\n",
       "<step>freeze and enjoy !</step>\n",
       "</steps>\n",
       "</recipe>\n",
       "<recipe>\n",
       "<id>38798</id>\n",
       "<steps>\n",
       "<step>combine all ingredients in a large bowl and mix well</step>\n",
       "<step>shape into one-inch balls</step>\n",
       "<step>cover and refrigerate or freeze until ready to bake</step>\n",
       "<step has_degrees=\"1\">preheat oven to 350 degrees</step>\n",
       "<step>place on ungreased baking sheet and bake until light brown</step>\n",
       "</steps>\n",
       "</recipe>\n",
       "<recipe>\n",
       "<id>35173</id>\n",
       "<steps>\n",
       "<step>lay out sandwich rolls on jelly roll pans / cookie sheets</step>\n",
       "<step>melt butter , mix in italian dressing mix</step>\n",
       "<step>using a pastry or bbq brush , graciously apply seasoned butter to the top of the\"bottom bun\" and the top of the top bun</step>\n",
       "<step>don't miss this step , i don't know why , but it does make a difference !</step>\n",
       "<step>here is where i create an assembly line w / the bottoms of the buns</step>\n",
       "<step>layer each bun w / ham , then swiss cheese , turkey , then cheddar cheese , pepperoni , then mozzerella cheese</step>\n",
       "<step has_degrees=\"1\" has_minutes=\"1\">place\"lids\" on buns and place in 425 degree oven for approximly 12-15 minutes , or until you see the tops start to turn golden brown</step>\n",
       "</steps>\n",
       "</recipe>\n",
       "</recipes>"
      ]
     },
     "execution_count": 148,
     "metadata": {},
     "output_type": "execute_result"
    }
   ],
   "source": [
    "#См. 2.1"
   ]
  },
  {
   "cell_type": "markdown",
   "metadata": {},
   "source": [
    "3.3 Получите список рецептов, в этапах выполнения которых есть информация о времени (часы или минуты). Для отбора подходящих рецептов обратите внимание на атрибуты соответствующих тэгов."
   ]
  },
  {
   "cell_type": "code",
   "execution_count": 82,
   "metadata": {},
   "outputs": [
    {
     "name": "stdout",
     "output_type": "stream",
     "text": [
      "['44123']\n"
     ]
    }
   ],
   "source": [
    "arr = []\n",
    "for recipe in steps_sample.find_all('recipe'):\n",
    "    if recipe.steps.step.has_attr('has_minutes') or recipe.steps.step.has_attr('has_hours'):\n",
    "        arr.append(recipe.id.string)\n",
    "print(arr)"
   ]
  },
  {
   "cell_type": "markdown",
   "metadata": {},
   "source": [
    "3.4 Загрузите данные из файла `recipes_sample.csv` (__ЛР2__) в таблицу `recipes`. Для строк, которые содержат пропуски в столбце `n_steps`, заполните этот столбец на основе файла  `steps_sample.xml`. Строки, в которых столбец `n_steps` заполнен, оставьте без изменений."
   ]
  },
  {
   "cell_type": "code",
   "execution_count": 92,
   "metadata": {},
   "outputs": [
    {
     "name": "stdout",
     "output_type": "stream",
     "text": [
      "11\n",
      "3\n",
      "5\n",
      "7\n"
     ]
    },
    {
     "data": {
      "text/html": [
       "<div>\n",
       "<style scoped>\n",
       "    .dataframe tbody tr th:only-of-type {\n",
       "        vertical-align: middle;\n",
       "    }\n",
       "\n",
       "    .dataframe tbody tr th {\n",
       "        vertical-align: top;\n",
       "    }\n",
       "\n",
       "    .dataframe thead th {\n",
       "        text-align: right;\n",
       "    }\n",
       "</style>\n",
       "<table border=\"1\" class=\"dataframe\">\n",
       "  <thead>\n",
       "    <tr style=\"text-align: right;\">\n",
       "      <th></th>\n",
       "      <th>name</th>\n",
       "      <th>id</th>\n",
       "      <th>minutes</th>\n",
       "      <th>contributor_id</th>\n",
       "      <th>submitted</th>\n",
       "      <th>n_steps</th>\n",
       "      <th>description</th>\n",
       "      <th>n_ingredients</th>\n",
       "    </tr>\n",
       "  </thead>\n",
       "  <tbody>\n",
       "    <tr>\n",
       "      <th>0</th>\n",
       "      <td>george s at the cove  black bean soup</td>\n",
       "      <td>44123</td>\n",
       "      <td>90</td>\n",
       "      <td>35193</td>\n",
       "      <td>2002-10-25</td>\n",
       "      <td>NaN</td>\n",
       "      <td>an original recipe created by chef scott meska...</td>\n",
       "      <td>18.0</td>\n",
       "    </tr>\n",
       "    <tr>\n",
       "      <th>1</th>\n",
       "      <td>healthy for them  yogurt popsicles</td>\n",
       "      <td>67664</td>\n",
       "      <td>10</td>\n",
       "      <td>91970</td>\n",
       "      <td>2003-07-26</td>\n",
       "      <td>NaN</td>\n",
       "      <td>my children and their friends ask for my homem...</td>\n",
       "      <td>NaN</td>\n",
       "    </tr>\n",
       "    <tr>\n",
       "      <th>2</th>\n",
       "      <td>i can t believe it s spinach</td>\n",
       "      <td>38798</td>\n",
       "      <td>30</td>\n",
       "      <td>1533</td>\n",
       "      <td>2002-08-29</td>\n",
       "      <td>NaN</td>\n",
       "      <td>these were so go, it surprised even me.</td>\n",
       "      <td>8.0</td>\n",
       "    </tr>\n",
       "    <tr>\n",
       "      <th>3</th>\n",
       "      <td>italian  gut busters</td>\n",
       "      <td>35173</td>\n",
       "      <td>45</td>\n",
       "      <td>22724</td>\n",
       "      <td>2002-07-27</td>\n",
       "      <td>NaN</td>\n",
       "      <td>my sister-in-law made these for us at a family...</td>\n",
       "      <td>NaN</td>\n",
       "    </tr>\n",
       "    <tr>\n",
       "      <th>5</th>\n",
       "      <td>mennonite  corn fritters</td>\n",
       "      <td>44045</td>\n",
       "      <td>15</td>\n",
       "      <td>41706</td>\n",
       "      <td>2002-10-25</td>\n",
       "      <td>NaN</td>\n",
       "      <td>ok - my heritage has been revealed. :) these a...</td>\n",
       "      <td>NaN</td>\n",
       "    </tr>\n",
       "    <tr>\n",
       "      <th>...</th>\n",
       "      <td>...</td>\n",
       "      <td>...</td>\n",
       "      <td>...</td>\n",
       "      <td>...</td>\n",
       "      <td>...</td>\n",
       "      <td>...</td>\n",
       "      <td>...</td>\n",
       "      <td>...</td>\n",
       "    </tr>\n",
       "    <tr>\n",
       "      <th>29991</th>\n",
       "      <td>zucchini potato pancakes</td>\n",
       "      <td>180833</td>\n",
       "      <td>45</td>\n",
       "      <td>186118</td>\n",
       "      <td>2006-08-07</td>\n",
       "      <td>NaN</td>\n",
       "      <td>this recipe was posted in our local newspaper,...</td>\n",
       "      <td>9.0</td>\n",
       "    </tr>\n",
       "    <tr>\n",
       "      <th>29993</th>\n",
       "      <td>zuni caf zucchini pickles</td>\n",
       "      <td>316950</td>\n",
       "      <td>2895</td>\n",
       "      <td>62264</td>\n",
       "      <td>2008-07-31</td>\n",
       "      <td>NaN</td>\n",
       "      <td>refrigerator pickles for some of the zucchini ...</td>\n",
       "      <td>8.0</td>\n",
       "    </tr>\n",
       "    <tr>\n",
       "      <th>29996</th>\n",
       "      <td>zwetschgenkuchen  bavarian plum cake</td>\n",
       "      <td>386977</td>\n",
       "      <td>240</td>\n",
       "      <td>177443</td>\n",
       "      <td>2009-08-24</td>\n",
       "      <td>NaN</td>\n",
       "      <td>this is a traditional fresh plum cake, thought...</td>\n",
       "      <td>11.0</td>\n",
       "    </tr>\n",
       "    <tr>\n",
       "      <th>29997</th>\n",
       "      <td>zwiebelkuchen   southwest german onion cake</td>\n",
       "      <td>103312</td>\n",
       "      <td>75</td>\n",
       "      <td>161745</td>\n",
       "      <td>2004-11-03</td>\n",
       "      <td>NaN</td>\n",
       "      <td>this is a traditional late summer early fall s...</td>\n",
       "      <td>NaN</td>\n",
       "    </tr>\n",
       "    <tr>\n",
       "      <th>29998</th>\n",
       "      <td>zydeco soup</td>\n",
       "      <td>486161</td>\n",
       "      <td>60</td>\n",
       "      <td>227978</td>\n",
       "      <td>2012-08-29</td>\n",
       "      <td>NaN</td>\n",
       "      <td>this is a delicious soup that i originally fou...</td>\n",
       "      <td>NaN</td>\n",
       "    </tr>\n",
       "  </tbody>\n",
       "</table>\n",
       "<p>11190 rows × 8 columns</p>\n",
       "</div>"
      ],
      "text/plain": [
       "                                              name      id  minutes  \\\n",
       "0            george s at the cove  black bean soup   44123       90   \n",
       "1               healthy for them  yogurt popsicles   67664       10   \n",
       "2                     i can t believe it s spinach   38798       30   \n",
       "3                             italian  gut busters   35173       45   \n",
       "5                         mennonite  corn fritters   44045       15   \n",
       "...                                            ...     ...      ...   \n",
       "29991                     zucchini potato pancakes  180833       45   \n",
       "29993                    zuni caf zucchini pickles  316950     2895   \n",
       "29996         zwetschgenkuchen  bavarian plum cake  386977      240   \n",
       "29997  zwiebelkuchen   southwest german onion cake  103312       75   \n",
       "29998                                  zydeco soup  486161       60   \n",
       "\n",
       "       contributor_id  submitted  n_steps  \\\n",
       "0               35193 2002-10-25      NaN   \n",
       "1               91970 2003-07-26      NaN   \n",
       "2                1533 2002-08-29      NaN   \n",
       "3               22724 2002-07-27      NaN   \n",
       "5               41706 2002-10-25      NaN   \n",
       "...               ...        ...      ...   \n",
       "29991          186118 2006-08-07      NaN   \n",
       "29993           62264 2008-07-31      NaN   \n",
       "29996          177443 2009-08-24      NaN   \n",
       "29997          161745 2004-11-03      NaN   \n",
       "29998          227978 2012-08-29      NaN   \n",
       "\n",
       "                                             description  n_ingredients  \n",
       "0      an original recipe created by chef scott meska...           18.0  \n",
       "1      my children and their friends ask for my homem...            NaN  \n",
       "2                these were so go, it surprised even me.            8.0  \n",
       "3      my sister-in-law made these for us at a family...            NaN  \n",
       "5      ok - my heritage has been revealed. :) these a...            NaN  \n",
       "...                                                  ...            ...  \n",
       "29991  this recipe was posted in our local newspaper,...            9.0  \n",
       "29993  refrigerator pickles for some of the zucchini ...            8.0  \n",
       "29996  this is a traditional fresh plum cake, thought...           11.0  \n",
       "29997  this is a traditional late summer early fall s...            NaN  \n",
       "29998  this is a delicious soup that i originally fou...            NaN  \n",
       "\n",
       "[11190 rows x 8 columns]"
      ]
     },
     "execution_count": 92,
     "metadata": {},
     "output_type": "execute_result"
    }
   ],
   "source": [
    "import pandas as pd\n",
    "steps_sample_1 = read_xml('data/steps_sample_small.xml')\n",
    "recipes = pd.read_csv(\"data/recipes_sample.csv\", sep=',',parse_dates=[\"submitted\"])\n",
    "nan_rows = recipes[recipes['n_steps'].isnull()]\n",
    "# nan_rows\n",
    "for recipe in steps_sample.find_all('recipe'):\n",
    "    if int(recipe.id.string) in set(nan_rows['id']):\n",
    "        steps = [step.string for step in recipe.find_all('step')]\n",
    "        \n",
    "        print(len(steps))\n",
    "        \n",
    "#         nan_rows[nan_rows['n_steps']] = len(steps)\n",
    "nan_rows        "
   ]
  },
  {
   "cell_type": "markdown",
   "metadata": {},
   "source": [
    "3.5 Проверьте, содержит ли столбец `n_steps` пропуски. Если нет, то преобразуйте его к целочисленному типу и сохраните результаты в файл `recipes_sample_with_filled_nsteps.csv`"
   ]
  },
  {
   "cell_type": "code",
   "execution_count": null,
   "metadata": {},
   "outputs": [],
   "source": []
  }
 ],
 "metadata": {
  "kernelspec": {
   "display_name": "Python 3",
   "language": "python",
   "name": "python3"
  },
  "language_info": {
   "codemirror_mode": {
    "name": "ipython",
    "version": 3
   },
   "file_extension": ".py",
   "mimetype": "text/x-python",
   "name": "python",
   "nbconvert_exporter": "python",
   "pygments_lexer": "ipython3",
   "version": "3.8.5"
  }
 },
 "nbformat": 4,
 "nbformat_minor": 4
}
