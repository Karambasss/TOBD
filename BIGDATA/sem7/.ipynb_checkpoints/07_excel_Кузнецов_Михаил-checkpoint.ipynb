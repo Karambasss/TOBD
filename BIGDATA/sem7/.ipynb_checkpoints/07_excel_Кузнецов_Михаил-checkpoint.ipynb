{
 "cells": [
  {
   "cell_type": "markdown",
   "metadata": {},
   "source": [
    "# Работа с Excel"
   ]
  },
  {
   "cell_type": "markdown",
   "metadata": {},
   "source": [
    "Материалы:\n",
    "* Макрушин С.В. Лекция 7: Работа с Excel\n",
    "* https://docs.xlwings.org/en/stable/quickstart.html\n",
    "* https://nbviewer.jupyter.org/github/pybokeh/jupyter_notebooks/blob/master/xlwings/Excel_Formatting.ipynb#search_text\n"
   ]
  },
  {
   "cell_type": "markdown",
   "metadata": {},
   "source": [
    "## Задачи для совместного разбора"
   ]
  },
  {
   "cell_type": "code",
   "execution_count": 1,
   "metadata": {},
   "outputs": [],
   "source": [
    "import xlwings as xw\n",
    "import numpy as np"
   ]
  },
  {
   "cell_type": "code",
   "execution_count": 2,
   "metadata": {},
   "outputs": [],
   "source": [
    "DATA_DIR = \"07_excel_data/\"\n",
    "DATA_OLD = \"data_old/\""
   ]
  },
  {
   "cell_type": "code",
   "execution_count": 3,
   "metadata": {},
   "outputs": [
    {
     "data": {
      "text/plain": [
       "'0.24.3'"
      ]
     },
     "execution_count": 3,
     "metadata": {},
     "output_type": "execute_result"
    }
   ],
   "source": [
    "xw.__version__"
   ]
  },
  {
   "cell_type": "code",
   "execution_count": 4,
   "metadata": {},
   "outputs": [
    {
     "name": "stdout",
     "output_type": "stream",
     "text": [
      "Requirement already satisfied: xlwings in d:\\anaconda3\\lib\\site-packages (0.24.3)\n",
      "Requirement already satisfied: pywin32>=224 in d:\\anaconda3\\lib\\site-packages (from xlwings) (227)\n"
     ]
    }
   ],
   "source": [
    "!pip install xlwings"
   ]
  },
  {
   "cell_type": "code",
   "execution_count": 5,
   "metadata": {},
   "outputs": [
    {
     "data": {
      "text/plain": [
       "'0.24.3'"
      ]
     },
     "execution_count": 5,
     "metadata": {},
     "output_type": "execute_result"
    }
   ],
   "source": [
    "xw.__version__"
   ]
  },
  {
   "cell_type": "markdown",
   "metadata": {},
   "source": [
    "1. На листе \"Рецептура\" файла `себестоимостьА_в1.xlsx` для области \"Пшеничный хлеб\" рассчитать себестоимость всех видов продукции."
   ]
  },
  {
   "cell_type": "code",
   "execution_count": 6,
   "metadata": {},
   "outputs": [
    {
     "data": {
      "text/plain": [
       "<Sheet [себестоимостьА_в1.xlsx]Рецептура>"
      ]
     },
     "execution_count": 6,
     "metadata": {},
     "output_type": "execute_result"
    }
   ],
   "source": [
    "book = xw.Book(DATA_DIR + \"себестоимостьА_в1.xlsx\")\n",
    "sheet = book.sheets[\"Рецептура\"]\n",
    "sheet"
   ]
  },
  {
   "cell_type": "code",
   "execution_count": 8,
   "metadata": {},
   "outputs": [
    {
     "data": {
      "text/plain": [
       "array([21.48 , 16.525, 17.423, 18.085])"
      ]
     },
     "execution_count": 8,
     "metadata": {},
     "output_type": "execute_result"
    }
   ],
   "source": [
    "consum = sheet.range(\"G7:O10\").options(np.array).value\n",
    "unit_pr = sheet.range(\"G14:O14\").options(np.array).value\n",
    "cost = np.nan_to_num(consum * unit_pr).sum(axis=1)\n",
    "cost"
   ]
  },
  {
   "cell_type": "markdown",
   "metadata": {},
   "source": [
    "2. Результаты расчетов 1.1 сохранить в отдельном столбце области \"Пшеничный хлеб\""
   ]
  },
  {
   "cell_type": "code",
   "execution_count": 9,
   "metadata": {},
   "outputs": [],
   "source": [
    "sheet.range(\"U7:U10\").options(transpose=True).value = cost\n",
    "sheet.range(\"U6\").value = \"Себестоимость\""
   ]
  },
  {
   "cell_type": "markdown",
   "metadata": {},
   "source": [
    "3. Приблизить форматирование столбца, добавленного в задаче 2 к оформлению всей области."
   ]
  },
  {
   "cell_type": "code",
   "execution_count": 10,
   "metadata": {},
   "outputs": [],
   "source": [
    "sheet.range(\"U7:U10\").color = (200,128,0)"
   ]
  },
  {
   "cell_type": "markdown",
   "metadata": {},
   "source": [
    "4. Выполнить 3 с помощью \"протягиваемых\" формул."
   ]
  },
  {
   "cell_type": "code",
   "execution_count": 11,
   "metadata": {},
   "outputs": [
    {
     "data": {
      "text/plain": [
       "True"
      ]
     },
     "execution_count": 11,
     "metadata": {},
     "output_type": "execute_result"
    }
   ],
   "source": [
    "from xlwings.constants import AutoFillType\n",
    "sheet.range('X7').formula = '=SUMPRODUCT(G7:O7, $G$14:$O$14)'\n",
    "sheet.range('X7').api.AutoFill(sheet.range('X7:X10').api, AutoFillType.xlFillDefault)"
   ]
  },
  {
   "cell_type": "markdown",
   "metadata": {},
   "source": [
    "## Лабораторная работа 7"
   ]
  },
  {
   "cell_type": "markdown",
   "metadata": {},
   "source": [
    "1. Загрузите данные из файлов `reviews_sample.csv` (__ЛР2__) и `recipes_sample_with_tags_ingredients.csv` (__ЛР5__) в виде `pd.DataFrame`. Обратите внимание на корректное считывание столбца(ов) с индексами. Оставьте в таблице с рецептами следующие столбцы: `id`, `name`, `minutes`, `submitted`, `description`, `n_ingredients`"
   ]
  },
  {
   "cell_type": "code",
   "execution_count": 3,
   "metadata": {},
   "outputs": [],
   "source": [
    "import pandas as pd"
   ]
  },
  {
   "cell_type": "code",
   "execution_count": 4,
   "metadata": {},
   "outputs": [],
   "source": [
    "import os \n",
    "path = \"recipes.xlsx\"\n",
    "# if os.path.exists(path):\n",
    "#     os.remove(path)\n",
    "recipes_excel = xw.Book(path)\n",
    "# recipes_excel.save(path)"
   ]
  },
  {
   "cell_type": "code",
   "execution_count": 5,
   "metadata": {},
   "outputs": [
    {
     "data": {
      "text/html": [
       "<div>\n",
       "<style scoped>\n",
       "    .dataframe tbody tr th:only-of-type {\n",
       "        vertical-align: middle;\n",
       "    }\n",
       "\n",
       "    .dataframe tbody tr th {\n",
       "        vertical-align: top;\n",
       "    }\n",
       "\n",
       "    .dataframe thead th {\n",
       "        text-align: right;\n",
       "    }\n",
       "</style>\n",
       "<table border=\"1\" class=\"dataframe\">\n",
       "  <thead>\n",
       "    <tr style=\"text-align: right;\">\n",
       "      <th></th>\n",
       "      <th>user_id</th>\n",
       "      <th>recipe_id</th>\n",
       "      <th>date</th>\n",
       "      <th>rating</th>\n",
       "      <th>review</th>\n",
       "    </tr>\n",
       "    <tr>\n",
       "      <th>index</th>\n",
       "      <th></th>\n",
       "      <th></th>\n",
       "      <th></th>\n",
       "      <th></th>\n",
       "      <th></th>\n",
       "    </tr>\n",
       "  </thead>\n",
       "  <tbody>\n",
       "    <tr>\n",
       "      <th>370476</th>\n",
       "      <td>21752</td>\n",
       "      <td>57993</td>\n",
       "      <td>2003-05-01</td>\n",
       "      <td>5</td>\n",
       "      <td>Last week whole sides of frozen salmon fillet ...</td>\n",
       "    </tr>\n",
       "    <tr>\n",
       "      <th>624300</th>\n",
       "      <td>431813</td>\n",
       "      <td>142201</td>\n",
       "      <td>2007-09-16</td>\n",
       "      <td>5</td>\n",
       "      <td>So simple and so tasty!  I used a yellow capsi...</td>\n",
       "    </tr>\n",
       "    <tr>\n",
       "      <th>187037</th>\n",
       "      <td>400708</td>\n",
       "      <td>252013</td>\n",
       "      <td>2008-01-10</td>\n",
       "      <td>4</td>\n",
       "      <td>Very nice breakfast HH, easy to make and yummy...</td>\n",
       "    </tr>\n",
       "    <tr>\n",
       "      <th>706134</th>\n",
       "      <td>2001852463</td>\n",
       "      <td>404716</td>\n",
       "      <td>2017-12-11</td>\n",
       "      <td>5</td>\n",
       "      <td>These are a favorite for the holidays and so e...</td>\n",
       "    </tr>\n",
       "    <tr>\n",
       "      <th>312179</th>\n",
       "      <td>95810</td>\n",
       "      <td>129396</td>\n",
       "      <td>2008-03-14</td>\n",
       "      <td>5</td>\n",
       "      <td>Excellent soup!  The tomato flavor is just gre...</td>\n",
       "    </tr>\n",
       "    <tr>\n",
       "      <th>...</th>\n",
       "      <td>...</td>\n",
       "      <td>...</td>\n",
       "      <td>...</td>\n",
       "      <td>...</td>\n",
       "      <td>...</td>\n",
       "    </tr>\n",
       "    <tr>\n",
       "      <th>1013457</th>\n",
       "      <td>1270706</td>\n",
       "      <td>335534</td>\n",
       "      <td>2009-05-17</td>\n",
       "      <td>4</td>\n",
       "      <td>This recipe was great! I made it last night. I...</td>\n",
       "    </tr>\n",
       "    <tr>\n",
       "      <th>158736</th>\n",
       "      <td>2282344</td>\n",
       "      <td>8701</td>\n",
       "      <td>2012-06-03</td>\n",
       "      <td>0</td>\n",
       "      <td>This recipe is outstanding. I followed the rec...</td>\n",
       "    </tr>\n",
       "    <tr>\n",
       "      <th>1059834</th>\n",
       "      <td>689540</td>\n",
       "      <td>222001</td>\n",
       "      <td>2008-04-08</td>\n",
       "      <td>5</td>\n",
       "      <td>Well, we were not a crowd but it was a fabulou...</td>\n",
       "    </tr>\n",
       "    <tr>\n",
       "      <th>453285</th>\n",
       "      <td>2000242659</td>\n",
       "      <td>354979</td>\n",
       "      <td>2015-06-02</td>\n",
       "      <td>5</td>\n",
       "      <td>I have been a steak eater and dedicated BBQ gr...</td>\n",
       "    </tr>\n",
       "    <tr>\n",
       "      <th>691207</th>\n",
       "      <td>463435</td>\n",
       "      <td>415599</td>\n",
       "      <td>2010-09-30</td>\n",
       "      <td>5</td>\n",
       "      <td>Wonderful and simple to prepare seasoning blen...</td>\n",
       "    </tr>\n",
       "  </tbody>\n",
       "</table>\n",
       "<p>126696 rows × 5 columns</p>\n",
       "</div>"
      ],
      "text/plain": [
       "            user_id  recipe_id       date  rating  \\\n",
       "index                                               \n",
       "370476        21752      57993 2003-05-01       5   \n",
       "624300       431813     142201 2007-09-16       5   \n",
       "187037       400708     252013 2008-01-10       4   \n",
       "706134   2001852463     404716 2017-12-11       5   \n",
       "312179        95810     129396 2008-03-14       5   \n",
       "...             ...        ...        ...     ...   \n",
       "1013457     1270706     335534 2009-05-17       4   \n",
       "158736      2282344       8701 2012-06-03       0   \n",
       "1059834      689540     222001 2008-04-08       5   \n",
       "453285   2000242659     354979 2015-06-02       5   \n",
       "691207       463435     415599 2010-09-30       5   \n",
       "\n",
       "                                                    review  \n",
       "index                                                       \n",
       "370476   Last week whole sides of frozen salmon fillet ...  \n",
       "624300   So simple and so tasty!  I used a yellow capsi...  \n",
       "187037   Very nice breakfast HH, easy to make and yummy...  \n",
       "706134   These are a favorite for the holidays and so e...  \n",
       "312179   Excellent soup!  The tomato flavor is just gre...  \n",
       "...                                                    ...  \n",
       "1013457  This recipe was great! I made it last night. I...  \n",
       "158736   This recipe is outstanding. I followed the rec...  \n",
       "1059834  Well, we were not a crowd but it was a fabulou...  \n",
       "453285   I have been a steak eater and dedicated BBQ gr...  \n",
       "691207   Wonderful and simple to prepare seasoning blen...  \n",
       "\n",
       "[126696 rows x 5 columns]"
      ]
     },
     "execution_count": 5,
     "metadata": {},
     "output_type": "execute_result"
    }
   ],
   "source": [
    "reviews_sample = pd.read_csv(DATA_OLD + \"reviews_sample.csv\", sep=\",\", parse_dates=['date'])\n",
    "reviews_sample = reviews_sample.rename(columns={\"Unnamed: 0\": \"index\"})\n",
    "reviews_sample = reviews_sample.set_index(\"index\")\n",
    "reviews_sample"
   ]
  },
  {
   "cell_type": "code",
   "execution_count": 6,
   "metadata": {},
   "outputs": [
    {
     "data": {
      "text/html": [
       "<div>\n",
       "<style scoped>\n",
       "    .dataframe tbody tr th:only-of-type {\n",
       "        vertical-align: middle;\n",
       "    }\n",
       "\n",
       "    .dataframe tbody tr th {\n",
       "        vertical-align: top;\n",
       "    }\n",
       "\n",
       "    .dataframe thead th {\n",
       "        text-align: right;\n",
       "    }\n",
       "</style>\n",
       "<table border=\"1\" class=\"dataframe\">\n",
       "  <thead>\n",
       "    <tr style=\"text-align: right;\">\n",
       "      <th></th>\n",
       "      <th>name</th>\n",
       "      <th>id</th>\n",
       "      <th>minutes</th>\n",
       "      <th>submitted</th>\n",
       "      <th>description</th>\n",
       "      <th>n_ingredients</th>\n",
       "    </tr>\n",
       "    <tr>\n",
       "      <th>index</th>\n",
       "      <th></th>\n",
       "      <th></th>\n",
       "      <th></th>\n",
       "      <th></th>\n",
       "      <th></th>\n",
       "      <th></th>\n",
       "    </tr>\n",
       "  </thead>\n",
       "  <tbody>\n",
       "    <tr>\n",
       "      <th>0</th>\n",
       "      <td>george s at the cove  black bean soup</td>\n",
       "      <td>44123</td>\n",
       "      <td>90</td>\n",
       "      <td>2002-10-25</td>\n",
       "      <td>an original recipe created by chef scott meska...</td>\n",
       "      <td>18</td>\n",
       "    </tr>\n",
       "    <tr>\n",
       "      <th>1</th>\n",
       "      <td>healthy for them  yogurt popsicles</td>\n",
       "      <td>67664</td>\n",
       "      <td>10</td>\n",
       "      <td>2003-07-26</td>\n",
       "      <td>my children and their friends ask for my homem...</td>\n",
       "      <td>3</td>\n",
       "    </tr>\n",
       "    <tr>\n",
       "      <th>2</th>\n",
       "      <td>i can t believe it s spinach</td>\n",
       "      <td>38798</td>\n",
       "      <td>30</td>\n",
       "      <td>2002-08-29</td>\n",
       "      <td>these were so go, it surprised even me.</td>\n",
       "      <td>8</td>\n",
       "    </tr>\n",
       "    <tr>\n",
       "      <th>3</th>\n",
       "      <td>italian  gut busters</td>\n",
       "      <td>35173</td>\n",
       "      <td>45</td>\n",
       "      <td>2002-07-27</td>\n",
       "      <td>my sister-in-law made these for us at a family...</td>\n",
       "      <td>9</td>\n",
       "    </tr>\n",
       "    <tr>\n",
       "      <th>4</th>\n",
       "      <td>love is in the air  beef fondue   sauces</td>\n",
       "      <td>84797</td>\n",
       "      <td>25</td>\n",
       "      <td>2004-02-23</td>\n",
       "      <td>i think a fondue is a very romantic casual din...</td>\n",
       "      <td>12</td>\n",
       "    </tr>\n",
       "    <tr>\n",
       "      <th>...</th>\n",
       "      <td>...</td>\n",
       "      <td>...</td>\n",
       "      <td>...</td>\n",
       "      <td>...</td>\n",
       "      <td>...</td>\n",
       "      <td>...</td>\n",
       "    </tr>\n",
       "    <tr>\n",
       "      <th>29995</th>\n",
       "      <td>zurie s holey rustic olive and cheddar bread</td>\n",
       "      <td>267661</td>\n",
       "      <td>80</td>\n",
       "      <td>2007-11-25</td>\n",
       "      <td>this is based on a french recipe but i changed...</td>\n",
       "      <td>10</td>\n",
       "    </tr>\n",
       "    <tr>\n",
       "      <th>29996</th>\n",
       "      <td>zwetschgenkuchen  bavarian plum cake</td>\n",
       "      <td>386977</td>\n",
       "      <td>240</td>\n",
       "      <td>2009-08-24</td>\n",
       "      <td>this is a traditional fresh plum cake, thought...</td>\n",
       "      <td>11</td>\n",
       "    </tr>\n",
       "    <tr>\n",
       "      <th>29997</th>\n",
       "      <td>zwiebelkuchen   southwest german onion cake</td>\n",
       "      <td>103312</td>\n",
       "      <td>75</td>\n",
       "      <td>2004-11-03</td>\n",
       "      <td>this is a traditional late summer early fall s...</td>\n",
       "      <td>13</td>\n",
       "    </tr>\n",
       "    <tr>\n",
       "      <th>29998</th>\n",
       "      <td>zydeco soup</td>\n",
       "      <td>486161</td>\n",
       "      <td>60</td>\n",
       "      <td>2012-08-29</td>\n",
       "      <td>this is a delicious soup that i originally fou...</td>\n",
       "      <td>22</td>\n",
       "    </tr>\n",
       "    <tr>\n",
       "      <th>29999</th>\n",
       "      <td>cookies by design   cookies on a stick</td>\n",
       "      <td>298512</td>\n",
       "      <td>29</td>\n",
       "      <td>2008-04-15</td>\n",
       "      <td>i've heard of the 'cookies by design' company,...</td>\n",
       "      <td>10</td>\n",
       "    </tr>\n",
       "  </tbody>\n",
       "</table>\n",
       "<p>30000 rows × 6 columns</p>\n",
       "</div>"
      ],
      "text/plain": [
       "                                               name      id  minutes  \\\n",
       "index                                                                  \n",
       "0             george s at the cove  black bean soup   44123       90   \n",
       "1                healthy for them  yogurt popsicles   67664       10   \n",
       "2                      i can t believe it s spinach   38798       30   \n",
       "3                              italian  gut busters   35173       45   \n",
       "4          love is in the air  beef fondue   sauces   84797       25   \n",
       "...                                             ...     ...      ...   \n",
       "29995  zurie s holey rustic olive and cheddar bread  267661       80   \n",
       "29996          zwetschgenkuchen  bavarian plum cake  386977      240   \n",
       "29997   zwiebelkuchen   southwest german onion cake  103312       75   \n",
       "29998                                   zydeco soup  486161       60   \n",
       "29999        cookies by design   cookies on a stick  298512       29   \n",
       "\n",
       "       submitted                                        description  \\\n",
       "index                                                                 \n",
       "0     2002-10-25  an original recipe created by chef scott meska...   \n",
       "1     2003-07-26  my children and their friends ask for my homem...   \n",
       "2     2002-08-29            these were so go, it surprised even me.   \n",
       "3     2002-07-27  my sister-in-law made these for us at a family...   \n",
       "4     2004-02-23  i think a fondue is a very romantic casual din...   \n",
       "...          ...                                                ...   \n",
       "29995 2007-11-25  this is based on a french recipe but i changed...   \n",
       "29996 2009-08-24  this is a traditional fresh plum cake, thought...   \n",
       "29997 2004-11-03  this is a traditional late summer early fall s...   \n",
       "29998 2012-08-29  this is a delicious soup that i originally fou...   \n",
       "29999 2008-04-15  i've heard of the 'cookies by design' company,...   \n",
       "\n",
       "       n_ingredients  \n",
       "index                 \n",
       "0                 18  \n",
       "1                  3  \n",
       "2                  8  \n",
       "3                  9  \n",
       "4                 12  \n",
       "...              ...  \n",
       "29995             10  \n",
       "29996             11  \n",
       "29997             13  \n",
       "29998             22  \n",
       "29999             10  \n",
       "\n",
       "[30000 rows x 6 columns]"
      ]
     },
     "execution_count": 6,
     "metadata": {},
     "output_type": "execute_result"
    }
   ],
   "source": [
    "recipes_sample_with_tags_ingredients = pd.read_csv(DATA_OLD+\"recipes_sample_with_tags_ingredients.csv\", sep=\",\", parse_dates=['submitted'])\n",
    "recipes_sample_with_tags_ingredients = recipes_sample_with_tags_ingredients.rename(columns={\"Unnamed: 0\": \"index\"})\n",
    "recipes_sample_with_tags_ingredients = recipes_sample_with_tags_ingredients.set_index(\"index\")\n",
    "recipes_sample_with_tags_ingredients.drop([\"contributor_id\", \"n_steps\",\"n_tags\",\"tags\",\"ingredients\"], axis=1, inplace=True)\n",
    "recipes_sample_with_tags_ingredients"
   ]
  },
  {
   "cell_type": "markdown",
   "metadata": {},
   "source": [
    "2. Случайным образом выберите 5% строк из каждой таблицы и сохраните две таблицы на разные листы в один файл `recipes.xlsx`. Дайте листам названия \"Рецепты\" и \"Отзывы\", соответствующие содержанию таблиц. "
   ]
  },
  {
   "cell_type": "code",
   "execution_count": 7,
   "metadata": {},
   "outputs": [
    {
     "data": {
      "text/html": [
       "<div>\n",
       "<style scoped>\n",
       "    .dataframe tbody tr th:only-of-type {\n",
       "        vertical-align: middle;\n",
       "    }\n",
       "\n",
       "    .dataframe tbody tr th {\n",
       "        vertical-align: top;\n",
       "    }\n",
       "\n",
       "    .dataframe thead th {\n",
       "        text-align: right;\n",
       "    }\n",
       "</style>\n",
       "<table border=\"1\" class=\"dataframe\">\n",
       "  <thead>\n",
       "    <tr style=\"text-align: right;\">\n",
       "      <th></th>\n",
       "      <th>name</th>\n",
       "      <th>id</th>\n",
       "      <th>minutes</th>\n",
       "      <th>submitted</th>\n",
       "      <th>description</th>\n",
       "      <th>n_ingredients</th>\n",
       "    </tr>\n",
       "    <tr>\n",
       "      <th>index</th>\n",
       "      <th></th>\n",
       "      <th></th>\n",
       "      <th></th>\n",
       "      <th></th>\n",
       "      <th></th>\n",
       "      <th></th>\n",
       "    </tr>\n",
       "  </thead>\n",
       "  <tbody>\n",
       "    <tr>\n",
       "      <th>21241</th>\n",
       "      <td>pork loin chops and scalloped potatoes</td>\n",
       "      <td>446854</td>\n",
       "      <td>60</td>\n",
       "      <td>2011-01-19</td>\n",
       "      <td>this is an easy simple dish that almost makes ...</td>\n",
       "      <td>6</td>\n",
       "    </tr>\n",
       "    <tr>\n",
       "      <th>24229</th>\n",
       "      <td>simple fennel salad</td>\n",
       "      <td>384583</td>\n",
       "      <td>16</td>\n",
       "      <td>2009-08-07</td>\n",
       "      <td>i've only begun to eat fennel and have decided...</td>\n",
       "      <td>7</td>\n",
       "    </tr>\n",
       "    <tr>\n",
       "      <th>23480</th>\n",
       "      <td>sausage stuffed banana peppers</td>\n",
       "      <td>92892</td>\n",
       "      <td>150</td>\n",
       "      <td>2004-06-07</td>\n",
       "      <td>i wish i could say i developed this recipe on ...</td>\n",
       "      <td>18</td>\n",
       "    </tr>\n",
       "    <tr>\n",
       "      <th>27825</th>\n",
       "      <td>tomato  basil  and lentil soup</td>\n",
       "      <td>200421</td>\n",
       "      <td>40</td>\n",
       "      <td>2006-12-13</td>\n",
       "      <td>i created this soup many years ago after eatin...</td>\n",
       "      <td>12</td>\n",
       "    </tr>\n",
       "    <tr>\n",
       "      <th>21568</th>\n",
       "      <td>prime rib for 2</td>\n",
       "      <td>340449</td>\n",
       "      <td>1515</td>\n",
       "      <td>2008-12-01</td>\n",
       "      <td>this is a method more than a recipe. it is har...</td>\n",
       "      <td>5</td>\n",
       "    </tr>\n",
       "    <tr>\n",
       "      <th>...</th>\n",
       "      <td>...</td>\n",
       "      <td>...</td>\n",
       "      <td>...</td>\n",
       "      <td>...</td>\n",
       "      <td>...</td>\n",
       "      <td>...</td>\n",
       "    </tr>\n",
       "    <tr>\n",
       "      <th>14970</th>\n",
       "      <td>jenny s beef enchiladas</td>\n",
       "      <td>262832</td>\n",
       "      <td>29</td>\n",
       "      <td>2007-11-01</td>\n",
       "      <td>this is a basic recipe and the ingredients are...</td>\n",
       "      <td>9</td>\n",
       "    </tr>\n",
       "    <tr>\n",
       "      <th>13040</th>\n",
       "      <td>grilled swiss   tomato on rye</td>\n",
       "      <td>320417</td>\n",
       "      <td>10</td>\n",
       "      <td>2008-08-19</td>\n",
       "      <td>this was a frequently ordered sandwich, even t...</td>\n",
       "      <td>4</td>\n",
       "    </tr>\n",
       "    <tr>\n",
       "      <th>4765</th>\n",
       "      <td>carla s ono sweet potatoes</td>\n",
       "      <td>39065</td>\n",
       "      <td>65</td>\n",
       "      <td>2002-09-02</td>\n",
       "      <td>another delicious way to serve sweet potatoes....</td>\n",
       "      <td>8</td>\n",
       "    </tr>\n",
       "    <tr>\n",
       "      <th>9635</th>\n",
       "      <td>dreamy stuffed portabellas  vegetarian</td>\n",
       "      <td>242114</td>\n",
       "      <td>10</td>\n",
       "      <td>2007-07-23</td>\n",
       "      <td>my own creation of a true stuffed shroom!</td>\n",
       "      <td>11</td>\n",
       "    </tr>\n",
       "    <tr>\n",
       "      <th>21204</th>\n",
       "      <td>pork chops in mustard mushroom sauce</td>\n",
       "      <td>250982</td>\n",
       "      <td>35</td>\n",
       "      <td>2007-09-04</td>\n",
       "      <td>a simple and tasty dish from gourmet, november...</td>\n",
       "      <td>8</td>\n",
       "    </tr>\n",
       "  </tbody>\n",
       "</table>\n",
       "<p>1500 rows × 6 columns</p>\n",
       "</div>"
      ],
      "text/plain": [
       "                                         name      id  minutes  submitted  \\\n",
       "index                                                                       \n",
       "21241  pork loin chops and scalloped potatoes  446854       60 2011-01-19   \n",
       "24229                     simple fennel salad  384583       16 2009-08-07   \n",
       "23480          sausage stuffed banana peppers   92892      150 2004-06-07   \n",
       "27825          tomato  basil  and lentil soup  200421       40 2006-12-13   \n",
       "21568                         prime rib for 2  340449     1515 2008-12-01   \n",
       "...                                       ...     ...      ...        ...   \n",
       "14970                 jenny s beef enchiladas  262832       29 2007-11-01   \n",
       "13040           grilled swiss   tomato on rye  320417       10 2008-08-19   \n",
       "4765               carla s ono sweet potatoes   39065       65 2002-09-02   \n",
       "9635   dreamy stuffed portabellas  vegetarian  242114       10 2007-07-23   \n",
       "21204    pork chops in mustard mushroom sauce  250982       35 2007-09-04   \n",
       "\n",
       "                                             description  n_ingredients  \n",
       "index                                                                    \n",
       "21241  this is an easy simple dish that almost makes ...              6  \n",
       "24229  i've only begun to eat fennel and have decided...              7  \n",
       "23480  i wish i could say i developed this recipe on ...             18  \n",
       "27825  i created this soup many years ago after eatin...             12  \n",
       "21568  this is a method more than a recipe. it is har...              5  \n",
       "...                                                  ...            ...  \n",
       "14970  this is a basic recipe and the ingredients are...              9  \n",
       "13040  this was a frequently ordered sandwich, even t...              4  \n",
       "4765   another delicious way to serve sweet potatoes....              8  \n",
       "9635           my own creation of a true stuffed shroom!             11  \n",
       "21204  a simple and tasty dish from gourmet, november...              8  \n",
       "\n",
       "[1500 rows x 6 columns]"
      ]
     },
     "execution_count": 7,
     "metadata": {},
     "output_type": "execute_result"
    }
   ],
   "source": [
    "new_recipes = recipes_sample_with_tags_ingredients.sample(frac = 0.05) #взять 5% от исходного\n",
    "new_reviews = reviews_sample.sample(frac = 0.05) \n",
    "new_recipes"
   ]
  },
  {
   "cell_type": "code",
   "execution_count": 8,
   "metadata": {},
   "outputs": [
    {
     "data": {
      "text/html": [
       "<div>\n",
       "<style scoped>\n",
       "    .dataframe tbody tr th:only-of-type {\n",
       "        vertical-align: middle;\n",
       "    }\n",
       "\n",
       "    .dataframe tbody tr th {\n",
       "        vertical-align: top;\n",
       "    }\n",
       "\n",
       "    .dataframe thead th {\n",
       "        text-align: right;\n",
       "    }\n",
       "</style>\n",
       "<table border=\"1\" class=\"dataframe\">\n",
       "  <thead>\n",
       "    <tr style=\"text-align: right;\">\n",
       "      <th></th>\n",
       "      <th>user_id</th>\n",
       "      <th>recipe_id</th>\n",
       "      <th>date</th>\n",
       "      <th>rating</th>\n",
       "      <th>review</th>\n",
       "    </tr>\n",
       "    <tr>\n",
       "      <th>index</th>\n",
       "      <th></th>\n",
       "      <th></th>\n",
       "      <th></th>\n",
       "      <th></th>\n",
       "      <th></th>\n",
       "    </tr>\n",
       "  </thead>\n",
       "  <tbody>\n",
       "    <tr>\n",
       "      <th>1022048</th>\n",
       "      <td>121113</td>\n",
       "      <td>21597</td>\n",
       "      <td>2009-04-10</td>\n",
       "      <td>5</td>\n",
       "      <td>This is the second time I have made these and ...</td>\n",
       "    </tr>\n",
       "    <tr>\n",
       "      <th>710165</th>\n",
       "      <td>32673</td>\n",
       "      <td>15331</td>\n",
       "      <td>2006-10-13</td>\n",
       "      <td>5</td>\n",
       "      <td>I made this recipe with fresh pears off my tre...</td>\n",
       "    </tr>\n",
       "    <tr>\n",
       "      <th>422355</th>\n",
       "      <td>84830</td>\n",
       "      <td>52050</td>\n",
       "      <td>2009-10-12</td>\n",
       "      <td>5</td>\n",
       "      <td>I make this frequently.  It's real comfort foo...</td>\n",
       "    </tr>\n",
       "    <tr>\n",
       "      <th>789052</th>\n",
       "      <td>46660</td>\n",
       "      <td>34901</td>\n",
       "      <td>2005-05-18</td>\n",
       "      <td>5</td>\n",
       "      <td>These were great!  Even my son, who never eats...</td>\n",
       "    </tr>\n",
       "    <tr>\n",
       "      <th>1040610</th>\n",
       "      <td>89831</td>\n",
       "      <td>61755</td>\n",
       "      <td>2006-02-02</td>\n",
       "      <td>5</td>\n",
       "      <td>Very good and easy to make also! I have to say...</td>\n",
       "    </tr>\n",
       "    <tr>\n",
       "      <th>...</th>\n",
       "      <td>...</td>\n",
       "      <td>...</td>\n",
       "      <td>...</td>\n",
       "      <td>...</td>\n",
       "      <td>...</td>\n",
       "    </tr>\n",
       "    <tr>\n",
       "      <th>64788</th>\n",
       "      <td>2000074819</td>\n",
       "      <td>426187</td>\n",
       "      <td>2015-03-21</td>\n",
       "      <td>5</td>\n",
       "      <td>Delicious and easy to make! Next time I will a...</td>\n",
       "    </tr>\n",
       "    <tr>\n",
       "      <th>676785</th>\n",
       "      <td>9579</td>\n",
       "      <td>125195</td>\n",
       "      <td>2005-07-19</td>\n",
       "      <td>5</td>\n",
       "      <td>This was very tasty! I used canned peas, shred...</td>\n",
       "    </tr>\n",
       "    <tr>\n",
       "      <th>229812</th>\n",
       "      <td>85873</td>\n",
       "      <td>226363</td>\n",
       "      <td>2007-05-06</td>\n",
       "      <td>5</td>\n",
       "      <td>Saw this recipe &amp; Dh's dad was coming for coff...</td>\n",
       "    </tr>\n",
       "    <tr>\n",
       "      <th>838856</th>\n",
       "      <td>622244</td>\n",
       "      <td>494567</td>\n",
       "      <td>2014-03-27</td>\n",
       "      <td>5</td>\n",
       "      <td>Thank you so much for posting this recipe! I h...</td>\n",
       "    </tr>\n",
       "    <tr>\n",
       "      <th>39028</th>\n",
       "      <td>418915</td>\n",
       "      <td>170022</td>\n",
       "      <td>2007-06-26</td>\n",
       "      <td>5</td>\n",
       "      <td>Great pound cake with a hint of cinnamon.  The...</td>\n",
       "    </tr>\n",
       "  </tbody>\n",
       "</table>\n",
       "<p>6335 rows × 5 columns</p>\n",
       "</div>"
      ],
      "text/plain": [
       "            user_id  recipe_id       date  rating  \\\n",
       "index                                               \n",
       "1022048      121113      21597 2009-04-10       5   \n",
       "710165        32673      15331 2006-10-13       5   \n",
       "422355        84830      52050 2009-10-12       5   \n",
       "789052        46660      34901 2005-05-18       5   \n",
       "1040610       89831      61755 2006-02-02       5   \n",
       "...             ...        ...        ...     ...   \n",
       "64788    2000074819     426187 2015-03-21       5   \n",
       "676785         9579     125195 2005-07-19       5   \n",
       "229812        85873     226363 2007-05-06       5   \n",
       "838856       622244     494567 2014-03-27       5   \n",
       "39028        418915     170022 2007-06-26       5   \n",
       "\n",
       "                                                    review  \n",
       "index                                                       \n",
       "1022048  This is the second time I have made these and ...  \n",
       "710165   I made this recipe with fresh pears off my tre...  \n",
       "422355   I make this frequently.  It's real comfort foo...  \n",
       "789052   These were great!  Even my son, who never eats...  \n",
       "1040610  Very good and easy to make also! I have to say...  \n",
       "...                                                    ...  \n",
       "64788    Delicious and easy to make! Next time I will a...  \n",
       "676785   This was very tasty! I used canned peas, shred...  \n",
       "229812   Saw this recipe & Dh's dad was coming for coff...  \n",
       "838856   Thank you so much for posting this recipe! I h...  \n",
       "39028    Great pound cake with a hint of cinnamon.  The...  \n",
       "\n",
       "[6335 rows x 5 columns]"
      ]
     },
     "execution_count": 8,
     "metadata": {},
     "output_type": "execute_result"
    }
   ],
   "source": [
    "new_reviews"
   ]
  },
  {
   "cell_type": "code",
   "execution_count": 9,
   "metadata": {},
   "outputs": [],
   "source": [
    "recipes_sheet = recipes_excel.sheets.add(\"Рецепты\")\n",
    "reviews_sheet = recipes_excel.sheets.add(\"Отзывы\")\n"
   ]
  },
  {
   "cell_type": "code",
   "execution_count": 10,
   "metadata": {},
   "outputs": [],
   "source": [
    "recipes_excel.sheets[\"Sheet1\"].delete()"
   ]
  },
  {
   "cell_type": "code",
   "execution_count": 11,
   "metadata": {},
   "outputs": [],
   "source": [
    "recipes_sheet.range(\"A1\").value = new_recipes\n",
    "reviews_sheet.range(\"A1\").value = new_reviews"
   ]
  },
  {
   "cell_type": "markdown",
   "metadata": {},
   "source": [
    "3. Используя `xlwings`, добавьте на лист `Рецепты` столбец `seconds_assign`, показывающий время выполнения рецепта в секундах. Выполните задание при помощи присваивания массива значений диапазону ячеек."
   ]
  },
  {
   "cell_type": "code",
   "execution_count": 12,
   "metadata": {},
   "outputs": [],
   "source": [
    "recipes_sheet.range(\"J1\").value=\"seconds_assign\"\n",
    "minutes = recipes_sheet.range(\"D2:D1501\").options(np.array).value\n",
    "seconds = minutes * 60\n",
    "recipes_sheet.range(\"J2\").options(transpose=True).value = seconds"
   ]
  },
  {
   "cell_type": "markdown",
   "metadata": {},
   "source": [
    "4. Используя `xlwings`, добавьте на лист `Рецепты` столбец `seconds_formula`, показывающий время выполнения рецепта в секундах. Выполните задание при помощи формул Excel."
   ]
  },
  {
   "cell_type": "code",
   "execution_count": 13,
   "metadata": {},
   "outputs": [
    {
     "data": {
      "text/plain": [
       "True"
      ]
     },
     "execution_count": 13,
     "metadata": {},
     "output_type": "execute_result"
    }
   ],
   "source": [
    "from xlwings.constants import AutoFillType\n",
    "recipes_sheet.range(\"L1\").value=\"seconds_formula\"\n",
    "recipes_sheet.range(\"L2\").formula=\"=D2*60\"\n",
    "recipes_sheet.range(\"L2\").api.AutoFill(recipes_sheet.range(\"L2:L1501\").api, AutoFillType.xlFillDefault)"
   ]
  },
  {
   "cell_type": "markdown",
   "metadata": {},
   "source": [
    "5. Добавьте на лист `Рецепты`  столбец `n_reviews`, содержащий кол-во отзывов для этого рецепта. Выполните задание при помощи формул Excel."
   ]
  },
  {
   "cell_type": "code",
   "execution_count": 14,
   "metadata": {},
   "outputs": [
    {
     "data": {
      "text/plain": [
       "True"
      ]
     },
     "execution_count": 14,
     "metadata": {},
     "output_type": "execute_result"
    }
   ],
   "source": [
    "recipes_sheet.range(\"N1\").value=\"n_reviews\"\n",
    "recipes_sheet.range('N2').formula = '=COUNTIF(Отзывы!$C$2:Отзывы!$C$6336, \"=\"&Рецепты!C2)'\n",
    "recipes_sheet.range('N2').api.AutoFill(recipes_sheet.range('N2:N1501').api, AutoFillType.xlFillDefault)"
   ]
  },
  {
   "cell_type": "markdown",
   "metadata": {},
   "source": [
    "6. Сделайте названия всех добавленных столбцов полужирными и выровняйте по центру ячейки."
   ]
  },
  {
   "cell_type": "code",
   "execution_count": 15,
   "metadata": {},
   "outputs": [],
   "source": [
    "from xlwings import constants \n",
    "recipes_sheet['L1'].font.bold = True\n",
    "recipes_sheet['J1'].api.HorizontalAlignment = constants.HAlign.xlHAlignCenter"
   ]
  },
  {
   "cell_type": "code",
   "execution_count": 16,
   "metadata": {},
   "outputs": [],
   "source": [
    "recipes_sheet['J1'].font.bold = True\n",
    "recipes_sheet['L1'].api.HorizontalAlignment = constants.HAlign.xlHAlignCenter"
   ]
  },
  {
   "cell_type": "code",
   "execution_count": 17,
   "metadata": {},
   "outputs": [],
   "source": [
    "recipes_sheet['N1'].font.bold = True\n",
    "recipes_sheet['N1'].api.HorizontalAlignment = constants.HAlign.xlHAlignCenter"
   ]
  },
  {
   "cell_type": "code",
   "execution_count": 18,
   "metadata": {},
   "outputs": [],
   "source": [
    "#Или так\n",
    "recipes_sheet.range('L1').font.bold = True"
   ]
  },
  {
   "cell_type": "markdown",
   "metadata": {},
   "source": [
    "7. Раскрасьте ячейки столбца `minutes` в соответствии со следующим правилом: если рецепт выполняется быстрее 5 минут, то цвет - зеленый; от 5 до 10 минут - жёлтый; и больше 10 - красный."
   ]
  },
  {
   "cell_type": "code",
   "execution_count": 19,
   "metadata": {},
   "outputs": [],
   "source": [
    "#1 способ\n",
    "def color_of_minutes(minutes):\n",
    "    if minutes < 5:\n",
    "        R = 0\n",
    "        G = 255\n",
    "        B = 0\n",
    "    elif 5 <= minutes <= 10:\n",
    "        R = 255\n",
    "        G = 255\n",
    "        B = 0\n",
    "    elif minutes > 10:\n",
    "        R = 255\n",
    "        G = 0\n",
    "        B = 0\n",
    "    return (R,G,B)\n",
    "for v in recipes_sheet.range(\"D2:D1501\"): #v - объект Range\n",
    "    #print(v.get_address())\n",
    "    #print(v.value)\n",
    "    recipes_sheet[v.get_address()].color = color_of_minutes(v.value)\n",
    "    "
   ]
  },
  {
   "cell_type": "code",
   "execution_count": 20,
   "metadata": {},
   "outputs": [],
   "source": [
    "#2 способ\n",
    "def color_of_minutes(minutes):\n",
    "    if minutes < 5:\n",
    "        R = 0\n",
    "        G = 255\n",
    "        B = 0\n",
    "    elif 5 <= minutes <= 10:\n",
    "        R = 255\n",
    "        G = 255\n",
    "        B = 0\n",
    "    elif minutes > 10:\n",
    "        R = 255\n",
    "        G = 0\n",
    "        B = 0\n",
    "    return (R,G,B)\n",
    "for v in recipes_sheet.range(\"D2:D1501\"):\n",
    "    #print(v.get_address())\n",
    "    #print(v.value)\n",
    "    recipes_sheet.range(v.get_address()).color = color_of_minutes(v.value)"
   ]
  },
  {
   "cell_type": "markdown",
   "metadata": {},
   "source": [
    "8. Напишите функцию `validate()`, которая проверяет соответствие всех строк из листа `Отзывы` следующим правилам:\n",
    "    * Рейтинг - это число от 0 до 5 включительно\n",
    "    * Соответствующий рецепт имеется на листе `Рецепты`\n",
    "    \n",
    "В случае несоответствия этим правилам, выделите строку красным цветом"
   ]
  },
  {
   "cell_type": "code",
   "execution_count": 39,
   "metadata": {},
   "outputs": [],
   "source": [
    "def validate(sheet):\n",
    "    sheet.range(\"G1\").value = \"8_task\"\n",
    "    sheet.range('G2').formula = '=COUNTIF(Рецепты!$C$2:Рецепты!$C$1501,\"=\"&C2)>0'\n",
    "    sheet.range('G2').api.AutoFill(sheet.range(f'G2:G6337').api, AutoFillType.xlFillDefault)\n",
    "    for i in range(2, len(new_reviews) + 2):\n",
    "        rating = sheet.range(f'E{i}').value\n",
    "        if (rating < 0 or rating > 5) or sheet.range(f'G{i}').value == False:\n",
    "            sheet.range(f'A{i}:F{i}').color = (255, 0, 0)\n",
    "    sheet.range(\"G:G\").api.Delete()"
   ]
  },
  {
   "cell_type": "code",
   "execution_count": 40,
   "metadata": {},
   "outputs": [],
   "source": [
    "validate(reviews_sheet)"
   ]
  },
  {
   "cell_type": "code",
   "execution_count": 41,
   "metadata": {},
   "outputs": [],
   "source": [
    "recipes_excel.save(\"recipes.xlsx\")\n",
    "recipes_excel.close()"
   ]
  }
 ],
 "metadata": {
  "kernelspec": {
   "display_name": "Python 3",
   "language": "python",
   "name": "python3"
  },
  "language_info": {
   "codemirror_mode": {
    "name": "ipython",
    "version": 3
   },
   "file_extension": ".py",
   "mimetype": "text/x-python",
   "name": "python",
   "nbconvert_exporter": "python",
   "pygments_lexer": "ipython3",
   "version": "3.8.5"
  }
 },
 "nbformat": 4,
 "nbformat_minor": 4
}
