{
 "cells": [
  {
   "cell_type": "markdown",
   "metadata": {},
   "source": [
    "1. Задан двухмерный массив ar1 размерности (10, 10), состоящий из случайных целых чисел в пределах от 0 до 15. Вычислить разность s_odd - s_even, где s_odd - сумма элементов, стоящих на позиции (x, y), где (x + y) является нечетным числом; s_even - сумма элементов, стоящих на позиции (x, y), где (x + y) является четным числом.\n",
    "Решить задачу средствами numpy и/или pandas. Не использовать циклы и конструкции стандартного Python там, где можно использовать возможности данных библиотек\n"
   ]
  },
  {
   "cell_type": "code",
   "execution_count": 1,
   "metadata": {},
   "outputs": [],
   "source": [
    "import numpy as np"
   ]
  },
  {
   "cell_type": "code",
   "execution_count": 6,
   "metadata": {},
   "outputs": [
    {
     "data": {
      "text/plain": [
       "array([[ 3,  9, 11, 13, 12,  3,  7, 10, 14, 14],\n",
       "       [ 5,  8, 14,  1,  6, 11,  6,  7,  3,  6],\n",
       "       [ 2, 12, 13,  0,  2,  3,  7,  2,  3, 14],\n",
       "       [ 4,  7,  9,  6,  5,  7,  1,  7,  7, 13],\n",
       "       [ 8,  0, 13,  7,  8, 12, 11,  5,  0,  0],\n",
       "       [ 2,  1, 14,  8,  3,  7,  6,  3,  4, 10],\n",
       "       [10,  6, 14,  7, 11,  9,  8,  2, 10,  4],\n",
       "       [ 3,  0, 13,  6,  9,  9, 14,  4,  9,  7],\n",
       "       [ 2,  1,  0,  1,  7,  5,  6,  6,  3, 13],\n",
       "       [ 7,  7, 10,  4,  5,  3,  3,  7,  3,  5]])"
      ]
     },
     "execution_count": 6,
     "metadata": {},
     "output_type": "execute_result"
    }
   ],
   "source": [
    "ar1 = np.random.randint(0,15,size =(10,10))\n",
    "ar1"
   ]
  },
  {
   "cell_type": "code",
   "execution_count": null,
   "metadata": {},
   "outputs": [],
   "source": [
    "КАК СТОЯТ ЭЛЕМЕНТЫ\n",
    "\n",
    "четн нечетн четн нечетн\n",
    "нечетн четн нечетн четн \n",
    "четн нечетн четн нечетн \n",
    "нечетн четн нечетн четн"
   ]
  },
  {
   "cell_type": "code",
   "execution_count": 32,
   "metadata": {},
   "outputs": [
    {
     "data": {
      "text/plain": [
       "array([[ 3,  9, 11, 13, 12,  3,  7, 10, 14, 14],\n",
       "       [ 2, 12, 13,  0,  2,  3,  7,  2,  3, 14],\n",
       "       [ 8,  0, 13,  7,  8, 12, 11,  5,  0,  0],\n",
       "       [10,  6, 14,  7, 11,  9,  8,  2, 10,  4],\n",
       "       [ 2,  1,  0,  1,  7,  5,  6,  6,  3, 13]])"
      ]
     },
     "execution_count": 32,
     "metadata": {},
     "output_type": "execute_result"
    }
   ],
   "source": [
    "ar1[::2]"
   ]
  },
  {
   "cell_type": "code",
   "execution_count": 31,
   "metadata": {},
   "outputs": [
    {
     "data": {
      "text/plain": [
       "array([[ 5,  8, 14,  1,  6, 11,  6,  7,  3,  6],\n",
       "       [ 4,  7,  9,  6,  5,  7,  1,  7,  7, 13],\n",
       "       [ 2,  1, 14,  8,  3,  7,  6,  3,  4, 10],\n",
       "       [ 3,  0, 13,  6,  9,  9, 14,  4,  9,  7],\n",
       "       [ 7,  7, 10,  4,  5,  3,  3,  7,  3,  5]])"
      ]
     },
     "execution_count": 31,
     "metadata": {},
     "output_type": "execute_result"
    }
   ],
   "source": [
    "ar1[1::2]"
   ]
  },
  {
   "cell_type": "code",
   "execution_count": 30,
   "metadata": {},
   "outputs": [
    {
     "data": {
      "text/plain": [
       "339"
      ]
     },
     "execution_count": 30,
     "metadata": {},
     "output_type": "execute_result"
    }
   ],
   "source": [
    "s_even = np.sum([ar1[::2,::2], ar1[1::2,1::2]])\n",
    "s_even"
   ]
  },
  {
   "cell_type": "code",
   "execution_count": 33,
   "metadata": {},
   "outputs": [
    {
     "data": {
      "text/plain": [
       "323"
      ]
     },
     "execution_count": 33,
     "metadata": {},
     "output_type": "execute_result"
    }
   ],
   "source": [
    "s_odd = np.sum([ar1[1::2,::2], ar1[::2,1::2]])\n",
    "s_odd"
   ]
  },
  {
   "cell_type": "code",
   "execution_count": 34,
   "metadata": {},
   "outputs": [
    {
     "name": "stdout",
     "output_type": "stream",
     "text": [
      "-16\n"
     ]
    }
   ],
   "source": [
    "print(s_odd-s_even)"
   ]
  },
  {
   "cell_type": "markdown",
   "metadata": {},
   "source": [
    "СВЕРЯЕМСЯ"
   ]
  },
  {
   "cell_type": "code",
   "execution_count": 19,
   "metadata": {},
   "outputs": [
    {
     "data": {
      "text/plain": [
       "323"
      ]
     },
     "execution_count": 19,
     "metadata": {},
     "output_type": "execute_result"
    }
   ],
   "source": [
    "s_odd = 0\n",
    "s_even = 0\n",
    "for i in range(ar1.shape[0]):\n",
    "    for j in range(ar1.shape[1]):\n",
    "        if (np.sum([i,j])%2==1):\n",
    "            s_odd+=ar1[i][j]\n",
    "        else:\n",
    "            s_even+=ar1[i][j]\n",
    "            \n",
    "s_odd"
   ]
  },
  {
   "cell_type": "code",
   "execution_count": 20,
   "metadata": {},
   "outputs": [
    {
     "data": {
      "text/plain": [
       "339"
      ]
     },
     "execution_count": 20,
     "metadata": {},
     "output_type": "execute_result"
    }
   ],
   "source": [
    "s_even"
   ]
  },
  {
   "cell_type": "code",
   "execution_count": 21,
   "metadata": {},
   "outputs": [
    {
     "data": {
      "text/plain": [
       "-16"
      ]
     },
     "execution_count": 21,
     "metadata": {},
     "output_type": "execute_result"
    }
   ],
   "source": [
    "s_odd-s_even"
   ]
  }
 ],
 "metadata": {
  "kernelspec": {
   "display_name": "Python 3",
   "language": "python",
   "name": "python3"
  },
  "language_info": {
   "codemirror_mode": {
    "name": "ipython",
    "version": 3
   },
   "file_extension": ".py",
   "mimetype": "text/x-python",
   "name": "python",
   "nbconvert_exporter": "python",
   "pygments_lexer": "ipython3",
   "version": "3.8.5"
  }
 },
 "nbformat": 4,
 "nbformat_minor": 4
}
