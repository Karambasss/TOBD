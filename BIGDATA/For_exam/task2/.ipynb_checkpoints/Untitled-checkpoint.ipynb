{
 "cells": [
  {
   "cell_type": "code",
   "execution_count": 2,
   "metadata": {},
   "outputs": [],
   "source": [
    "import sqlite3\n",
    "import pandas as pd \n",
    "from datetime import datetime\n"
   ]
  },
  {
   "cell_type": "code",
   "execution_count": 3,
   "metadata": {},
   "outputs": [],
   "source": [
    "connect = sqlite3.connect(\"data/Chinook_Sqlite.sqlite\")\n",
    "cursor = connect.cursor()"
   ]
  },
  {
   "cell_type": "code",
   "execution_count": 9,
   "metadata": {},
   "outputs": [
    {
     "data": {
      "text/plain": [
       "[('Music',),\n",
       " ('Movies',),\n",
       " ('TV Shows',),\n",
       " ('Audiobooks',),\n",
       " ('90’s Music',),\n",
       " ('Audiobooks',),\n",
       " ('Movies',),\n",
       " ('Music',),\n",
       " ('Music Videos',),\n",
       " ('TV Shows',),\n",
       " ('Brazilian Music',),\n",
       " ('Classical',),\n",
       " ('Classical 101 - Deep Cuts',),\n",
       " ('Classical 101 - Next Steps',),\n",
       " ('Classical 101 - The Basics',),\n",
       " ('Grunge',),\n",
       " ('Heavy Metal Classic',),\n",
       " ('On-The-Go 1',)]"
      ]
     },
     "execution_count": 9,
     "metadata": {},
     "output_type": "execute_result"
    }
   ],
   "source": [
    "query = \"SELECT Name FROM Playlist\"\n",
    "\n",
    "cursor.execute(query)\n",
    "\n",
    "cursor.fetchall()"
   ]
  },
  {
   "cell_type": "code",
   "execution_count": 22,
   "metadata": {},
   "outputs": [
    {
     "data": {
      "text/plain": [
       "[('Music', 6580, 1755366166)]"
      ]
     },
     "execution_count": 22,
     "metadata": {},
     "output_type": "execute_result"
    }
   ],
   "source": [
    "# join 2 и более таблиц\n",
    "\n",
    "query = \"\"\"SELECT Playlist.Name, Count(Track.Name), Sum(Track.Milliseconds) FROM Playlist\n",
    "            Inner Join PlaylistTrack \n",
    "            ON PlaylistTrack.PlaylistId = Playlist.PlaylistId\n",
    "            Inner Join Track\n",
    "            ON Track.TrackId = PlaylistTrack.TrackId\n",
    "            Where Playlist.Name = ?\n",
    "            \"\"\"\n",
    "\n",
    "cursor.execute(query, [\"Music\"])\n",
    "cursor.fetchall()"
   ]
  },
  {
   "cell_type": "code",
   "execution_count": null,
   "metadata": {},
   "outputs": [],
   "source": []
  }
 ],
 "metadata": {
  "kernelspec": {
   "display_name": "Python 3",
   "language": "python",
   "name": "python3"
  },
  "language_info": {
   "codemirror_mode": {
    "name": "ipython",
    "version": 3
   },
   "file_extension": ".py",
   "mimetype": "text/x-python",
   "name": "python",
   "nbconvert_exporter": "python",
   "pygments_lexer": "ipython3",
   "version": "3.8.5"
  }
 },
 "nbformat": 4,
 "nbformat_minor": 4
}
