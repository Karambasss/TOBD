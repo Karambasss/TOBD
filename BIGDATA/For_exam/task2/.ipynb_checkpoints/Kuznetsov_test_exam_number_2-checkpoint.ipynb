{
 "cells": [
  {
   "cell_type": "markdown",
   "metadata": {},
   "source": [
    "2. Датасет: Chinook_Sqlite.sqlite \n",
    "С помощью кода на Python с использованием sqlite3 и SQL решить задачу. Реализовать функции на Python:\n",
    "1. Которая возвращает все имеющиеся жанры. \n",
    "2. Которая возвращает ID жанров, в которых написано более 100 треков, и их (жанров) название.\n"
   ]
  },
  {
   "cell_type": "code",
   "execution_count": 18,
   "metadata": {},
   "outputs": [],
   "source": [
    "import sqlite3\n",
    "import csv\n",
    "from datetime import datetime\n",
    "\n",
    "DATA_DIR = \"data/\""
   ]
  },
  {
   "cell_type": "markdown",
   "metadata": {},
   "source": [
    "Которая возвращает все имеющиеся жанры."
   ]
  },
  {
   "cell_type": "code",
   "execution_count": 19,
   "metadata": {},
   "outputs": [],
   "source": [
    "connect = sqlite3.connect(DATA_DIR + \"Chinook_Sqlite.sqlite\")\n",
    "cursor = connect.cursor()"
   ]
  },
  {
   "cell_type": "code",
   "execution_count": 30,
   "metadata": {},
   "outputs": [
    {
     "name": "stdout",
     "output_type": "stream",
     "text": [
      "[(1, 'Rock'), (2, 'Jazz'), (3, 'Metal'), (4, 'Alternative & Punk'), (5, 'Rock And Roll'), (6, 'Blues'), (7, 'Latin'), (8, 'Reggae'), (9, 'Pop'), (10, 'Soundtrack'), (11, 'Bossa Nova'), (12, 'Easy Listening'), (13, 'Heavy Metal'), (14, 'R&B/Soul'), (15, 'Electronica/Dance'), (16, 'World'), (17, 'Hip Hop/Rap'), (18, 'Science Fiction'), (19, 'TV Shows'), (20, 'Sci Fi & Fantasy'), (21, 'Drama'), (22, 'Comedy'), (23, 'Alternative'), (24, 'Classical'), (25, 'Opera')]\n",
      "\n",
      "\n",
      "[('Rock',), ('Jazz',), ('Metal',), ('Alternative & Punk',), ('Rock And Roll',), ('Blues',), ('Latin',), ('Reggae',), ('Pop',), ('Soundtrack',), ('Bossa Nova',), ('Easy Listening',), ('Heavy Metal',), ('R&B/Soul',), ('Electronica/Dance',), ('World',), ('Hip Hop/Rap',), ('Science Fiction',), ('TV Shows',), ('Sci Fi & Fantasy',), ('Drama',), ('Comedy',), ('Alternative',), ('Classical',), ('Opera',)]\n"
     ]
    }
   ],
   "source": [
    "query = \"SELECT * FROM GENRE\"\n",
    "\n",
    "cursor.execute(query)\n",
    "list_of_genres = cursor.fetchall()\n",
    "print(list_of_genres)\n",
    "\n",
    "print(\"\\n\")\n",
    "\n",
    "query2 = \"SELECT NAME FROM GENRE\"\n",
    "cursor.execute(query2)\n",
    "list_of_names_genres = cursor.fetchall()\n",
    "print(list_of_names_genres)"
   ]
  },
  {
   "cell_type": "markdown",
   "metadata": {},
   "source": [
    "Которая возвращает ID жанров, в которых написано более 100 треков, и их (жанров) название."
   ]
  },
  {
   "cell_type": "code",
   "execution_count": 43,
   "metadata": {},
   "outputs": [
    {
     "data": {
      "text/plain": [
       "[(1, 'Rock'),\n",
       " (2, 'Jazz'),\n",
       " (3, 'Metal'),\n",
       " (4, 'Alternative & Punk'),\n",
       " (7, 'Latin')]"
      ]
     },
     "execution_count": 43,
     "metadata": {},
     "output_type": "execute_result"
    }
   ],
   "source": [
    "query = \"\"\"SELECT Track.GenreId, Genre.Name FROM Track \n",
    "            INNER JOIN Genre\n",
    "            ON Genre.GenreId = Track.GenreId\n",
    "            GROUP BY Track.GenreId\n",
    "            HAVING COUNT(Track.GenreId) > 100\n",
    "        \"\"\"\n",
    "\n",
    "cursor.execute(query)\n",
    "a = cursor.fetchall()\n",
    "a"
   ]
  }
 ],
 "metadata": {
  "kernelspec": {
   "display_name": "Python 3",
   "language": "python",
   "name": "python3"
  },
  "language_info": {
   "codemirror_mode": {
    "name": "ipython",
    "version": 3
   },
   "file_extension": ".py",
   "mimetype": "text/x-python",
   "name": "python",
   "nbconvert_exporter": "python",
   "pygments_lexer": "ipython3",
   "version": "3.8.5"
  }
 },
 "nbformat": 4,
 "nbformat_minor": 4
}
