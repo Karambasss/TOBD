{
 "cells": [
  {
   "cell_type": "markdown",
   "metadata": {},
   "source": [
    "1. Задан двухмерный массив ar1 размерности (10, 10), состоящий из случайных целых чисел в пределах от 0 до 15. Вычислить разность s_odd - s_even, где s_odd - сумма элементов, стоящих на позиции (x, y), где (x + y) является нечетным числом; s_even - сумма элементов, стоящих на позиции (x, y), где (x + y) является четным числом.\n",
    "Решить задачу средствами numpy и/или pandas. Не использовать циклы и конструкции стандартного Python там, где можно использовать возможности данных библиотек\n"
   ]
  },
  {
   "cell_type": "code",
   "execution_count": 1,
   "metadata": {},
   "outputs": [],
   "source": [
    "import numpy as np"
   ]
  },
  {
   "cell_type": "code",
   "execution_count": 2,
   "metadata": {},
   "outputs": [
    {
     "data": {
      "text/plain": [
       "array([[ 4, 12,  4,  5, 14,  1,  6, 13, 12,  9],\n",
       "       [10,  4, 10,  3, 14, 13,  5, 12,  3,  0],\n",
       "       [ 6,  5,  6,  2,  9,  0,  3,  8,  9, 14],\n",
       "       [ 8,  3, 13,  1,  4,  3,  4,  6, 10, 10],\n",
       "       [ 4,  5,  9, 10, 11,  3,  3,  9, 13, 14],\n",
       "       [ 8,  4,  0,  8,  5, 14, 13,  5,  4,  9],\n",
       "       [ 6,  6,  4,  2, 13,  2,  7, 10, 11,  4],\n",
       "       [ 5, 14, 12,  7,  4,  3,  0,  9,  6, 13],\n",
       "       [11, 11, 11,  0,  9,  3,  9,  9, 10,  2],\n",
       "       [ 8,  4,  3,  2,  9,  1,  9,  2, 14,  8]])"
      ]
     },
     "execution_count": 2,
     "metadata": {},
     "output_type": "execute_result"
    }
   ],
   "source": [
    "ar1 = np.random.randint(0,15,size =(10,10))\n",
    "ar1"
   ]
  },
  {
   "cell_type": "code",
   "execution_count": null,
   "metadata": {},
   "outputs": [],
   "source": [
    "КАК СТОЯТ ЭЛЕМЕНТЫ\n",
    "\n",
    "четн нечетн четн нечетн\n",
    "нечетн четн нечетн четн \n",
    "четн нечетн четн нечетн \n",
    "нечетн четн нечетн четн"
   ]
  },
  {
   "cell_type": "code",
   "execution_count": 3,
   "metadata": {},
   "outputs": [
    {
     "data": {
      "text/plain": [
       "array([[ 4, 12,  4,  5, 14,  1,  6, 13, 12,  9],\n",
       "       [ 6,  5,  6,  2,  9,  0,  3,  8,  9, 14],\n",
       "       [ 4,  5,  9, 10, 11,  3,  3,  9, 13, 14],\n",
       "       [ 6,  6,  4,  2, 13,  2,  7, 10, 11,  4],\n",
       "       [11, 11, 11,  0,  9,  3,  9,  9, 10,  2]])"
      ]
     },
     "execution_count": 3,
     "metadata": {},
     "output_type": "execute_result"
    }
   ],
   "source": [
    "ar1[::2]"
   ]
  },
  {
   "cell_type": "code",
   "execution_count": 4,
   "metadata": {},
   "outputs": [
    {
     "data": {
      "text/plain": [
       "array([[10,  4, 10,  3, 14, 13,  5, 12,  3,  0],\n",
       "       [ 8,  3, 13,  1,  4,  3,  4,  6, 10, 10],\n",
       "       [ 8,  4,  0,  8,  5, 14, 13,  5,  4,  9],\n",
       "       [ 5, 14, 12,  7,  4,  3,  0,  9,  6, 13],\n",
       "       [ 8,  4,  3,  2,  9,  1,  9,  2, 14,  8]])"
      ]
     },
     "execution_count": 4,
     "metadata": {},
     "output_type": "execute_result"
    }
   ],
   "source": [
    "ar1[1::2]"
   ]
  },
  {
   "cell_type": "code",
   "execution_count": 38,
   "metadata": {},
   "outputs": [
    {
     "data": {
      "text/plain": [
       "339"
      ]
     },
     "execution_count": 38,
     "metadata": {},
     "output_type": "execute_result"
    }
   ],
   "source": [
    "s_even = np.sum((ar1[::2,::2], ar1[1::2,1::2]))\n",
    "s_even"
   ]
  },
  {
   "cell_type": "code",
   "execution_count": 39,
   "metadata": {},
   "outputs": [
    {
     "data": {
      "text/plain": [
       "323"
      ]
     },
     "execution_count": 39,
     "metadata": {},
     "output_type": "execute_result"
    }
   ],
   "source": [
    "s_odd = np.sum((ar1[1::2,::2], ar1[::2,1::2]))\n",
    "s_odd"
   ]
  },
  {
   "cell_type": "code",
   "execution_count": 34,
   "metadata": {},
   "outputs": [
    {
     "name": "stdout",
     "output_type": "stream",
     "text": [
      "-16\n"
     ]
    }
   ],
   "source": [
    "print(s_odd-s_even)"
   ]
  },
  {
   "cell_type": "markdown",
   "metadata": {},
   "source": [
    "СВЕРЯЕМСЯ"
   ]
  },
  {
   "cell_type": "code",
   "execution_count": 19,
   "metadata": {},
   "outputs": [
    {
     "data": {
      "text/plain": [
       "323"
      ]
     },
     "execution_count": 19,
     "metadata": {},
     "output_type": "execute_result"
    }
   ],
   "source": [
    "s_odd = 0\n",
    "s_even = 0\n",
    "for i in range(ar1.shape[0]):\n",
    "    for j in range(ar1.shape[1]):\n",
    "        if (np.sum([i,j])%2==1):\n",
    "            s_odd+=ar1[i][j]\n",
    "        else:\n",
    "            s_even+=ar1[i][j]\n",
    "            \n",
    "s_odd"
   ]
  },
  {
   "cell_type": "code",
   "execution_count": 20,
   "metadata": {},
   "outputs": [
    {
     "data": {
      "text/plain": [
       "339"
      ]
     },
     "execution_count": 20,
     "metadata": {},
     "output_type": "execute_result"
    }
   ],
   "source": [
    "s_even"
   ]
  },
  {
   "cell_type": "code",
   "execution_count": 21,
   "metadata": {},
   "outputs": [
    {
     "data": {
      "text/plain": [
       "-16"
      ]
     },
     "execution_count": 21,
     "metadata": {},
     "output_type": "execute_result"
    }
   ],
   "source": [
    "s_odd-s_even"
   ]
  },
  {
   "cell_type": "code",
   "execution_count": 7,
   "metadata": {},
   "outputs": [
    {
     "data": {
      "text/plain": [
       "array([[ 4,  6, 10,  4,  9],\n",
       "       [ 3,  5,  9,  3,  8],\n",
       "       [ 0,  2,  6,  0,  5],\n",
       "       [ 0,  2,  6,  0,  5],\n",
       "       [ 8, 10, 14,  8, 13]])"
      ]
     },
     "execution_count": 7,
     "metadata": {},
     "output_type": "execute_result"
    }
   ],
   "source": [
    "import numpy as np\n",
    "t = np.array([[8,4,15,6,9],\n",
    "             [3,16,13,8,10],\n",
    "             [0,9,18,17,5],\n",
    "             [16,2,6,0,19],\n",
    "             [18,13,9,17,8]])\n",
    "np.resize(t.min(axis=1),(5,5)).transpose() + t.min(axis =0)"
   ]
  },
  {
   "cell_type": "code",
   "execution_count": 9,
   "metadata": {},
   "outputs": [
    {
     "data": {
      "text/plain": [
       "array([0, 2, 6, 0, 5])"
      ]
     },
     "execution_count": 9,
     "metadata": {},
     "output_type": "execute_result"
    }
   ],
   "source": [
    "t.min(axis=0)"
   ]
  },
  {
   "cell_type": "code",
   "execution_count": null,
   "metadata": {},
   "outputs": [],
   "source": []
  }
 ],
 "metadata": {
  "kernelspec": {
   "display_name": "Python 3",
   "language": "python",
   "name": "python3"
  },
  "language_info": {
   "codemirror_mode": {
    "name": "ipython",
    "version": 3
   },
   "file_extension": ".py",
   "mimetype": "text/x-python",
   "name": "python",
   "nbconvert_exporter": "python",
   "pygments_lexer": "ipython3",
   "version": "3.8.5"
  }
 },
 "nbformat": 4,
 "nbformat_minor": 4
}
