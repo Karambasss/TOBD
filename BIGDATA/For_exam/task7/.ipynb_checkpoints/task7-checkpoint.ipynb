{
 "cells": [
  {
   "cell_type": "code",
   "execution_count": 1,
   "metadata": {},
   "outputs": [],
   "source": [
    "import dask.dataframe as dd\n",
    "\n",
    "files = ['/Users/annapetrov/Downloads/study/TOBD_2021/exam/pract_exam/data/people/people.0.csv', \n",
    "         '/Users/annapetrov/Downloads/study/TOBD_2021/exam/pract_exam/data/people/people.1.csv', \n",
    "         '/Users/annapetrov/Downloads/study/TOBD_2021/exam/pract_exam/data/people/people.2.csv']\n",
    "\n",
    "people1 = dd.read_csv(files[0])\n",
    "people2 = dd.read_csv(files[1])\n",
    "people3 = dd.read_csv(files[2])\n",
    "\n",
    "peoples_files = [people1, people2, people3]"
   ]
  },
  {
   "cell_type": "code",
   "execution_count": 2,
   "metadata": {},
   "outputs": [],
   "source": [
    "def find_cards(file):\n",
    "    card = []\n",
    "    sum_ = 0\n",
    "    for i in file['card']:\n",
    "        sum_ = 0\n",
    "        for a in i:\n",
    "            if a.isnumeric():\n",
    "                sum_ += int(a)\n",
    "        if sum_ % 7 == 0:\n",
    "            card.append(i)\n",
    "    return card"
   ]
  },
  {
   "cell_type": "code",
   "execution_count": 3,
   "metadata": {},
   "outputs": [
    {
     "name": "stdout",
     "output_type": "stream",
     "text": [
      "CPU times: user 55.6 ms, sys: 3.96 ms, total: 59.6 ms\n",
      "Wall time: 58.2 ms\n"
     ]
    }
   ],
   "source": [
    "%%time\n",
    "for file in peoples_files:\n",
    "    find_cards(file)"
   ]
  },
  {
   "cell_type": "code",
   "execution_count": 4,
   "metadata": {},
   "outputs": [],
   "source": [
    "import dask\n",
    "import dask.delayed\n",
    "import dask.bag as db\n",
    "\n",
    "@dask.delayed\n",
    "def find_cards2(file):\n",
    "    card = []\n",
    "    sum_ = 0\n",
    "    for i in file['card']:\n",
    "        sum_ = 0\n",
    "        for a in i:\n",
    "            if a.isnumeric():\n",
    "                sum_ += int(a)\n",
    "        if sum_ % 7 == 0:\n",
    "            card.append(i)\n",
    "    return card"
   ]
  },
  {
   "cell_type": "code",
   "execution_count": 5,
   "metadata": {},
   "outputs": [
    {
     "name": "stdout",
     "output_type": "stream",
     "text": [
      "CPU times: user 1.72 ms, sys: 532 µs, total: 2.25 ms\n",
      "Wall time: 1.85 ms\n"
     ]
    }
   ],
   "source": [
    "%%time\n",
    "result = []\n",
    "for file in files:\n",
    "    result.append(find_cards2(peoples_files))"
   ]
  },
  {
   "cell_type": "code",
   "execution_count": 6,
   "metadata": {},
   "outputs": [
    {
     "data": {
      "text/plain": [
       "[Delayed('find_cards2-be39478f-0fff-4f7d-a3b9-fe3aaeba26c7'),\n",
       " Delayed('find_cards2-2efa254f-e2ee-4f87-a0d1-98d943617143'),\n",
       " Delayed('find_cards2-980c8997-986b-42d5-8fed-59dbb87ba3fe')]"
      ]
     },
     "execution_count": 6,
     "metadata": {},
     "output_type": "execute_result"
    }
   ],
   "source": [
    "result"
   ]
  },
  {
   "cell_type": "code",
   "execution_count": 7,
   "metadata": {},
   "outputs": [
    {
     "data": {
      "text/plain": [
       "dask.bag<bag-from-delayed, npartitions=3>"
      ]
     },
     "execution_count": 7,
     "metadata": {},
     "output_type": "execute_result"
    }
   ],
   "source": [
    "bag = db.from_delayed(result)\n",
    "bag"
   ]
  }
 ],
 "metadata": {
  "kernelspec": {
   "display_name": "Python 3",
   "language": "python",
   "name": "python3"
  },
  "language_info": {
   "codemirror_mode": {
    "name": "ipython",
    "version": 3
   },
   "file_extension": ".py",
   "mimetype": "text/x-python",
   "name": "python",
   "nbconvert_exporter": "python",
   "pygments_lexer": "ipython3",
   "version": "3.8.5"
  }
 },
 "nbformat": 4,
 "nbformat_minor": 5
}
