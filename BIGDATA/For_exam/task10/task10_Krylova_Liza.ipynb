{
 "cells": [
  {
   "cell_type": "markdown",
   "id": "5eab54af",
   "metadata": {},
   "source": [
    "# Задание 10"
   ]
  },
  {
   "cell_type": "markdown",
   "id": "e63f2986",
   "metadata": {},
   "source": [
    "Создайте dask.array размерности 10 тыс на 5, заполненный случайными целыми числами на отрезке [0, 10]. Создайте версию этого массива, оставив только строки, в которых есть число 7"
   ]
  },
  {
   "cell_type": "code",
   "execution_count": 1,
   "id": "de5c91b9",
   "metadata": {},
   "outputs": [],
   "source": [
    "import dask.array as da"
   ]
  },
  {
   "cell_type": "code",
   "execution_count": 2,
   "id": "b2bcb5da",
   "metadata": {},
   "outputs": [
    {
     "name": "stdout",
     "output_type": "stream",
     "text": [
      "Wall time: 8.99 ms\n"
     ]
    },
    {
     "data": {
      "text/plain": [
       "array([[ 4,  0,  8,  0,  0],\n",
       "       [ 9,  3,  0,  2,  8],\n",
       "       [ 6, 10,  4,  4,  7],\n",
       "       ...,\n",
       "       [10,  1,  5,  6,  9],\n",
       "       [ 6,  7,  8,  8,  2],\n",
       "       [ 7,  3,  8, 10,  8]])"
      ]
     },
     "execution_count": 2,
     "metadata": {},
     "output_type": "execute_result"
    }
   ],
   "source": [
    "%%time\n",
    "arr_da = da.random.randint(low=0, high=11, size=(10_000, 5))\n",
    "arr_da.compute()"
   ]
  },
  {
   "cell_type": "code",
   "execution_count": 3,
   "id": "6c3b48d8",
   "metadata": {},
   "outputs": [
    {
     "data": {
      "text/plain": [
       "array([[ 6, 10,  4,  4,  7],\n",
       "       [ 1,  2,  7,  9,  2],\n",
       "       [ 6,  9,  4,  7,  7],\n",
       "       ...,\n",
       "       [ 2,  0,  5,  7,  0],\n",
       "       [ 6,  7,  8,  8,  2],\n",
       "       [ 7,  3,  8, 10,  8]])"
      ]
     },
     "execution_count": 3,
     "metadata": {},
     "output_type": "execute_result"
    }
   ],
   "source": [
    "result = arr_da[list(filter(lambda x: x > 0, (arr_da[:, :] == 7).any(axis=1).map_blocks(lambda x, n: x * n, list(range(10000))).compute())), :]\n",
    "result.compute()"
   ]
  },
  {
   "cell_type": "code",
   "execution_count": null,
   "id": "cd2cc0cd",
   "metadata": {},
   "outputs": [],
   "source": []
  }
 ],
 "metadata": {
  "kernelspec": {
   "display_name": "Python 3 (ipykernel)",
   "language": "python",
   "name": "python3"
  },
  "language_info": {
   "codemirror_mode": {
    "name": "ipython",
    "version": 3
   },
   "file_extension": ".py",
   "mimetype": "text/x-python",
   "name": "python",
   "nbconvert_exporter": "python",
   "pygments_lexer": "ipython3",
   "version": "3.7.3"
  }
 },
 "nbformat": 4,
 "nbformat_minor": 5
}
