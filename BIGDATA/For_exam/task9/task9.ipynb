{
 "cells": [
  {
   "cell_type": "markdown",
   "id": "3debe165",
   "metadata": {},
   "source": [
    "# Задача 9"
   ]
  },
  {
   "cell_type": "markdown",
   "id": "03216453",
   "metadata": {},
   "source": [
    "Сгенерируйте 10 строк длиной в 10000 символов, состоящих из маленьких английских букв. Посчитайте, сколько раз в этих 10 строках встречается шаблон \"x?y?z\", где знак вопроса обозначает один любой символ. Решение этой задачи распараллелить, используя multiprocessing Pool. Сравнить продолжительность последовательного и параллельного решения задачи."
   ]
  },
  {
   "cell_type": "code",
   "execution_count": 1,
   "id": "a54f668a",
   "metadata": {},
   "outputs": [],
   "source": [
    "import random\n",
    "import re\n",
    "import string"
   ]
  },
  {
   "cell_type": "markdown",
   "id": "21e2663c",
   "metadata": {},
   "source": [
    "### Генерация строк"
   ]
  },
  {
   "cell_type": "code",
   "execution_count": 2,
   "id": "95ac8b42",
   "metadata": {},
   "outputs": [],
   "source": [
    "#Кол-во символов в строке\n",
    "str_len = 10000\n",
    "#Кол-во строк\n",
    "str_count = 10"
   ]
  },
  {
   "cell_type": "code",
   "execution_count": 3,
   "id": "2f46807f",
   "metadata": {},
   "outputs": [],
   "source": [
    "#Формируем список строк\n",
    "str_list = []\n",
    "for _ in range(str_count):\n",
    "    buffer = ''.join(random.choice(string.ascii_lowercase) for _ in range(str_len))\n",
    "    str_list.append(buffer)"
   ]
  },
  {
   "cell_type": "markdown",
   "id": "a3d3df1b",
   "metadata": {},
   "source": [
    "### Поиск по шаблону"
   ]
  },
  {
   "cell_type": "code",
   "execution_count": 4,
   "id": "b302be10",
   "metadata": {},
   "outputs": [
    {
     "name": "stdout",
     "output_type": "stream",
     "text": [
      "Overwriting find_by_pattern.py\n"
     ]
    }
   ],
   "source": [
    "%%file find_by_pattern.py\n",
    "import re\n",
    "def find_by_pattern(data: str) -> int:\n",
    "    return len(re.findall(r'x.y.z', data))"
   ]
  },
  {
   "cell_type": "code",
   "execution_count": 5,
   "id": "bcbf3efa",
   "metadata": {},
   "outputs": [],
   "source": [
    "from find_by_pattern import find_by_pattern"
   ]
  },
  {
   "cell_type": "markdown",
   "id": "a5b07d41",
   "metadata": {},
   "source": [
    "### Последовательное выполнение"
   ]
  },
  {
   "cell_type": "code",
   "execution_count": 6,
   "id": "211c9953",
   "metadata": {},
   "outputs": [
    {
     "name": "stdout",
     "output_type": "stream",
     "text": [
      "CPU times: user 354 µs, sys: 1 µs, total: 355 µs\n",
      "Wall time: 359 µs\n"
     ]
    }
   ],
   "source": [
    "%%time\n",
    "for item in str_list:\n",
    "    find_by_pattern(item)"
   ]
  },
  {
   "cell_type": "markdown",
   "id": "80c5659e",
   "metadata": {},
   "source": [
    "### Параллельное выполнение"
   ]
  },
  {
   "cell_type": "code",
   "execution_count": 7,
   "id": "d598673c",
   "metadata": {},
   "outputs": [],
   "source": [
    "import multiprocessing as mp"
   ]
  },
  {
   "cell_type": "code",
   "execution_count": 8,
   "id": "f9f65c8f",
   "metadata": {},
   "outputs": [
    {
     "name": "stdout",
     "output_type": "stream",
     "text": [
      "CPU times: user 16.6 ms, sys: 42.9 ms, total: 59.5 ms\n",
      "Wall time: 155 ms\n"
     ]
    }
   ],
   "source": [
    "%%time\n",
    "if __name__ == \"__main__\":\n",
    "    with mp.Pool(processes=str_count) as pool:\n",
    "        counters = pool.map(find_by_pattern, str_list)"
   ]
  },
  {
   "cell_type": "markdown",
   "id": "0f53f136",
   "metadata": {},
   "source": [
    "### Выводы"
   ]
  },
  {
   "cell_type": "markdown",
   "id": "0106dff4",
   "metadata": {},
   "source": [
    "Паралельное выполнение намного медленнее т.к. re.match достаточно легкая операция, а потоки создавать намного дольше, чем выполнить саму операцию - отсюда и последовательное выполнение быстрее"
   ]
  },
  {
   "cell_type": "code",
   "execution_count": null,
   "id": "29481b3b",
   "metadata": {},
   "outputs": [],
   "source": []
  }
 ],
 "metadata": {
  "kernelspec": {
   "display_name": "Python 3 (ipykernel)",
   "language": "python",
   "name": "python3"
  },
  "language_info": {
   "codemirror_mode": {
    "name": "ipython",
    "version": 3
   },
   "file_extension": ".py",
   "mimetype": "text/x-python",
   "name": "python",
   "nbconvert_exporter": "python",
   "pygments_lexer": "ipython3",
   "version": "3.9.9"
  }
 },
 "nbformat": 4,
 "nbformat_minor": 5
}
