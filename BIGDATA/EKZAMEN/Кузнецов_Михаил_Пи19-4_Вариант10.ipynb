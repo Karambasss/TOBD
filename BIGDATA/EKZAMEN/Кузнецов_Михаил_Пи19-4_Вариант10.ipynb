{
 "cells": [
  {
   "cell_type": "markdown",
   "metadata": {},
   "source": [
    "ЗАДАНИЕ 2"
   ]
  },
  {
   "cell_type": "code",
   "execution_count": 1,
   "metadata": {},
   "outputs": [],
   "source": [
    "import sqlite3\n",
    "\n",
    "connection = sqlite3.connect(\"датасеты_к_заданию_2/Chinook_Sqlite.sqlite\")"
   ]
  },
  {
   "cell_type": "code",
   "execution_count": 9,
   "metadata": {},
   "outputs": [],
   "source": [
    "cur = connection.cursor()"
   ]
  },
  {
   "cell_type": "code",
   "execution_count": 14,
   "metadata": {},
   "outputs": [],
   "source": [
    "def findAlbumForArtist(name_artist):\n",
    "    first_q = \"\"\"Select ArtistId From Artist WHERE Name = ?\"\"\"\n",
    "    id_artist = cur.execute(first_q, [name_artist]).fetchall()\n",
    "    id_artist =  id_artist[0][0]\n",
    "    q_itog = 'Select Title FROM Album WHERE ArtistId = ?'\n",
    "    res = cur.execute(q_itog, [id_artist]).fetchall()\n",
    "    return res\n",
    "    "
   ]
  },
  {
   "cell_type": "code",
   "execution_count": 15,
   "metadata": {},
   "outputs": [
    {
     "data": {
      "text/plain": [
       "[('For Those About To Rock We Salute You',), ('Let There Be Rock',)]"
      ]
     },
     "execution_count": 15,
     "metadata": {},
     "output_type": "execute_result"
    }
   ],
   "source": [
    "findAlbumForArtist(\"AC/DC\")"
   ]
  },
  {
   "cell_type": "code",
   "execution_count": 17,
   "metadata": {},
   "outputs": [],
   "source": [
    "def getCountTrackAndSummaryTimeForArtist(name_artist, name_album):\n",
    "    first_q = \"Select ArtistId From Artist WHERE Name = ?\"\n",
    "    id_artist = cur.execute(first_q, [name_artist]).fetchall()\n",
    "    \n",
    "    id_artist =  id_artist[0][0]\n",
    "    q_itog = 'Select AlbumId FROM Album WHERE Title = ? AND ArtistId = ?'\n",
    "    album_id = cur.execute(q_itog, [name_album, id_artist]).fetchall()\n",
    "    album_id = album_id[0][0]\n",
    "    \n",
    "    q_count_tracks = 'Select COUNT(Name) FROM Track WHERE AlbumId = ?'\n",
    "    count_tracks = cur.execute(q_count_tracks, [album_id]).fetchall()\n",
    "    \n",
    "    q_sum_len = 'Select SUM(Milliseconds) FROM Track WHERE AlbumId = ?'\n",
    "    len_tracks = cur.execute(q_sum_len, [album_id]).fetchall()\n",
    "    \n",
    "    return count_tracks[0][0], len_tracks[0][0]"
   ]
  },
  {
   "cell_type": "code",
   "execution_count": 22,
   "metadata": {},
   "outputs": [
    {
     "data": {
      "text/plain": [
       "(8, 2453259)"
      ]
     },
     "execution_count": 22,
     "metadata": {},
     "output_type": "execute_result"
    }
   ],
   "source": [
    "count, len_tracks = getCountTrackAndSummaryTimeForArtist(\"AC/DC\", \"Let There Be Rock\")\n",
    "\n",
    "count, len_tracks"
   ]
  },
  {
   "cell_type": "markdown",
   "metadata": {},
   "source": [
    "ЗАДАНИЕ 3"
   ]
  },
  {
   "cell_type": "code",
   "execution_count": 58,
   "metadata": {},
   "outputs": [],
   "source": [
    "import dask as dd\n",
    "from glob import glob\n",
    "import pandas as pd\n",
    "from dask import compute, delayed\n",
    "from collections import defaultdict, OrderedDict\n",
    "from pprint import pprint"
   ]
  },
  {
   "cell_type": "code",
   "execution_count": 59,
   "metadata": {},
   "outputs": [
    {
     "data": {
      "text/plain": [
       "['датасеты_к_заданию_3/data\\\\accounts.0.csv',\n",
       " 'датасеты_к_заданию_3/data\\\\accounts.1.csv',\n",
       " 'датасеты_к_заданию_3/data\\\\accounts.2.csv',\n",
       " 'датасеты_к_заданию_3/data\\\\accounts.3.csv',\n",
       " 'датасеты_к_заданию_3/data\\\\accounts.4.csv',\n",
       " 'датасеты_к_заданию_3/data\\\\accounts.5.csv']"
      ]
     },
     "execution_count": 59,
     "metadata": {},
     "output_type": "execute_result"
    }
   ],
   "source": [
    "filenames = sorted(glob(\"датасеты_к_заданию_3/data/*.csv\"))\n",
    "\n",
    "filenames"
   ]
  },
  {
   "cell_type": "code",
   "execution_count": 60,
   "metadata": {},
   "outputs": [],
   "source": [
    "sums = []\n",
    "\n",
    "for x in filenames:\n",
    "    df = delayed(pd.read_csv)(x)\n",
    "    t = df[(df.amount > 999) & (df.amount < 1501)][[\"id\",\"amount\"]].groupby(df.id).size()\n",
    "    sums.append(t)"
   ]
  },
  {
   "cell_type": "code",
   "execution_count": 61,
   "metadata": {
    "scrolled": true
   },
   "outputs": [
    {
     "data": {
      "text/plain": [
       "([id\n",
       "  2         6\n",
       "  3         1\n",
       "  4      2282\n",
       "  10      912\n",
       "  15     4120\n",
       "         ... \n",
       "  487     291\n",
       "  492     151\n",
       "  494      56\n",
       "  496       3\n",
       "  497      16\n",
       "  Length: 121, dtype: int64,\n",
       "  id\n",
       "  2          7\n",
       "  3          2\n",
       "  4       2099\n",
       "  10      1001\n",
       "  15      4035\n",
       "         ...  \n",
       "  485    11373\n",
       "  487      299\n",
       "  492      138\n",
       "  494       50\n",
       "  497       16\n",
       "  Length: 121, dtype: int64,\n",
       "  id\n",
       "  2          9\n",
       "  3          1\n",
       "  4       2214\n",
       "  10       954\n",
       "  15      3994\n",
       "         ...  \n",
       "  485    11156\n",
       "  487      294\n",
       "  492      132\n",
       "  494       42\n",
       "  497       12\n",
       "  Length: 121, dtype: int64,\n",
       "  id\n",
       "  2          3\n",
       "  3          1\n",
       "  4       2155\n",
       "  10       999\n",
       "  15      4053\n",
       "         ...  \n",
       "  485    11390\n",
       "  487      312\n",
       "  492      115\n",
       "  494       47\n",
       "  497       21\n",
       "  Length: 118, dtype: int64,\n",
       "  id\n",
       "  2          5\n",
       "  3          1\n",
       "  4       2124\n",
       "  10       992\n",
       "  15      3929\n",
       "         ...  \n",
       "  485    11337\n",
       "  487      311\n",
       "  492      135\n",
       "  494       50\n",
       "  497       17\n",
       "  Length: 119, dtype: int64,\n",
       "  id\n",
       "  2          4\n",
       "  4       2220\n",
       "  10       920\n",
       "  15      3995\n",
       "  23       247\n",
       "         ...  \n",
       "  485    11097\n",
       "  487      289\n",
       "  492      151\n",
       "  494       47\n",
       "  497       14\n",
       "  Length: 116, dtype: int64],)"
      ]
     },
     "execution_count": 61,
     "metadata": {},
     "output_type": "execute_result"
    }
   ],
   "source": [
    "sums = compute(sums)\n",
    "sums"
   ]
  },
  {
   "cell_type": "code",
   "execution_count": 63,
   "metadata": {},
   "outputs": [
    {
     "name": "stdout",
     "output_type": "stream",
     "text": [
      "485\n"
     ]
    }
   ],
   "source": [
    "final = defaultdict(lambda: 0)\n",
    "\n",
    "for df in sums[0]:\n",
    "    for k, v in df.to_dict().items():\n",
    "        final[k] = final[k] + v\n",
    "print(sorted(final.items(), key=lambda x: x[1], reverse=True)[0][0])"
   ]
  }
 ],
 "metadata": {
  "kernelspec": {
   "display_name": "Python 3",
   "language": "python",
   "name": "python3"
  },
  "language_info": {
   "codemirror_mode": {
    "name": "ipython",
    "version": 3
   },
   "file_extension": ".py",
   "mimetype": "text/x-python",
   "name": "python",
   "nbconvert_exporter": "python",
   "pygments_lexer": "ipython3",
   "version": "3.8.5"
  }
 },
 "nbformat": 4,
 "nbformat_minor": 4
}
